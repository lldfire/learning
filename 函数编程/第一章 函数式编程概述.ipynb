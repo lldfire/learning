{
 "cells": [
  {
   "cell_type": "code",
   "execution_count": 12,
   "metadata": {},
   "outputs": [],
   "source": [
    "def next_(n, x):\n",
    "    return (x + n / x) / 2\n",
    "\n",
    "\n",
    "def repeat(f, a):\n",
    "    yield a\n",
    "    for v in repeat(f, f(a)):\n",
    "        yield v\n",
    "        \n",
    "        \n",
    "def within(ε, iterable):\n",
    "    def head_tail(ε, a, iterable):\n",
    "        b = next(iterable)\n",
    "        if abs(a-b) <= ε:\n",
    "            return b\n",
    "        return head_tail(ε, b, iterable)\n",
    "    return head_tail(ε, next(iterable), iterable)\n",
    "\n",
    "def sqrt(a0, ε, n):\n",
    "    return within(ε, repeat(lambda x: next_(n,x), a0))"
   ]
  },
  {
   "cell_type": "code",
   "execution_count": 15,
   "metadata": {},
   "outputs": [
    {
     "data": {
      "text/plain": [
       "1.7320508075688772"
      ]
     },
     "execution_count": 15,
     "metadata": {},
     "output_type": "execute_result"
    }
   ],
   "source": [
    "sqrt(1, 0.000001, 3)"
   ]
  },
  {
   "cell_type": "code",
   "execution_count": 14,
   "metadata": {},
   "outputs": [
    {
     "data": {
      "text/plain": [
       "1.9999999999999996"
      ]
     },
     "execution_count": 14,
     "metadata": {},
     "output_type": "execute_result"
    }
   ],
   "source": [
    "1.414213562373095 * 1.414213562373095"
   ]
  },
  {
   "cell_type": "code",
   "execution_count": null,
   "metadata": {},
   "outputs": [],
   "source": []
  }
 ],
 "metadata": {
  "kernelspec": {
   "display_name": "Python 3",
   "language": "python",
   "name": "python3"
  },
  "language_info": {
   "codemirror_mode": {
    "name": "ipython",
    "version": 3
   },
   "file_extension": ".py",
   "mimetype": "text/x-python",
   "name": "python",
   "nbconvert_exporter": "python",
   "pygments_lexer": "ipython3",
   "version": "3.7.2"
  }
 },
 "nbformat": 4,
 "nbformat_minor": 4
}
