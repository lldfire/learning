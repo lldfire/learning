{
 "cells": [
  {
   "cell_type": "markdown",
   "metadata": {},
   "source": [
    "### 1、计算平方根"
   ]
  },
  {
   "cell_type": "code",
   "execution_count": 12,
   "metadata": {},
   "outputs": [],
   "source": [
    "def next_(n, x):\n",
    "    return (x + n / x) / 2\n",
    "\n",
    "\n",
    "def repeat(f, a):\n",
    "    yield a\n",
    "    for v in repeat(f, f(a)):\n",
    "        yield v\n",
    "        \n",
    "        \n",
    "def within(ε, iterable):\n",
    "    def head_tail(ε, a, iterable):\n",
    "        b = next(iterable)\n",
    "        if abs(a-b) <= ε:\n",
    "            return b\n",
    "        return head_tail(ε, b, iterable)\n",
    "    return head_tail(ε, next(iterable), iterable)\n",
    "\n",
    "def sqrt(a0, ε, n):\n",
    "    return within(ε, repeat(lambda x: next_(n,x), a0))"
   ]
  },
  {
   "cell_type": "markdown",
   "metadata": {},
   "source": [
    "### 2、递归求质数"
   ]
  },
  {
   "cell_type": "code",
   "execution_count": 1,
   "metadata": {},
   "outputs": [],
   "source": [
    "def isprimer(n: int) -> bool:\n",
    "    \"\"\"判断2到根号n之间的数有无n的约数\"\"\"\n",
    "    def isprime(k: int, coprime: int) -> bool:\n",
    "        \"\"\"Is k relatively prime to the value coprime?\"\"\"\n",
    "        \n",
    "        # 右区间\n",
    "        if k < coprime * coprime:\n",
    "            return True\n",
    "        if k % coprime == 0:\n",
    "            return False\n",
    "        return isprime(k, coprime+2)\n",
    "    \n",
    "    # 小于2的\n",
    "    if n < 2:\n",
    "        return False\n",
    "    # 2是最小的质数\n",
    "    if n == 2:\n",
    "        return True\n",
    "    # 偶数不是质数\n",
    "    if n % 2 == 0:\n",
    "        return False\n",
    "    return isprime(n, 3)"
   ]
  },
  {
   "cell_type": "code",
   "execution_count": 3,
   "metadata": {},
   "outputs": [
    {
     "data": {
      "text/plain": [
       "False"
      ]
     },
     "execution_count": 3,
     "metadata": {},
     "output_type": "execute_result"
    }
   ],
   "source": [
    "isprimer()"
   ]
  },
  {
   "cell_type": "code",
   "execution_count": null,
   "metadata": {},
   "outputs": [],
   "source": []
  }
 ],
 "metadata": {
  "kernelspec": {
   "display_name": "Python 3",
   "language": "python",
   "name": "python3"
  },
  "language_info": {
   "codemirror_mode": {
    "name": "ipython",
    "version": 3
   },
   "file_extension": ".py",
   "mimetype": "text/x-python",
   "name": "python",
   "nbconvert_exporter": "python",
   "pygments_lexer": "ipython3",
   "version": "3.7.2"
  }
 },
 "nbformat": 4,
 "nbformat_minor": 4
}
