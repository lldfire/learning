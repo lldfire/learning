{
 "cells": [
  {
   "cell_type": "markdown",
   "metadata": {},
   "source": [
    "### @property 的使用\n",
    "作用：将类的方法伪装成属性调用的形式，并支持对属性的修改"
   ]
  },
  {
   "cell_type": "markdown",
   "metadata": {},
   "source": [
    "#### 不使用装饰器"
   ]
  },
  {
   "cell_type": "code",
   "execution_count": 2,
   "metadata": {},
   "outputs": [],
   "source": [
    "class Student_():\n",
    "    def __init__(self,name,score = 0):\n",
    "        self.name = name\n",
    "        self.score = score\n",
    "        \n",
    "    def sayhello(self):\n",
    "        print('hello')\n",
    "        \n",
    "    @property\n",
    "    def sayhello2(self):\n",
    "        print('hello')"
   ]
  },
  {
   "cell_type": "code",
   "execution_count": 4,
   "metadata": {},
   "outputs": [
    {
     "name": "stdout",
     "output_type": "stream",
     "text": [
      "不适用装饰器，调用sayhello\n",
      "hello\n",
      "适用装饰器，调用sayhello\n",
      "hello\n"
     ]
    }
   ],
   "source": [
    "s1 = Student_('jack', 12)  \n",
    "s1.name\n",
    "print('不适用装饰器，调用sayhello')\n",
    "s1.sayhello()\n",
    "print('适用装饰器，调用sayhello')\n",
    "s1.sayhello2"
   ]
  },
  {
   "cell_type": "markdown",
   "metadata": {},
   "source": [
    "#### property 支持修改某个方法"
   ]
  },
  {
   "cell_type": "code",
   "execution_count": 6,
   "metadata": {},
   "outputs": [],
   "source": [
    "class Student(object):\n",
    "\n",
    "    @property\n",
    "    def score(self):\n",
    "        return self._score\n",
    "\n",
    "    @score.setter\n",
    "    def score(self, value):\n",
    "        if not isinstance(value, int):\n",
    "            raise ValueError('score must be an integer!')\n",
    "        if value < 0 or value > 100:\n",
    "            raise ValueError('score must between 0 ~ 100!')\n",
    "        self._score = value"
   ]
  },
  {
   "cell_type": "code",
   "execution_count": 10,
   "metadata": {},
   "outputs": [],
   "source": [
    "s = Student()  \n",
    "s.score = 80   # 伪装为属性的方法, 方法为 s.score()\n",
    "s.socre"
   ]
  },
  {
   "cell_type": "code",
   "execution_count": 52,
   "metadata": {},
   "outputs": [],
   "source": [
    "class People:\n",
    "\n",
    "    def __init__(self, name, age):\n",
    "        self.__name = name    # 私密属性\n",
    "        self.__age = age\n",
    "        \n",
    "    # @property\n",
    "    def name(self):\n",
    "        return self.__name\n",
    "\n",
    "    @property\n",
    "    def age(self):       # 方法，将方法伪装为属性，可以同调用属性的方式调用fangfa\n",
    "        return self.__age\n",
    "\n",
    "    @age.setter\n",
    "    def age(self, age):\n",
    "        if isinstance(age, int):\n",
    "            self.__age = age\n",
    "        else:\n",
    "            raise ValueError\n",
    "\n",
    "    @age.deleter\n",
    "    def age(self):\n",
    "        print(\"删除年龄数据！\")"
   ]
  },
  {
   "cell_type": "code",
   "execution_count": 50,
   "metadata": {},
   "outputs": [
    {
     "name": "stdout",
     "output_type": "stream",
     "text": [
      "jason\n",
      "123\n"
     ]
    }
   ],
   "source": [
    "people = People('jason', 123)\n",
    "print(people.name())   # 不适用装饰器\n",
    "print(people.age)      # 使用装饰器"
   ]
  },
  {
   "cell_type": "markdown",
   "metadata": {},
   "source": [
    "### @staticmethod 静态方法\n",
    "#### 实例方法、静态方法、类方法的区别\n",
    "1. 实例方法\n",
    "    + 定义：第一个参数必须是实例对象，该参数名一般约定为“self”，通过它来传递实例的属性和方法（也可以传类的属性和方法）；\n",
    "    + 调用：只能由实例对象调用。\n",
    "2. 类方法\n",
    "    - 定义：使用装饰器@classmethod。第一个参数必须是当前类对象，该参数名一般约定为“cls”，通过它来传递类的属性和方法（不能传实例的属性和方法）；\n",
    "    - 调用：实例对象和类对象都可以调用。\n",
    "3. 静态方法\n",
    "    - 定义：使用装饰器@staticmethod。参数随意，没有“self”和“cls”参数，但是方法体中不能使用类或实例的任何属性和方法；\n",
    "    - 调用：实例对象和类对象都可以调用。\n",
    "    \n",
    "#### 功能\n",
    "将被装饰的函数从类中分离出来，该函数不能访问类的属性，简单说可以将该函数理解为一个独立的函数\n",
    "\n",
    "#### 使用\n",
    "即可使用类对象调用，也可使用实例对象调用"
   ]
  },
  {
   "cell_type": "code",
   "execution_count": 65,
   "metadata": {},
   "outputs": [],
   "source": [
    "class Animals:\n",
    "    def __init__(self, name):\n",
    "        self.name = name\n",
    "    \n",
    "    @staticmethod\n",
    "    def eat(name, food):\n",
    "        print(f'{name} eattiong {food}.')\n",
    "        \n",
    "    def run(self, place):\n",
    "        print(f'{self.name} flying {place}.')"
   ]
  },
  {
   "cell_type": "code",
   "execution_count": 72,
   "metadata": {},
   "outputs": [
    {
     "name": "stdout",
     "output_type": "stream",
     "text": [
      "lucy eattiong meats.\n",
      "lucky eattiong apple.\n",
      "bob flying sky.\n"
     ]
    }
   ],
   "source": [
    "# 1.通过类对象调用静态方法\n",
    "Animals.eat('lucy', 'meats')\n",
    "# 2.通过实例对象调用静态方法\n",
    "an = Animals('bob')\n",
    "an.eat('lucky', 'apple')\n",
    "\n",
    "# 3.通过类对象调用实例方法, 无法直接调用，报错\n",
    "# Animals.run('sky')\n",
    "\n",
    "# 4.通过实例对象调用实例方法\n",
    "an = Animals('bob')\n",
    "an.run('sky')"
   ]
  },
  {
   "cell_type": "markdown",
   "metadata": {},
   "source": [
    "### @classmethond 类方法\n",
    "#### 功能\n",
    "仅仅与类交互而不和实例交互，类在使用时会将类本身当做参数传给类方法的第一个参数\n",
    "\n",
    "#### 使用\n",
    "类方法推荐直接使用类对象调用，不推荐使用实例对象调用"
   ]
  },
  {
   "cell_type": "code",
   "execution_count": 105,
   "metadata": {},
   "outputs": [],
   "source": [
    "class Dog(object):\n",
    "    test = \"Jerry\"     # 类对象的属性\n",
    "\n",
    "    def __init__(self, name):\n",
    "        self.name = name  # 实例对象的属性\n",
    "\n",
    "    @classmethod\n",
    "    def eat(cls):\n",
    "        # 可以使用类属性，不能使用实例属性，即self.name\n",
    "        print(\"%s is eating %s\" % (Dog.test, \"food\"))\n",
    "        return  \n",
    "    \n",
    "    @staticmethod\n",
    "    def talk():\n",
    "        print(\"%s is talking\" % self.name)"
   ]
  },
  {
   "cell_type": "code",
   "execution_count": 107,
   "metadata": {},
   "outputs": [
    {
     "name": "stdout",
     "output_type": "stream",
     "text": [
      "Jerry is eating food\n",
      "Jerry is eating food\n"
     ]
    }
   ],
   "source": [
    "# 1.使用类对象调用类方法\n",
    "Dog.eat()\n",
    "\n",
    "# 2.使用实例对象调用类方法\n",
    "Dog('bob').eat()\n",
    "\n",
    "# 3.静态方法不能调用实例属性\n",
    "# Dog.talk()"
   ]
  },
  {
   "cell_type": "code",
   "execution_count": null,
   "metadata": {},
   "outputs": [],
   "source": []
  },
  {
   "cell_type": "code",
   "execution_count": null,
   "metadata": {},
   "outputs": [],
   "source": []
  }
 ],
 "metadata": {
  "kernelspec": {
   "display_name": "Python 3",
   "language": "python",
   "name": "python3"
  },
  "language_info": {
   "codemirror_mode": {
    "name": "ipython",
    "version": 3
   },
   "file_extension": ".py",
   "mimetype": "text/x-python",
   "name": "python",
   "nbconvert_exporter": "python",
   "pygments_lexer": "ipython3",
   "version": "3.7.2"
  },
  "nbTranslate": {
   "displayLangs": [
    "cn",
    "en"
   ],
   "hotkey": "alt-t",
   "langInMainMenu": true,
   "sourceLang": "en",
   "targetLang": "cn",
   "useGoogleTranslate": true
  },
  "toc": {
   "base_numbering": 1,
   "nav_menu": {},
   "number_sections": true,
   "sideBar": true,
   "skip_h1_title": false,
   "title_cell": "Table of Contents",
   "title_sidebar": "Contents",
   "toc_cell": false,
   "toc_position": {},
   "toc_section_display": true,
   "toc_window_display": false
  },
  "varInspector": {
   "cols": {
    "lenName": 16,
    "lenType": 16,
    "lenVar": 40
   },
   "kernels_config": {
    "python": {
     "delete_cmd_postfix": "",
     "delete_cmd_prefix": "del ",
     "library": "var_list.py",
     "varRefreshCmd": "print(var_dic_list())"
    },
    "r": {
     "delete_cmd_postfix": ") ",
     "delete_cmd_prefix": "rm(",
     "library": "var_list.r",
     "varRefreshCmd": "cat(var_dic_list()) "
    }
   },
   "types_to_exclude": [
    "module",
    "function",
    "builtin_function_or_method",
    "instance",
    "_Feature"
   ],
   "window_display": true
  }
 },
 "nbformat": 4,
 "nbformat_minor": 4
}
