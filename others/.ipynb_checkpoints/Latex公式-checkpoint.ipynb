{
 "cells": [
  {
   "cell_type": "markdown",
   "metadata": {},
   "source": [
    "### 1. 希腊字母\n",
    "#### 1.1 小写希腊字母\n",
    "$\\alpha, \\beta, \\gamma, \\pi, \\phi, \\varphi, \\mu, \\epsilon, \\sigma, \\kappa, \\delta, \\theta$\n",
    "\n",
    "$\\iota, \\mu, \\nu, \\rho, \\omega, \\zeta, \\xi, \\lambda, \\eta$\n",
    "#### 1.2 大写希腊字母\n",
    "$\\Pi, \\Gamma, \\Phi, \\Omega$\n",
    "\n",
    "### 2. 函数\n",
    "#### 2.1 三角函数\n",
    "$\\cos2\\pi, \\sin2\\theta, \\tan^2\\theta, \\arcsin\\pi$\n",
    "\n",
    "#### 2.2 对数\n",
    "$\\log10, \\ln2, \\log_2 4, \\exp\\mu$\n",
    "\n",
    "#### 2.3 极限\n",
    "$\\lim_{1 \\to n} T$\n",
    "\n",
    "### 3. 声调\n",
    "$\\bar{x}, \\acute{\\eta}, \\check{\\alpha}, \\dot{x}, \\hat{\\alpha}, \\tilde{\\iota}$\n",
    "\n",
    "### 4. 集合\n",
    "$\\forall,\\exists,\\emptyset,\\varnothing,\\in,\\ni,\\notin,\\subset,\\subseteq,\\supset,\\supseteq,\\cap,\\cup$\n",
    "\n",
    "### 5. 根号\n",
    "$\\sqrt4, \\sqrt[3]{8}$\n",
    "\n",
    "### 6. 上标、下标及积分\n",
    "$a^2, b_1, a^{2+2},a_{i,j}, b_2^3, c^3_4, {}_1^2\\beta$\n",
    "\n",
    "$导数：x', 向量：\\vec{a}, 上弧线：\\overset{\\frown} {AB}, 求和：\\sum_{k=1}^N k^2, 求积：\\prod_{i=1}^N x_i$\n",
    "\n",
    "$积分：\\int_{-N}^{N} e^x\\, dx, 极限：\\lim_{n \\to \\infty}x_n$\n",
    "\n",
    "### 7. 分数、矩阵行列式\n",
    "$\\frac{\\frac{1}{3}}{\\hat\\mu}, \t\\left( \\frac{1}{2} \\right)$"
   ]
  },
  {
   "cell_type": "markdown",
   "metadata": {},
   "source": [
    "<a href='https://blog.csdn.net/garfielder007/article/details/51646604'>参考链接</a>"
   ]
  }
 ],
 "metadata": {
  "kernelspec": {
   "display_name": "Python 3",
   "language": "python",
   "name": "python3"
  },
  "language_info": {
   "codemirror_mode": {
    "name": "ipython",
    "version": 3
   },
   "file_extension": ".py",
   "mimetype": "text/x-python",
   "name": "python",
   "nbconvert_exporter": "python",
   "pygments_lexer": "ipython3",
   "version": "3.7.2"
  },
  "nbTranslate": {
   "displayLangs": [
    "cn",
    "en"
   ],
   "hotkey": "alt-t",
   "langInMainMenu": true,
   "sourceLang": "en",
   "targetLang": "cn",
   "useGoogleTranslate": true
  },
  "toc": {
   "base_numbering": 1,
   "nav_menu": {},
   "number_sections": true,
   "sideBar": true,
   "skip_h1_title": false,
   "title_cell": "Table of Contents",
   "title_sidebar": "Contents",
   "toc_cell": false,
   "toc_position": {},
   "toc_section_display": true,
   "toc_window_display": false
  },
  "varInspector": {
   "cols": {
    "lenName": 16,
    "lenType": 16,
    "lenVar": 40
   },
   "kernels_config": {
    "python": {
     "delete_cmd_postfix": "",
     "delete_cmd_prefix": "del ",
     "library": "var_list.py",
     "varRefreshCmd": "print(var_dic_list())"
    },
    "r": {
     "delete_cmd_postfix": ") ",
     "delete_cmd_prefix": "rm(",
     "library": "var_list.r",
     "varRefreshCmd": "cat(var_dic_list()) "
    }
   },
   "types_to_exclude": [
    "module",
    "function",
    "builtin_function_or_method",
    "instance",
    "_Feature"
   ],
   "window_display": true
  }
 },
 "nbformat": 4,
 "nbformat_minor": 4
}
