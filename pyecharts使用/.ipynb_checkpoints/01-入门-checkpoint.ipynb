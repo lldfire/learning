{
 "cells": [
  {
   "cell_type": "code",
   "execution_count": 17,
   "metadata": {},
   "outputs": [],
   "source": [
    "from pyecharts import charts"
   ]
  },
  {
   "cell_type": "code",
   "execution_count": 10,
   "metadata": {},
   "outputs": [
    {
     "data": {
      "text/plain": [
       "'C:\\\\Users\\\\86132\\\\Desktop\\\\jupyter\\\\learning\\\\pyecharts使用\\\\render.html'"
      ]
     },
     "execution_count": 10,
     "metadata": {},
     "output_type": "execute_result"
    }
   ],
   "source": [
    "# 构建一个简单的直方图\n",
    "bar = charts.Bar()\n",
    "bar.add_xaxis(['衬衫', '羊毛衫', '裤子', '袜子', '鞋'])\n",
    "bar.add_yaxis('商家A', [12, 15, 17, 7, 43])\n",
    "\n",
    "bar.render()  # 默认保存于当前未见夹中"
   ]
  },
  {
   "cell_type": "code",
   "execution_count": 11,
   "metadata": {},
   "outputs": [
    {
     "data": {
      "text/plain": [
       "'C:\\\\Users\\\\86132\\\\Desktop\\\\jupyter\\\\learning\\\\pyecharts使用\\\\render.html'"
      ]
     },
     "execution_count": 11,
     "metadata": {},
     "output_type": "execute_result"
    }
   ],
   "source": [
    "# 链式调用方法\n",
    "bar = (\n",
    "    charts.Bar()\n",
    "    .add_xaxis(['衬衫', '羊毛衫', '裤子', '袜子', '鞋'])\n",
    "    .add_yaxis('商家A', [12, 15, 17, 7, 43])\n",
    ")\n",
    "bar.render()"
   ]
  },
  {
   "cell_type": "code",
   "execution_count": 13,
   "metadata": {},
   "outputs": [
    {
     "data": {
      "text/plain": [
       "'C:\\\\Users\\\\86132\\\\Desktop\\\\jupyter\\\\learning\\\\pyecharts使用\\\\render.html'"
      ]
     },
     "execution_count": 13,
     "metadata": {},
     "output_type": "execute_result"
    }
   ],
   "source": [
    "# 使用options配置项\n",
    "from pyecharts import options\n",
    "\n",
    "bar = (\n",
    "    charts.Bar()\n",
    "    .add_xaxis(['衬衫', '羊毛衫', '裤子', '袜子', '鞋'])\n",
    "    .add_yaxis('商家A', [12, 15, 17, 7, 43])\n",
    "    # 设置主副标题\n",
    "    .set_global_opts(\n",
    "        title_opts=options.TitleOpts(title='主标题', subtitle='副标题'))\n",
    ")\n",
    "bar.render()"
   ]
  },
  {
   "cell_type": "code",
   "execution_count": null,
   "metadata": {},
   "outputs": [],
   "source": [
    "# 渲染为图片,需要安装chrome驱动\n",
    "from pyecharts.render import make_snapshot\n",
    "from snapshot_selenium import snapshot   # 使用snapshot_selenium 渲染为图片\n",
    "\n",
    "bar = (\n",
    "    charts.Bar()\n",
    "    .add_xaxis(['衬衫', '羊毛衫', '裤子', '袜子', '鞋'])\n",
    "    .add_yaxis('商家A', [12, 15, 17, 7, 43])\n",
    "    # 设置主副标题\n",
    "    .set_global_opts(\n",
    "        title_opts=options.TitleOpts(title='主标题', subtitle='副标题'))\n",
    ")\n",
    "\n",
    "# make_snapshot(snapshot, bar.render(), 'bar.png')"
   ]
  },
  {
   "cell_type": "code",
   "execution_count": 16,
   "metadata": {},
   "outputs": [
    {
     "data": {
      "text/plain": [
       "'C:\\\\Users\\\\86132\\\\Desktop\\\\jupyter\\\\learning\\\\pyecharts使用\\\\render.html'"
      ]
     },
     "execution_count": 16,
     "metadata": {},
     "output_type": "execute_result"
    }
   ],
   "source": [
    "# 使用主题\n",
    "from pyecharts.globals import ThemeType\n",
    "\n",
    "bar = (\n",
    "    charts.Bar(init_opts=options.InitOpts(theme=ThemeType.WALDEN))\n",
    "    .add_xaxis(['衬衫', '羊毛衫', '裤子', '袜子', '鞋'])\n",
    "    .add_yaxis('商家A', [12, 15, 17, 7, 43])\n",
    "    .add_yaxis('商家B', [14, 12, 20, 10, 23])\n",
    "    .set_global_opts(\n",
    "        title_opts=options.TitleOpts(title='标题'))\n",
    ")\n",
    "bar.render()"
   ]
  },
  {
   "cell_type": "code",
   "execution_count": 20,
   "metadata": {},
   "outputs": [
    {
     "data": {
      "text/html": [
       "<!DOCTYPE html>\n",
       "<html>\n",
       "<head>\n",
       "    <meta charset=\"UTF-8\">\n",
       "</head>\n",
       "<body>\n",
       "        <div id=\"7c622e0315fb4efebcf7e67b11ebc10f\" class=\"chart-container\" style=\"width:900px; height:500px;\"></div>\n",
       "    <script>\n",
       "        var chart_7c622e0315fb4efebcf7e67b11ebc10f = echarts.init(\n",
       "            document.getElementById('7c622e0315fb4efebcf7e67b11ebc10f'), 'light', {renderer: 'canvas'});\n",
       "        var option_7c622e0315fb4efebcf7e67b11ebc10f = {\n",
       "    \"animation\": true,\n",
       "    \"animationThreshold\": 2000,\n",
       "    \"animationDuration\": 1000,\n",
       "    \"animationEasing\": \"cubicOut\",\n",
       "    \"animationDelay\": 0,\n",
       "    \"animationDurationUpdate\": 300,\n",
       "    \"animationEasingUpdate\": \"cubicOut\",\n",
       "    \"animationDelayUpdate\": 0,\n",
       "    \"series\": [\n",
       "        {\n",
       "            \"type\": \"bar\",\n",
       "            \"name\": \"\\u5546\\u5bb6A\",\n",
       "            \"data\": [\n",
       "                12,\n",
       "                15,\n",
       "                17,\n",
       "                7,\n",
       "                43\n",
       "            ],\n",
       "            \"barCategoryGap\": \"20%\",\n",
       "            \"label\": {\n",
       "                \"show\": true,\n",
       "                \"position\": \"top\",\n",
       "                \"margin\": 8\n",
       "            }\n",
       "        },\n",
       "        {\n",
       "            \"type\": \"bar\",\n",
       "            \"name\": \"\\u5546\\u5bb6B\",\n",
       "            \"data\": [\n",
       "                14,\n",
       "                12,\n",
       "                20,\n",
       "                10,\n",
       "                23\n",
       "            ],\n",
       "            \"barCategoryGap\": \"20%\",\n",
       "            \"label\": {\n",
       "                \"show\": true,\n",
       "                \"position\": \"top\",\n",
       "                \"margin\": 8\n",
       "            }\n",
       "        }\n",
       "    ],\n",
       "    \"legend\": [\n",
       "        {\n",
       "            \"data\": [\n",
       "                \"\\u5546\\u5bb6A\",\n",
       "                \"\\u5546\\u5bb6B\"\n",
       "            ],\n",
       "            \"selected\": {\n",
       "                \"\\u5546\\u5bb6A\": true,\n",
       "                \"\\u5546\\u5bb6B\": true\n",
       "            },\n",
       "            \"show\": true\n",
       "        }\n",
       "    ],\n",
       "    \"tooltip\": {\n",
       "        \"show\": true,\n",
       "        \"trigger\": \"item\",\n",
       "        \"triggerOn\": \"mousemove|click\",\n",
       "        \"axisPointer\": {\n",
       "            \"type\": \"line\"\n",
       "        },\n",
       "        \"textStyle\": {\n",
       "            \"fontSize\": 14\n",
       "        },\n",
       "        \"borderWidth\": 0\n",
       "    },\n",
       "    \"xAxis\": [\n",
       "        {\n",
       "            \"show\": true,\n",
       "            \"scale\": false,\n",
       "            \"nameLocation\": \"end\",\n",
       "            \"nameGap\": 15,\n",
       "            \"gridIndex\": 0,\n",
       "            \"inverse\": false,\n",
       "            \"offset\": 0,\n",
       "            \"splitNumber\": 5,\n",
       "            \"minInterval\": 0,\n",
       "            \"splitLine\": {\n",
       "                \"show\": false,\n",
       "                \"lineStyle\": {\n",
       "                    \"width\": 1,\n",
       "                    \"opacity\": 1,\n",
       "                    \"curveness\": 0,\n",
       "                    \"type\": \"solid\"\n",
       "                }\n",
       "            },\n",
       "            \"data\": [\n",
       "                \"\\u886c\\u886b\",\n",
       "                \"\\u7f8a\\u6bdb\\u886b\",\n",
       "                \"\\u88e4\\u5b50\",\n",
       "                \"\\u889c\\u5b50\",\n",
       "                \"\\u978b\"\n",
       "            ]\n",
       "        }\n",
       "    ],\n",
       "    \"yAxis\": [\n",
       "        {\n",
       "            \"show\": true,\n",
       "            \"scale\": false,\n",
       "            \"nameLocation\": \"end\",\n",
       "            \"nameGap\": 15,\n",
       "            \"gridIndex\": 0,\n",
       "            \"inverse\": false,\n",
       "            \"offset\": 0,\n",
       "            \"splitNumber\": 5,\n",
       "            \"minInterval\": 0,\n",
       "            \"splitLine\": {\n",
       "                \"show\": false,\n",
       "                \"lineStyle\": {\n",
       "                    \"width\": 1,\n",
       "                    \"opacity\": 1,\n",
       "                    \"curveness\": 0,\n",
       "                    \"type\": \"solid\"\n",
       "                }\n",
       "            }\n",
       "        }\n",
       "    ],\n",
       "    \"title\": [\n",
       "        {\n",
       "            \"text\": \"\\u6807\\u9898\"\n",
       "        }\n",
       "    ]\n",
       "};\n",
       "        chart_7c622e0315fb4efebcf7e67b11ebc10f.setOption(option_7c622e0315fb4efebcf7e67b11ebc10f);\n",
       "    </script>\n",
       "</body>\n",
       "</html>\n"
      ],
      "text/plain": [
       "<pyecharts.render.display.HTML at 0x1999c7767f0>"
      ]
     },
     "execution_count": 20,
     "metadata": {},
     "output_type": "execute_result"
    }
   ],
   "source": [
    "# 在jupyter lab中加载图片\n",
    "from pyecharts.globals import CurrentConfig, NotebookType\n",
    "CurrentConfig.NOTEBOOK_TYPE = NotebookType.JUPYTER_LAB\n",
    "\n",
    "bar = (\n",
    "    charts.Bar(init_opts=options.InitOpts(theme=ThemeType.LIGHT))\n",
    "    .add_xaxis(['衬衫', '羊毛衫', '裤子', '袜子', '鞋'])\n",
    "    .add_yaxis('商家A', [12, 15, 17, 7, 43])\n",
    "    .add_yaxis('商家B', [14, 12, 20, 10, 23])\n",
    "    .set_global_opts(\n",
    "        title_opts=options.TitleOpts(title='标题'))\n",
    ") \n",
    "\n",
    "bar.load_javascript()   # 加载\n",
    "bar.render_notebook()   # 调用"
   ]
  },
  {
   "cell_type": "code",
   "execution_count": null,
   "metadata": {},
   "outputs": [],
   "source": []
  }
 ],
 "metadata": {
  "kernelspec": {
   "display_name": "Python 3",
   "language": "python",
   "name": "python3"
  },
  "language_info": {
   "codemirror_mode": {
    "name": "ipython",
    "version": 3
   },
   "file_extension": ".py",
   "mimetype": "text/x-python",
   "name": "python",
   "nbconvert_exporter": "python",
   "pygments_lexer": "ipython3",
   "version": "3.7.2"
  }
 },
 "nbformat": 4,
 "nbformat_minor": 4
}
