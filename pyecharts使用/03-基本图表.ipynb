{
 "cells": [
  {
   "cell_type": "code",
   "execution_count": 1,
   "metadata": {},
   "outputs": [],
   "source": [
    "from pyecharts.globals import CurrentConfig, OnlineHostType\n",
    "\n",
    "# OnlineHostType.NOTEBOOK_HOST 默认值为 http://localhost:8888/nbextensions/assets/\n",
    "CurrentConfig.ONLINE_HOST = 'http://localhost:9999/nbextensions/assets/'"
   ]
  },
  {
   "cell_type": "markdown",
   "metadata": {},
   "source": [
    "# 1. 日历图：Calendar"
   ]
  },
  {
   "cell_type": "code",
   "execution_count": 2,
   "metadata": {},
   "outputs": [
    {
     "name": "stdout",
     "output_type": "stream",
     "text": [
      "前5个数据\n",
      "[('2018-01-01', 5816), ('2018-01-02', 22824), ('2018-01-03', 5513), ('2018-01-04', 6044), ('2018-01-05', 11507)]\n"
     ]
    },
    {
     "data": {
      "text/plain": [
       "<bound method Base.render of <pyecharts.charts.basic_charts.calendar.Calendar object at 0x000002A8F5CA6208>>"
      ]
     },
     "execution_count": 2,
     "metadata": {},
     "output_type": "execute_result"
    }
   ],
   "source": [
    "import datetime\n",
    "import random\n",
    "\n",
    "from pyecharts import charts\n",
    "from pyecharts import options as opts\n",
    "from pyecharts.globals import ThemeType\n",
    "\n",
    "\n",
    "# 生成模拟数据，每天对应一个数据\n",
    "begin = datetime.date(2018, 1, 1)\n",
    "end = datetime.date(2018, 12, 31)\n",
    "data = [\n",
    "    (str(begin + datetime.timedelta(days=i)), random.randint(1000, 25000))\n",
    "    for i in range((end - begin).days + 1)\n",
    "]\n",
    "print('前5个数据')\n",
    "print(data[:5])\n",
    "\n",
    "# 画图\n",
    "calendar = (\n",
    "    # 初始化项\n",
    "    charts.Calendar(init_opts=opts.InitOpts(theme=ThemeType.WHITE))\n",
    "    .add(\n",
    "        series_name='步数',\n",
    "        yaxis_data=data,       # 数据，格式为：[(date1, value1), ……]\n",
    "        # label_opts=opts.series_options.LabelOpts(),    # 标签配置项\n",
    "        calendar_opts=opts.CalendarOpts(range_='2018')   # 日历坐标的使用范围，必填\n",
    "    )\n",
    "    .set_global_opts(\n",
    "        title_opts=opts.TitleOpts('2018年运动步数'),\n",
    "        \n",
    "        # 视觉效果\n",
    "        visualmap_opts=opts.VisualMapOpts(\n",
    "            max_=25000,                 # 组件最大值\n",
    "            min_=1000,                  # 组件最小值\n",
    "            orient=\"horizontal\",        # 如何放置组件:horizontal:水平，vertical:垂直\n",
    "            is_piecewise=True,          # 是否分段\n",
    "            pos_top=\"230px\",            # 组件距离容器上侧距离\n",
    "            pos_left=\"100px\",           # 组件距离容器左侧距离\n",
    "        )\n",
    "    )\n",
    ")\n",
    "calendar.render"
   ]
  },
  {
   "cell_type": "markdown",
   "metadata": {},
   "source": [
    "# 2. 漏斗图：Funnel"
   ]
  },
  {
   "cell_type": "code",
   "execution_count": null,
   "metadata": {},
   "outputs": [],
   "source": [
    "from pyecharts.faker import Faker    # 导入假数据\n",
    "from pyecharts.charts import Funnel\n",
    "\n",
    "\n",
    "funnel = (\n",
    "    Funnel()\n",
    "    .add(\n",
    "        series_name='系列名称',\n",
    "        # 数据，数据格式 [(key, values), ……]\n",
    "        data_pair=[i for i in zip(Faker.choose(), Faker.values())],\n",
    "        \n",
    "        # 设置标签的位置，inside:居中\n",
    "        label_opts=opts.LabelOpts(position='inside')\n",
    "    )\n",
    "    .set_global_opts(\n",
    "        title_opts=opts.TitleOpts(title='漏斗图示例')\n",
    "    )\n",
    ")\n",
    "funnel.render_notebook()"
   ]
  },
  {
   "cell_type": "markdown",
   "metadata": {},
   "source": [
    "# 3. 仪表盘：Gauge"
   ]
  },
  {
   "cell_type": "code",
   "execution_count": null,
   "metadata": {},
   "outputs": [],
   "source": []
  },
  {
   "cell_type": "markdown",
   "metadata": {},
   "source": [
    "# 4. 地理图"
   ]
  },
  {
   "cell_type": "code",
   "execution_count": 1,
   "metadata": {},
   "outputs": [],
   "source": [
    "from pyecharts.charts import Map\n",
    "from pyecharts import options as opts\n",
    "from pyecharts.faker import Faker"
   ]
  },
  {
   "cell_type": "markdown",
   "metadata": {},
   "source": [
    "## 4.1 加载地图"
   ]
  },
  {
   "cell_type": "code",
   "execution_count": 2,
   "metadata": {},
   "outputs": [],
   "source": [
    "# 数据\n",
    "data = [\n",
    "    ('Alabama', 4822023),\n",
    "    ('Alaska', 731449),\n",
    "    ('Arizona', 6553255),\n",
    "    ('Arkansas', 2949131),\n",
    "    ('California', 38041430),\n",
    "    ('Colorado', 5187582),\n",
    "    ('Connecticut', 3590347),\n",
    "    ('Delaware', 917092),\n",
    "    ('District of Columbia', 632323),\n",
    "    ('Florida', 19317568),\n",
    "    ('Georgia', 9919945),\n",
    "    ('Hawaii', 1392313),\n",
    "    ('Idaho', 1595728),\n",
    "    ('Illinois', 12875255),\n",
    "    ('Indiana', 6537334),\n",
    "    ('Iowa', 3074186),\n",
    "    ('Kansas', 2885905),\n",
    "    ('Kentucky', 4380415),\n",
    "    ('Louisiana', 4601893),\n",
    "    ('Maine', 1329192),\n",
    "    ('Maryland', 5884563),\n",
    "    ('Massachusetts', 6646144),\n",
    "    ('Michigan', 9883360),\n",
    "    ('Minnesota', 5379139),\n",
    "    ('Mississippi', 2984926),\n",
    "    ('Missouri', 6021988),\n",
    "    ('Montana', 1005141),\n",
    "    ('Nebraska', 1855525),\n",
    "    ('Nevada', 2758931),\n",
    "    ('New Hampshire', 1320718),\n",
    "    ('New Jersey', 8864590),\n",
    "    ('New Mexico', 2085538),\n",
    "    ('New York', 19570261),\n",
    "    ('North Carolina', 9752073),\n",
    "    ('North Dakota', 699628),\n",
    "    ('Ohio', 11544225),\n",
    "    ('Oklahoma', 3814820),\n",
    "    ('Oregon', 3899353),\n",
    "    ('Pennsylvania', 12763536),\n",
    "    ('Rhode Island', 1050292),\n",
    "    ('South Carolina', 4723723),\n",
    "    ('South Dakota', 833354),\n",
    "    ('Tennessee', 6456243),\n",
    "    ('Texas', 26059203),\n",
    "    ('Utah', 2855287),\n",
    "    ('Vermont', 626011),\n",
    "    ('Virginia', 8185867),\n",
    "    ('Washington', 6897012),\n",
    "    ('West Virginia', 1855413),\n",
    "    ('Wisconsin', 5726398),\n",
    "    ('Wyoming', 576412),\n",
    "    ('Puerto Rico', 3667084)\n",
    "]"
   ]
  },
  {
   "cell_type": "code",
   "execution_count": 34,
   "metadata": {},
   "outputs": [],
   "source": [
    "import json\n",
    "\n",
    "with open('./map/us-states.json', 'r') as f:\n",
    "    usa_json = json.loads(f.read())\n",
    "    \n",
    "\n",
    "# 将以下几个地区更改位置\n",
    "c = {\n",
    "    'Alaska': {\n",
    "        'left': -121,   # 定位地图\n",
    "        'top': 27,\n",
    "        'width': 40    # 图形大小\n",
    "    },\n",
    "    'Hawaii': {\n",
    "        'left': -110,\n",
    "        'top': 26,\n",
    "        'width': 5\n",
    "    },\n",
    "}"
   ]
  },
  {
   "cell_type": "code",
   "execution_count": 47,
   "metadata": {},
   "outputs": [],
   "source": [
    "uas = (\n",
    "    Map(init_opts=opts.InitOpts(width='1200px', height='800px'))\n",
    "    # 注册美国地图\n",
    "    .add_js_funcs(f\"echarts.registerMap('USA', {usa_json}, {c});\")\n",
    "    .add(\n",
    "        '美国选情地图',\n",
    "        data,\n",
    "        'USA',\n",
    "        is_map_symbol_show=False,\n",
    "    )\n",
    "    .set_global_opts(\n",
    "        # 视觉效果\n",
    "        visualmap_opts=opts.VisualMapOpts(\n",
    "            max_=500000,                 # 组件最大值\n",
    "            min_=38000000,               # 组件最小值\n",
    "            # orient=\"horizontal\",        # 如何放置组件:horizontal:水平，vertical:垂直\n",
    "            is_piecewise=False,          # 是否分段\n",
    "            # pos_top=\"230px\",            # 组件距离容器上侧距离\n",
    "            pos_left=\"right\",           # 组件距离容器左侧距离\n",
    "            # 组件过渡颜色\n",
    "            range_color=[\n",
    "                '#313695', '#4575b4', '#74add1', '#abd9e9', '#e0f3f8',\n",
    "                '#ffffbf', '#fee090', '#fdae61', '#f46d43', '#d73027', '#a50026'\n",
    "            ],\n",
    "            range_text=['High', 'Low'],\n",
    "            split_number=5,     # 分组分为几段\n",
    "        ),\n",
    "        toolbox_opts=opts.ToolboxOpts(),\n",
    "        title_opts=opts.TitleOpts(\n",
    "            '美国各州总捐款热力图',\n",
    "            subtitle='单位：美元'\n",
    "        )\n",
    "    )\n",
    "    .set_series_opts(\n",
    "        label_opts=opts.LabelOpts(\n",
    "            is_show=False\n",
    "        )\n",
    "    )\n",
    ").render('1.html')"
   ]
  },
  {
   "cell_type": "code",
   "execution_count": 43,
   "metadata": {},
   "outputs": [],
   "source": [
    "# 从地图数据中获取id\n",
    "name_to_id = {}\n",
    "for item in usa_json['features']:\n",
    "    name_to_id[item['id']] = item['properties']['name']"
   ]
  },
  {
   "cell_type": "code",
   "execution_count": null,
   "metadata": {},
   "outputs": [],
   "source": []
  },
  {
   "cell_type": "code",
   "execution_count": null,
   "metadata": {},
   "outputs": [],
   "source": []
  }
 ],
 "metadata": {
  "kernelspec": {
   "display_name": "Python 3",
   "language": "python",
   "name": "python3"
  },
  "language_info": {
   "codemirror_mode": {
    "name": "ipython",
    "version": 3
   },
   "file_extension": ".py",
   "mimetype": "text/x-python",
   "name": "python",
   "nbconvert_exporter": "python",
   "pygments_lexer": "ipython3",
   "version": "3.7.2"
  }
 },
 "nbformat": 4,
 "nbformat_minor": 4
}
