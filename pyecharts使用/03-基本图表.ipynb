{
 "cells": [
  {
   "cell_type": "markdown",
   "metadata": {},
   "source": [
    "# 1. 日历图：Calendar"
   ]
  },
  {
   "cell_type": "code",
   "execution_count": 30,
   "metadata": {},
   "outputs": [
    {
     "name": "stdout",
     "output_type": "stream",
     "text": [
      "前5个数据\n",
      "[('2018-01-01', 7396), ('2018-01-02', 22487), ('2018-01-03', 23563), ('2018-01-04', 12692), ('2018-01-05', 17757)]\n"
     ]
    },
    {
     "data": {
      "text/plain": [
       "'C:\\\\Users\\\\86132\\\\Desktop\\\\jupyter\\\\learning\\\\pyecharts使用\\\\render.html'"
      ]
     },
     "execution_count": 30,
     "metadata": {},
     "output_type": "execute_result"
    }
   ],
   "source": [
    "import datetime\n",
    "import random\n",
    "\n",
    "from pyecharts import charts\n",
    "from pyecharts import options as opts\n",
    "from pyecharts.globals import ThemeType\n",
    "\n",
    "\n",
    "# 生成模拟数据，每天对应一个数据\n",
    "begin = datetime.date(2018, 1, 1)\n",
    "end = datetime.date(2018, 12, 31)\n",
    "data = [\n",
    "    (str(begin + datetime.timedelta(days=i)), random.randint(1000, 25000))\n",
    "    for i in range((end - begin).days + 1)\n",
    "]\n",
    "print('前5个数据')\n",
    "print(data[:5])\n",
    "\n",
    "# 画图\n",
    "calendar = (\n",
    "    # 初始化项\n",
    "    charts.Calendar(init_opts=opts.InitOpts(theme=ThemeType.WHITE))\n",
    "    .add(\n",
    "        series_name='步数',\n",
    "        yaxis_data=data,       # 数据，格式为：[(date1, value1), ……]\n",
    "        # label_opts=opts.series_options.LabelOpts(),    # 标签配置项\n",
    "        calendar_opts=opts.CalendarOpts(range_='2018')   # 日历坐标的使用范围，必填\n",
    "    )\n",
    "    .set_global_opts(\n",
    "        title_opts=opts.TitleOpts('2018年运动步数'),\n",
    "        \n",
    "        # 视觉效果\n",
    "        visualmap_opts=opts.VisualMapOpts(\n",
    "            max_=25000,                 # 组件最大值\n",
    "            min_=1000,                  # 组件最小值\n",
    "            orient=\"horizontal\",        # 如何放置组件:horizontal:水平，vertical:垂直\n",
    "            is_piecewise=True,          # 是否分段\n",
    "            pos_top=\"230px\",            # 组件距离容器上侧距离\n",
    "            pos_left=\"100px\",           # 组件距离容器左侧距离\n",
    "        )\n",
    "    )\n",
    ")\n",
    "calendar.render()"
   ]
  },
  {
   "cell_type": "markdown",
   "metadata": {},
   "source": [
    "# 2. 漏斗图：Funnel"
   ]
  },
  {
   "cell_type": "code",
   "execution_count": 54,
   "metadata": {},
   "outputs": [
    {
     "data": {
      "text/plain": [
       "'C:\\\\Users\\\\86132\\\\Desktop\\\\jupyter\\\\learning\\\\pyecharts使用\\\\render.html'"
      ]
     },
     "execution_count": 54,
     "metadata": {},
     "output_type": "execute_result"
    }
   ],
   "source": [
    "from pyecharts.faker import Faker    # 导入假数据\n",
    "from pyecharts.charts import Funnel\n",
    "\n",
    "\n",
    "funnel = (\n",
    "    Funnel()\n",
    "    .add(\n",
    "        series_name='系列名称',\n",
    "        # 数据，数据格式 [(key, values), ……]\n",
    "        data_pair=[i for i in zip(Faker.choose(), Faker.values())],\n",
    "        \n",
    "        # 设置标签的位置，inside:居中\n",
    "        label_opts=opts.LabelOpts(position='inside')\n",
    "    )\n",
    "    .set_global_opts(\n",
    "        title_opts=opts.TitleOpts(title='漏斗图示例')\n",
    "    )\n",
    ")\n",
    "funnel.render()"
   ]
  },
  {
   "cell_type": "markdown",
   "metadata": {},
   "source": [
    "# 3. 仪表盘：Gauge"
   ]
  },
  {
   "cell_type": "code",
   "execution_count": null,
   "metadata": {},
   "outputs": [],
   "source": []
  }
 ],
 "metadata": {
  "kernelspec": {
   "display_name": "Python 3",
   "language": "python",
   "name": "python3"
  },
  "language_info": {
   "codemirror_mode": {
    "name": "ipython",
    "version": 3
   },
   "file_extension": ".py",
   "mimetype": "text/x-python",
   "name": "python",
   "nbconvert_exporter": "python",
   "pygments_lexer": "ipython3",
   "version": "3.7.2"
  }
 },
 "nbformat": 4,
 "nbformat_minor": 4
}
