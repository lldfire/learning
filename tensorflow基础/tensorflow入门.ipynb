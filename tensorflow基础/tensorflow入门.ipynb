{
 "cells": [
  {
   "cell_type": "code",
   "execution_count": 2,
   "metadata": {},
   "outputs": [],
   "source": [
    "import numpy as np\n",
    "import tensorflow as tf"
   ]
  },
  {
   "cell_type": "markdown",
   "metadata": {},
   "source": [
    "### 提要\n",
    "1. 三个概念：\n",
    "    - 计算图：tf.Graph\n",
    "    - 张量： tf.Tensor\n",
    "    - 会话： tf.Session\n",
    "2. 实现神经网络的训练过程"
   ]
  },
  {
   "cell_type": "markdown",
   "metadata": {},
   "source": [
    "### 计算模型--计算图 \n",
    "tensor:张量，flow:计算模型,graph:计算图\n",
    "\n",
    "#### 计算图的使用"
   ]
  },
  {
   "cell_type": "code",
   "execution_count": 2,
   "metadata": {
    "slideshow": {
     "slide_type": "slide"
    }
   },
   "outputs": [
    {
     "name": "stdout",
     "output_type": "stream",
     "text": [
      "<tensorflow.python.framework.ops.Graph object at 0x00000176B93F9908>\n"
     ]
    }
   ],
   "source": [
    "a = tf.constant([1.0, 2.0], name='a')\n",
    "b = tf.constant([2.0, 3.0], name='b')\n",
    "result = a + b\n",
    "\n",
    "# 查看张量所属计算图\n",
    "print(a.graph)"
   ]
  },
  {
   "cell_type": "code",
   "execution_count": 6,
   "metadata": {
    "deletable": false,
    "editable": false,
    "run_control": {
     "frozen": true
    },
    "slideshow": {
     "slide_type": "slide"
    }
   },
   "outputs": [
    {
     "name": "stdout",
     "output_type": "stream",
     "text": [
      "[0.]\n",
      "[1.]\n"
     ]
    }
   ],
   "source": [
    "# 在计算图上定义和使用变量\n",
    "g1 = tf.Graph()    # 实例化计算图\n",
    "with g1.as_default():\n",
    "    # 在计算图中定义变量，并设置初始值为 0 \n",
    "    v = tf.get_variable(\n",
    "    'v', shape=[1], initializer=tf.zeros_initializer)\n",
    "    \n",
    "# 创建g2 计算图\n",
    "g2 = tf.Graph()\n",
    "with g2.as_default():\n",
    "    # 在计算图g2中定义变量 v, 并设置为初始值为 1\n",
    "    v = tf.get_variable(\n",
    "    'v', shape=[1], initializer=tf.ones_initializer)\n",
    "    \n",
    "# 在计算图读取变量的取值\n",
    "with tf.Session(graph=g1) as sess:\n",
    "    tf.global_variables_initializer().run()\n",
    "    with tf.variable_scope('', reuse=True):\n",
    "        print(sess.run(tf.get_variable('v')))\n",
    "    \n",
    "# 读取g2计算图中的变量v\n",
    "with tf.Session(graph=g2) as sess:\n",
    "    tf.global_variables_initializer().run()\n",
    "    with tf.variable_scope('', reuse=True):\n",
    "        print(sess.run(tf.get_variable('v')))"
   ]
  },
  {
   "cell_type": "markdown",
   "metadata": {},
   "source": [
    "以上定义的两个计算图，每个计算图都定义了一个变量‘v’，在不同的计算图中相同变量名的变量的值不同。计算图不仅仅能隔离张量和计算，还提供了管理计算图和计算的机制，通过tf.Graph.device函数来指定计算机的运行设备。将加法计算运行在GPU上："
   ]
  },
  {
   "cell_type": "code",
   "execution_count": 3,
   "metadata": {},
   "outputs": [],
   "source": [
    "g = tf.Graph()\n",
    "#  指定预算设备\n",
    "with g.device('/gpu:0'):\n",
    "    result = a + b"
   ]
  },
  {
   "cell_type": "markdown",
   "metadata": {},
   "source": [
    "### 数据模型--张量\n",
    "#### 张量的概念\n",
    "\n",
    "- 从功能上可以简单的理解为多维数组\n",
    "- 从代码上看 tensorflow 中不直接采用数组的形式，张量中并没有真正保存这些数字，它保存的是如何得到这些数字的计算过程。\n",
    "- 张量的三个属性：name, shape, type"
   ]
  },
  {
   "cell_type": "code",
   "execution_count": 4,
   "metadata": {},
   "outputs": [
    {
     "name": "stdout",
     "output_type": "stream",
     "text": [
      "<class 'tensorflow.python.framework.ops.Tensor'>\n",
      "Tensor(\"a_1:0\", shape=(2,), dtype=float32)\n",
      "<class 'tensorflow.python.framework.ops.Tensor'>\n",
      "Tensor(\"add_2:0\", shape=(2,), dtype=float32)\n",
      "Tensor(\"c:0\", shape=(2, 2), dtype=float32)\n"
     ]
    }
   ],
   "source": [
    "# tf.constant 是一个计算，计算的结果是一个张量，保存在变量中\n",
    "# 其计算结果也是一个张量\n",
    "a = tf.constant([1.0, 2.9], name='a')\n",
    "b = tf.constant([2.0, 2.1], name='b')\n",
    "print(type(a))\n",
    "print(a)\n",
    "\n",
    "result = tf.add(a, b, name='add')\n",
    "print(type(result))\n",
    "print(result)\n",
    "\n",
    "# 指定张量的数据类型和维度\n",
    "l1 = [1, 2, 3, 4]\n",
    "c = tf.constant(l1, name='c', dtype=tf.float32, shape=(2, 2))\n",
    "print(c)"
   ]
  },
  {
   "cell_type": "markdown",
   "metadata": {},
   "source": [
    "#### 张量的使用\n",
    "- 对中间计算结果的引用，如获取中间变量的某些维度\n",
    "- 计算图构建完成后，获得计算结果，得到真实数字\n",
    "\n",
    "### 运行模型--会话\n",
    "使用会话执行定义好的运算，会话拥有程序运行时的所有资源，计算完成后需要关闭会话帮助系统回收资源。两种模式：\n",
    "- 明确调用会话生成函数和关闭函数\n",
    "- 通过上下文管理器管理会话"
   ]
  },
  {
   "cell_type": "code",
   "execution_count": 5,
   "metadata": {},
   "outputs": [
    {
     "name": "stdout",
     "output_type": "stream",
     "text": [
      "张量 c 的数值\n",
      " [[1. 2.]\n",
      " [3. 4.]]\n",
      "张量 a 的数值 [1.  2.9]\n",
      "张量 b 的数值 [2.  2.1]\n"
     ]
    }
   ],
   "source": [
    "# 1.第一种会话管理方式,程序异常时就不会执行关闭函数\n",
    "sess = tf.Session()\n",
    "# 使用会话得到运算结果\n",
    "print('张量 c 的数值\\n', sess.run(c))\n",
    "sess.close()\n",
    "\n",
    "# 2.第二种会话管理方式，上下文退出时会话关闭释放资源\n",
    "with tf.Session() as sess:\n",
    "    print('张量 a 的数值', sess.run(a))\n",
    "    \n",
    "# 3.通过默认会话获得张量的取值\n",
    "sess = tf.Session()\n",
    "with sess.as_default():\n",
    "    print('张量 b 的数值', b.eval())"
   ]
  },
  {
   "cell_type": "markdown",
   "metadata": {},
   "source": [
    "### 实现神经网络\n",
    "#### tensorflow 游乐场及神经网络\n",
    "神经网络解决分类问题主要分为以下4个步骤：\n",
    "1. 提取特征向量作为神经网络的输入\n",
    "2. 定义神经网络的结构，并定义如何从神经网络的输入得到输出（向前传播）\n",
    "3. 通过训练数据来调整神经网络中的参数取值\n",
    "4. 使用训练好的模型来预测数据"
   ]
  },
  {
   "cell_type": "markdown",
   "metadata": {},
   "source": [
    "#### 向前传播算法简介\n",
    "全连接网络结构的向前出传播算法：\n",
    "\n",
    "神经元是构成神经网络的最小单元，一个神经元由多个输入和一个输出，最简单神经元的输出就是所有输入的加权和。\n",
    "不同输入的权重就是神经元的参数，神将网络的优化过程就是参数的取值过程。\n",
    "\n",
    "全连接神经网络指相邻层之间额任意两个节点元都有连接。\n",
    "\n",
    "**神经网络向前传播结果的三要素**\n",
    "1. 神经网络的输入：实体中提取的特征向量\n",
    "2. 神将网络的连接结构：全连接\n",
    "3. 神经网络边上的取值：权重"
   ]
  },
  {
   "cell_type": "code",
   "execution_count": 6,
   "metadata": {},
   "outputs": [
    {
     "name": "stdout",
     "output_type": "stream",
     "text": [
      "神经元的值： [[ 2.51649837 -0.06192953  0.98737276]]\n",
      "输出结果： [[2.19007899]]\n",
      "样本值： [[0.7 0.9]]\n",
      "权重： [[0.82353361]\n",
      " [1.11502315]\n",
      " [0.18909867]]\n"
     ]
    }
   ],
   "source": [
    "# tensorflow实现矩阵向前传播过程，模拟一个隐藏层包含3个神经元的数据结构\n",
    "# 生成模拟数据\n",
    "np.random.seed = 9\n",
    "x = tf.constant([0.7, 0.9], name='x', dtype=tf.float64, shape=(1, 2))   # 样本的两个特征\n",
    "w1 = tf.constant(np.random.randn(6), name='w1', shape=(2, 3))\n",
    "w2 = tf.constant(np.random.randn(3), name='w1', shape=(3, 1))\n",
    "\n",
    "# 计算\n",
    "# 1.计算每个隐藏测结果\n",
    "a = tf.matmul(x, w1)    # 矩阵的乘法:对应行乘对应列的和\n",
    "y = tf.matmul(a, w2)\n",
    "\n",
    "# 查看计算结果\n",
    "with tf.Session() as sess:\n",
    "    print('神经元的值：',sess.run(a))\n",
    "    print('输出结果：',sess.run(y))\n",
    "    print('样本值：',sess.run(x))    \n",
    "    print('权重：',sess.run(w2))"
   ]
  },
  {
   "cell_type": "markdown",
   "metadata": {},
   "source": [
    "#### 神经网络参数和tensorflow变量\n",
    "- 神经网络参数的组织、保存、使用\n",
    "- 变量 tf.Variable:保存和更新神经网络中的参数\n",
    "- 类型是变量的一个重要概念，默认类型为tf.float32,操作不同类型的变量时会报错\n",
    "- 维度也是变量的一个重要概念，但是维度可以通过validaate_shape=False改变，一般用的较少"
   ]
  },
  {
   "cell_type": "code",
   "execution_count": 14,
   "metadata": {},
   "outputs": [
    {
     "name": "stdout",
     "output_type": "stream",
     "text": [
      "神经元输出结果： [[3.957578]]\n"
     ]
    }
   ],
   "source": [
    "# 声明矩阵变量的方法\n",
    "# 生成服从正态分布标准差位2，平均值为0，取值类型为tf.float32的 2×3的矩阵\n",
    "weights = tf.Variable(tf.random_normal([2, 3], stddev=2.0))\n",
    "# 随机数生成函数\n",
    "# 函数名称              | 分布方式  | 参数\n",
    "# tf.random_normal()   | 正态分布  | 标准差，均值，类型\n",
    "# tf.random_uniform()  | 均匀分布  | 最小、最大值，类型\n",
    "# tf.random_gamma()    | Gamma分布| 形状参数、尺度参数、类型\n",
    "# tf.truncated_notmal()| 正态分布  | 标准差，均值，类型\n",
    "\n",
    "# 生成常数\n",
    "# tf.zeros([2, 3], int32)   # 生成2×3的全0矩阵\n",
    "# tf.ones()       # 全 1 矩阵\n",
    "# tf.fill([2, 3], 8)     # 以某个数填充的矩阵\n",
    "# tf.constant()     # 指定值的矩阵\n",
    "\n",
    "# 使用变量实现4.2中的神经网络\n",
    "x = tf.constant([0.7, 0.9], shape=(1, 2))\n",
    "w1 = tf.Variable(tf.random_normal((2, 3), stddev=1, seed=1)) # 设置随机数种子\n",
    "w2 = tf.Variable(tf.random_normal((3, 1), stddev=1, seed=1))\n",
    "\n",
    "# 向前传播算法神经网络的实现\n",
    "a = tf.matmul(x, w1)\n",
    "y = tf.matmul(a, w2)\n",
    "\n",
    "sess = tf.Session()\n",
    "# 计算y之前，需要将所有用到的变量初始化，否则不能得到计算结果\n",
    "# 1.单个变量的初始化\n",
    "# sess.run(w1.initializer)    # 初始化\n",
    "# sess.run(w2.initializer)\n",
    "\n",
    "# 2.将所有变量初始化，\n",
    "init_op = tf.global_variables_initializer()\n",
    "sess.run(init_op)\n",
    "\n",
    "print('神经元输出结果：', sess.run(y))\n",
    "sess.close()"
   ]
  },
  {
   "attachments": {
    "%E5%9B%BE%E7%89%87.png": {
     "image/png": "[encoded data removed]"
    }
   },
   "cell_type": "markdown",
   "metadata": {},
   "source": [
    "#### 训练神将网络模型\n",
    "监督学习的重要思想：在已知答案的标注数据集上，模型给出的预测结果要尽量接近真实答案。神经网络中最常用的方法是反向传播算法。\n",
    "1. 反向传播算法流程图\n",
    "![%E5%9B%BE%E7%89%87.png](attachment:%E5%9B%BE%E7%89%87.png)\n",
    "\n",
    "选取小部分数据（batch）--> 通过向前传播算法得到预测结果 --> 计算预测值和真实值间的差距 --> 基于此差距反向传播算法更新神经网络中相关的参数取值"
   ]
  },
  {
   "cell_type": "code",
   "execution_count": 16,
   "metadata": {},
   "outputs": [
    {
     "name": "stdout",
     "output_type": "stream",
     "text": [
      "[[-0.6053763]]\n"
     ]
    }
   ],
   "source": [
    "# 通过palceholder 实现向前传播算法的\n",
    "# 作用：避免神经网络中产生大量的常量，相当于定义了一个位置，这个位置的数据在程序运行时再指定\n",
    "w1 = tf.Variable(tf.random_normal([2, 3], stddev=1, seed=9))\n",
    "w2 = tf.Variable(tf.random_normal([3, 1], stddev=1, seed=9))\n",
    "\n",
    "# 定义定义placeholder 作为存放输入数据的地方，\n",
    "x = tf.placeholder(tf.float32, shape=[1, 2], name='input')    # x未指定值\n",
    "a = tf.matmul(x, w1)\n",
    "y = tf.matmul(a, w2)\n",
    "\n",
    "sess = tf.Session()\n",
    "# 初始化所有变量\n",
    "init_op = tf.global_variables_initializer()\n",
    "sess.run(init_op)\n",
    "\n",
    "# 直接运行，将报错  InvalidArgumentError\n",
    "# print(sess.run(y))\n",
    "\n",
    "# 需要指定输入的变量，即\n",
    "print(sess.run(y, feed_dict={x: [[0.7, 0.9]]}))\n",
    "sess.close()"
   ]
  },
  {
   "cell_type": "code",
   "execution_count": 2,
   "metadata": {},
   "outputs": [
    {
     "name": "stdout",
     "output_type": "stream",
     "text": [
      "[[-0.6053763]\n",
      " [-0.6433336]\n",
      " [-0.7547992]]\n"
     ]
    }
   ],
   "source": [
    "# 以上为单个样本的训练结果，当每次传入多个样本时\n",
    "w1 = tf.Variable(tf.random_normal([2, 3], stddev=1, seed=9))\n",
    "w2 = tf.Variable(tf.random_normal([3, 1], stddev=1, seed=9))\n",
    "\n",
    "# 定义定义placeholder 作为存放输入数据的地方，\n",
    "x = tf.placeholder(tf.float32, shape=[3, 2], name='input')    # x未指定值\n",
    "a = tf.matmul(x, w1)\n",
    "y = tf.matmul(a, w2)\n",
    "\n",
    "sess = tf.Session()\n",
    "# 初始化所有变量\n",
    "init_op = tf.global_variables_initializer()\n",
    "sess.run(init_op)\n",
    "\n",
    "print(sess.run(y, feed_dict={x: [[0.7, 0.9], [0.1, 0.4], [0.5, 0.8]]}))"
   ]
  },
  {
   "cell_type": "code",
   "execution_count": null,
   "metadata": {},
   "outputs": [],
   "source": [
    "# 通过反向传播算法，调整神将网路的参数取值\n",
    "y = tf.sigmoid(y)    # 将y转化为0-1间的数值\n",
    "# 定义损失函数来刻画预测值与真实值间的差距\n",
    "# 真实值与预测值之间的交叉熵\n",
    "cross_entropy = -tf.reduce_mean(\n",
    "    y_ * tf.log(tf.clip_by_value(y, 1e-10, 1.0))\n",
    "    + (1-y) * tf.log(clip_by_value(1-y, 1e-10, 1.0))\n",
    ")\n",
    "\n",
    "# 定义学习率\n",
    "learning_rate = 0.001\n",
    "\n",
    "# 定义反向传播算法优化神经网络中的参数\n",
    "train_step = tf.train.AdamOptimizer(learning_rate).minimize(cross_entropy)\n",
    "# tensorflow 支持10种不同的优化器，常用的三种\n",
    "# 1. tf.train.AdamOptimizer()\n",
    "# 2. tf.train.GradientDescentOptimizer()\n",
    "# 3. tf.train.MomentumOptimizer()"
   ]
  },
  {
   "cell_type": "markdown",
   "metadata": {},
   "source": [
    "#### 完整神经网络样例"
   ]
  },
  {
   "cell_type": "code",
   "execution_count": 13,
   "metadata": {},
   "outputs": [
    {
     "name": "stdout",
     "output_type": "stream",
     "text": [
      "训练神经网络前参数w1:\n",
      " [[ 1.1550728 -0.4910573  0.4444805]\n",
      " [-2.4383585 -1.9960194 -0.4842411]]\n",
      "训练神经网络前参数w2:\n",
      " [[ 1.1550728]\n",
      " [-0.4910573]\n",
      " [ 0.4444805]]\n",
      "交叉熵 0.7433128\n",
      "交叉熵 0.15372932\n",
      "交叉熵 0.062069092\n",
      "交叉熵 0.036643602\n",
      "交叉熵 0.024149176\n",
      "交叉熵 0.016729249\n",
      "交叉熵 0.0119739715\n",
      "交叉熵 0.00883453\n",
      "交叉熵 0.006709559\n",
      "交叉熵 0.005232793\n",
      "交叉熵 0.0041648312\n",
      "交叉熵 0.0033615697\n",
      "交叉熵 0.0027321307\n",
      "交叉熵 0.0022256207\n",
      "交叉熵 0.0018097104\n",
      "交叉熵 0.00146653\n",
      "交叉熵 0.0011813594\n",
      "交叉熵 0.00094564905\n",
      "交叉熵 0.00075105013\n",
      "交叉熵 0.0005922084\n",
      "训练神经网络后参数w1:\n",
      " [[ 5.253691  -6.420101   7.150643 ]\n",
      " [ 1.333112  -7.604872   5.9233236]]\n",
      "训练神经网络后参数w2:\n",
      " [[ 3.2840712]\n",
      " [-5.731046 ]\n",
      " [ 7.3852067]]\n"
     ]
    }
   ],
   "source": [
    "# 定义训练数据的大小\n",
    "batch_size = 8\n",
    "\n",
    "# 定义神经网络参数\n",
    "w1 = tf.Variable(tf.random_normal([2, 3], stddev=1, seed=9))\n",
    "w2 = tf.Variable(tf.random_normal([3, 1], stddev=1, seed=9))\n",
    "\n",
    "# 生成模拟数据\n",
    "# 在一个维度上使用None可以方便使用不同batch 大小\n",
    "x = tf.placeholder(tf.float32, shape=(None, 2), name='x-input')\n",
    "y_ = tf.placeholder(tf.float32, shape=(None, 1), name='y-input')\n",
    "\n",
    "# 定义神经网络向前传播过程\n",
    "a = tf.matmul(x, w1)\n",
    "y = tf.matmul(a, w2)\n",
    "\n",
    "# 损失函数和反向传播算法\n",
    "y = tf.sigmoid(y)\n",
    "cross_entropy = -tf.reduce_mean(\n",
    "    y_ * tf.log(tf.clip_by_value(y, 1e-10, 1.0))\n",
    "    + (1 - y)*tf.log(tf.clip_by_value(1-y, 1e-10, 1.0))\n",
    ")\n",
    "train_step = tf.train.AdamOptimizer(0.001).minimize(cross_entropy)\n",
    "\n",
    "# 生成模拟数据\n",
    "rdm = np.random.RandomState(1)\n",
    "dataset_size = 128\n",
    "\n",
    "X = rdm.rand(dataset_size, 2)    # 128×2维\n",
    "\n",
    "# 定义规则生成样本标签, x1+x2 大于 1-->0; 小于 1-->1\n",
    "Y = [[int(x1 + x2 < 1)] for x1, x2 in X]\n",
    "\n",
    "# 创建会话来运行程序\n",
    "with tf.Session() as sess:\n",
    "    # 初始化变量\n",
    "    init_op = tf.global_variables_initializer()\n",
    "    sess.run(init_op)\n",
    "    \n",
    "    print('训练神经网络前参数w1:\\n', sess.run(w1))\n",
    "    print('训练神经网络前参数w2:\\n', sess.run(w2))\n",
    "    \n",
    "    # 设定训练轮数\n",
    "    STEPS = 20000\n",
    "    for i in range(STEPS):\n",
    "        # 每轮选取batch 个样本进行训练\n",
    "        start = (i * batch_size) % dataset_size\n",
    "        end = min(start + batch_size, dataset_size)\n",
    "        \n",
    "        # 选取样本训练神经网络更新参数\n",
    "        sess.run(train_step,\n",
    "                 feed_dict={x: X[start:end], y_: Y[start:end]})\n",
    "        if i%1000 == 0:\n",
    "            total_cross_entropy = sess.run(cross_entropy,\n",
    "                                          feed_dict={x: X, y_:Y})\n",
    "            print('交叉熵', total_cross_entropy)\n",
    "    \n",
    "    print('训练神经网络后参数w1:\\n', sess.run(w1))\n",
    "    print('训练神经网络后参数w2:\\n', sess.run(w2))"
   ]
  },
  {
   "cell_type": "code",
   "execution_count": 14,
   "metadata": {},
   "outputs": [
    {
     "name": "stdout",
     "output_type": "stream",
     "text": [
      "[[-0.7384516 ]\n",
      " [-0.62005   ]\n",
      " [ 0.07074462]\n",
      " [-0.37871817]\n",
      " [-0.40198714]]\n",
      "[[0.32334283]\n",
      " [0.34977007]\n",
      " [0.5176788 ]\n",
      " [0.40643606]\n",
      " [0.400835  ]]\n"
     ]
    }
   ],
   "source": [
    "# 使用上面训练出来的参数，再进行模型预测\n",
    "x = tf.placeholder(tf.float32, shape=(None, 2), name='x-input')\n",
    "a = tf.matmul(x, w1)\n",
    "y = tf.matmul(a, w2)\n",
    "\n",
    "rdm = np.random.RandomState(1)\n",
    "dataset_size = 128\n",
    "\n",
    "X = rdm.rand(dataset_size, 2)    # 128×2维\n",
    "\n",
    "# 定义规则生成样本标签, x1+x2 大于 1-->0; 小于 1-->1\n",
    "Y = [[int(x1 + x2 < 1)] for x1, x2 in X]\n",
    "\n",
    "with tf.Session() as sess:\n",
    "    init_op = tf.global_variables_initializer()\n",
    "    sess.run(init_op)\n",
    "    \n",
    "    y_predict = sess.run(y, feed_dict={x: X[:5]})\n",
    "    print(y_predict)\n",
    "    print(sess.run(tf.sigmoid(y_predict)))"
   ]
  },
  {
   "cell_type": "markdown",
   "metadata": {},
   "source": [
    "#### 总结\n",
    "训练神经网络的过程可以分为以下三个步骤：\n",
    "1. 定义神经网络的结果和向前传播的输出结果；\n",
    "2. 定义损失函数及选择反向传播优化算法。\n",
    "3. 生成会话，并且在训练数据上反复运行反向传播优化算法。"
   ]
  },
  {
   "cell_type": "code",
   "execution_count": 7,
   "metadata": {},
   "outputs": [
    {
     "data": {
      "text/plain": [
       "[[0], [1], [1], [1], [1]]"
      ]
     },
     "execution_count": 7,
     "metadata": {},
     "output_type": "execute_result"
    }
   ],
   "source": []
  },
  {
   "cell_type": "code",
   "execution_count": null,
   "metadata": {},
   "outputs": [],
   "source": []
  }
 ],
 "metadata": {
  "kernelspec": {
   "display_name": "Python 3",
   "language": "python",
   "name": "python3"
  },
  "language_info": {
   "codemirror_mode": {
    "name": "ipython",
    "version": 3
   },
   "file_extension": ".py",
   "mimetype": "text/x-python",
   "name": "python",
   "nbconvert_exporter": "python",
   "pygments_lexer": "ipython3",
   "version": "3.7.2"
  },
  "nbTranslate": {
   "displayLangs": [
    "en"
   ],
   "hotkey": "alt-t",
   "langInMainMenu": true,
   "sourceLang": "en",
   "targetLang": "cn",
   "useGoogleTranslate": true
  },
  "toc": {
   "base_numbering": 1,
   "nav_menu": {},
   "number_sections": true,
   "sideBar": true,
   "skip_h1_title": false,
   "title_cell": "Table of Contents",
   "title_sidebar": "Contents",
   "toc_cell": false,
   "toc_position": {},
   "toc_section_display": true,
   "toc_window_display": true
  },
  "varInspector": {
   "cols": {
    "lenName": 16,
    "lenType": 16,
    "lenVar": 40
   },
   "kernels_config": {
    "python": {
     "delete_cmd_postfix": "",
     "delete_cmd_prefix": "del ",
     "library": "var_list.py",
     "varRefreshCmd": "print(var_dic_list())"
    },
    "r": {
     "delete_cmd_postfix": ") ",
     "delete_cmd_prefix": "rm(",
     "library": "var_list.r",
     "varRefreshCmd": "cat(var_dic_list()) "
    }
   },
   "position": {
    "height": "144.85px",
    "left": "1525px",
    "right": "20px",
    "top": "93px",
    "width": "350px"
   },
   "types_to_exclude": [
    "module",
    "function",
    "builtin_function_or_method",
    "instance",
    "_Feature"
   ],
   "window_display": true
  }
 },
 "nbformat": 4,
 "nbformat_minor": 2
}
