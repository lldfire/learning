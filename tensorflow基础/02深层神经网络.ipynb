{
 "cells": [
  {
   "cell_type": "markdown",
   "metadata": {},
   "source": [
    "### 深度学习与深层神经网络\n",
    "- 深度学习：通过多层非线性变换对高复杂度数据建模算法的合集\n",
    "- 深层神经网络是实现 “多层非线性变换”最常用的一种方法\n",
    "- 特性：多层 和 非线性\n",
    "- 线性模型具有局限性，使用非线性模型可以解决线性不可分问题\n",
    "\n",
    "#### 激活函数实现去线性化\n",
    "将每个神经元的输出通过一个非线性函数，那么整个神经网络就不再是线性的。神经元输出结果中增加偏置项，然后再使用激活函数。得到输出层的输出\n",
    "\n",
    "常用激活函数：\n",
    "- tf.nn.relu\n",
    "- tf.sigmoind\n",
    "- tf.tanh"
   ]
  },
  {
   "cell_type": "code",
   "execution_count": 1,
   "metadata": {},
   "outputs": [],
   "source": [
    "import tensorflow as tf\n",
    "import numpy as np"
   ]
  },
  {
   "cell_type": "code",
   "execution_count": 24,
   "metadata": {},
   "outputs": [
    {
     "name": "stdout",
     "output_type": "stream",
     "text": [
      "[[0.5249792]\n",
      " [0.5249792]\n",
      " [0.5249792]]\n",
      "[[-0.6053763]\n",
      " [-0.6433336]\n",
      " [-0.7547992]]\n"
     ]
    }
   ],
   "source": [
    "# 使用激活函数实现反向传播算法\n",
    "w1 = tf.Variable(tf.random_normal((2, 3), stddev=1, seed=9))\n",
    "w2 = tf.Variable(tf.random_normal((3, 1), stddev=1, seed=9))\n",
    "x = tf.placeholder(tf.float32, shape=[None, 2], name='x-input')\n",
    "biases1 = -0.5\n",
    "biases2 = 0.1\n",
    "\n",
    "# 使用配置项和激活函数\n",
    "# biases1:配置项\n",
    "a = tf.nn.relu(tf.matmul(x, w1) + biases1)\n",
    "y = tf.sigmoid(tf.matmul(a, w2) + biases2)\n",
    "a2 = tf.matmul(x, w1)\n",
    "y2 = tf.matmul(a2, w2)\n",
    "\n",
    "# 创建会话计算\n",
    "with tf.Session() as sess:\n",
    "    # 初始化\n",
    "    init_op = tf.global_variables_initializer()\n",
    "    sess.run(init_op)\n",
    "    print(sess.run(y, feed_dict={x: [[0.7, 0.9], [0.1, 0.4], [0.5, 0.8]]}))\n",
    "    print(sess.run(y2, feed_dict={x: [[0.7, 0.9], [0.1, 0.4], [0.5, 0.8]]}))    "
   ]
  },
  {
   "cell_type": "code",
   "execution_count": null,
   "metadata": {},
   "outputs": [],
   "source": []
  }
 ],
 "metadata": {
  "kernelspec": {
   "display_name": "Python 3",
   "language": "python",
   "name": "python3"
  },
  "language_info": {
   "codemirror_mode": {
    "name": "ipython",
    "version": 3
   },
   "file_extension": ".py",
   "mimetype": "text/x-python",
   "name": "python",
   "nbconvert_exporter": "python",
   "pygments_lexer": "ipython3",
   "version": "3.7.2"
  },
  "nbTranslate": {
   "displayLangs": [
    "cn",
    "en"
   ],
   "hotkey": "alt-t",
   "langInMainMenu": true,
   "sourceLang": "en",
   "targetLang": "cn",
   "useGoogleTranslate": true
  },
  "toc": {
   "base_numbering": 1,
   "nav_menu": {},
   "number_sections": true,
   "sideBar": true,
   "skip_h1_title": false,
   "title_cell": "Table of Contents",
   "title_sidebar": "Contents",
   "toc_cell": false,
   "toc_position": {},
   "toc_section_display": true,
   "toc_window_display": true
  },
  "varInspector": {
   "cols": {
    "lenName": 16,
    "lenType": 16,
    "lenVar": 40
   },
   "kernels_config": {
    "python": {
     "delete_cmd_postfix": "",
     "delete_cmd_prefix": "del ",
     "library": "var_list.py",
     "varRefreshCmd": "print(var_dic_list())"
    },
    "r": {
     "delete_cmd_postfix": ") ",
     "delete_cmd_prefix": "rm(",
     "library": "var_list.r",
     "varRefreshCmd": "cat(var_dic_list()) "
    }
   },
   "types_to_exclude": [
    "module",
    "function",
    "builtin_function_or_method",
    "instance",
    "_Feature"
   ],
   "window_display": true
  }
 },
 "nbformat": 4,
 "nbformat_minor": 2
}
