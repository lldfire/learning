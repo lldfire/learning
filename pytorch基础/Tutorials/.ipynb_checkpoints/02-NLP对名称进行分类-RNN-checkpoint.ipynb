{
 "cells": [
  {
   "cell_type": "code",
   "execution_count": 34,
   "metadata": {},
   "outputs": [],
   "source": [
    "import os\n",
    "import glob\n",
    "import string\n",
    "import unicodedata\n",
    "from io import open\n",
    "\n",
    "import torch\n",
    "import torch.nn as nn"
   ]
  },
  {
   "cell_type": "code",
   "execution_count": 2,
   "metadata": {},
   "outputs": [
    {
     "name": "stdout",
     "output_type": "stream",
     "text": [
      "['../../../data/pytorch_data/names\\\\Arabic.txt', '../../../data/pytorch_data/names\\\\Chinese.txt', '../../../data/pytorch_data/names\\\\Czech.txt', '../../../data/pytorch_data/names\\\\Dutch.txt', '../../../data/pytorch_data/names\\\\English.txt', '../../../data/pytorch_data/names\\\\French.txt', '../../../data/pytorch_data/names\\\\German.txt', '../../../data/pytorch_data/names\\\\Greek.txt', '../../../data/pytorch_data/names\\\\Irish.txt', '../../../data/pytorch_data/names\\\\Italian.txt', '../../../data/pytorch_data/names\\\\Japanese.txt', '../../../data/pytorch_data/names\\\\Korean.txt', '../../../data/pytorch_data/names\\\\Polish.txt', '../../../data/pytorch_data/names\\\\Portuguese.txt', '../../../data/pytorch_data/names\\\\Russian.txt', '../../../data/pytorch_data/names\\\\Scottish.txt', '../../../data/pytorch_data/names\\\\Spanish.txt', '../../../data/pytorch_data/names\\\\Vietnamese.txt']\n"
     ]
    }
   ],
   "source": [
    "# 使用正则表达式打开目录下所有符合的文件\n",
    "def find_files(path):\n",
    "    return glob.glob(path)\n",
    "\n",
    "print(find_files('../../../data/pytorch_data/names/*.txt'))"
   ]
  },
  {
   "cell_type": "code",
   "execution_count": 23,
   "metadata": {},
   "outputs": [
    {
     "name": "stdout",
     "output_type": "stream",
     "text": [
      "Kluftskramsinforpafederalelectoralgroe\n"
     ]
    }
   ],
   "source": [
    "# 将Unicode字符转化为纯ascii码\n",
    "def unicode_to_ascii(s):\n",
    "    return ''.join(\n",
    "        c for c in unicodedata.normalize('NFD', s)\n",
    "        if unicodedata.category(c) != 'Mn'\n",
    "        and c in all_letters\n",
    "    )\n",
    "\n",
    "all_letters =  string.ascii_letters + '.,;'\n",
    "n_letters = len(all_letters)\n",
    "\n",
    "print(unicode_to_ascii('Klüft skräms inför på fédéral électoral große'))\n",
    "\n",
    "categroy_lines = {}\n",
    "all_categroies = []\n",
    "\n",
    "\n",
    "def read_lines(filename):\n",
    "    lines = open(filename, encoding='utf-8').read().strip().split('\\n')\n",
    "    return [unicode_to_ascii(line) for line in lines]\n",
    "\n",
    "\n",
    "for filename in find_files('../../../data/pytorch_data/names/*.txt'):\n",
    "    category = os.path.splitext(os.path.basename(filename))[0]\n",
    "    all_categroies.append(category)\n",
    "    \n",
    "    lines = read_lines(filename)\n",
    "    categroy_lines[category] = lines\n",
    "    \n",
    "n_categroies = len(all_categroies)"
   ]
  },
  {
   "cell_type": "code",
   "execution_count": 33,
   "metadata": {},
   "outputs": [
    {
     "name": "stdout",
     "output_type": "stream",
     "text": [
      "9\n",
      "tensor([[[0., 0., 0., 0., 0., 0., 0., 0., 0., 0., 0., 0., 0., 0., 0., 0., 0.,\n",
      "          0., 0., 0., 0., 0., 0., 0., 0., 0., 0., 0., 0., 0., 0., 0., 0., 0.,\n",
      "          0., 1., 0., 0., 0., 0., 0., 0., 0., 0., 0., 0., 0., 0., 0., 0., 0.,\n",
      "          0., 0., 0., 0.]],\n",
      "\n",
      "        [[0., 0., 0., 0., 0., 0., 0., 0., 0., 0., 0., 0., 0., 0., 1., 0., 0.,\n",
      "          0., 0., 0., 0., 0., 0., 0., 0., 0., 0., 0., 0., 0., 0., 0., 0., 0.,\n",
      "          0., 0., 0., 0., 0., 0., 0., 0., 0., 0., 0., 0., 0., 0., 0., 0., 0.,\n",
      "          0., 0., 0., 0.]],\n",
      "\n",
      "        [[0., 0., 0., 0., 0., 0., 0., 0., 0., 0., 0., 0., 0., 1., 0., 0., 0.,\n",
      "          0., 0., 0., 0., 0., 0., 0., 0., 0., 0., 0., 0., 0., 0., 0., 0., 0.,\n",
      "          0., 0., 0., 0., 0., 0., 0., 0., 0., 0., 0., 0., 0., 0., 0., 0., 0.,\n",
      "          0., 0., 0., 0.]],\n",
      "\n",
      "        [[0., 0., 0., 0., 1., 0., 0., 0., 0., 0., 0., 0., 0., 0., 0., 0., 0.,\n",
      "          0., 0., 0., 0., 0., 0., 0., 0., 0., 0., 0., 0., 0., 0., 0., 0., 0.,\n",
      "          0., 0., 0., 0., 0., 0., 0., 0., 0., 0., 0., 0., 0., 0., 0., 0., 0.,\n",
      "          0., 0., 0., 0.]],\n",
      "\n",
      "        [[0., 0., 0., 0., 0., 0., 0., 0., 0., 0., 0., 0., 0., 0., 0., 0., 0.,\n",
      "          0., 1., 0., 0., 0., 0., 0., 0., 0., 0., 0., 0., 0., 0., 0., 0., 0.,\n",
      "          0., 0., 0., 0., 0., 0., 0., 0., 0., 0., 0., 0., 0., 0., 0., 0., 0.,\n",
      "          0., 0., 0., 0.]]])\n"
     ]
    }
   ],
   "source": [
    "# 将名称训练为向量\n",
    "def letter_to_index(letter):\n",
    "    \"\"\" 将字母转化为索引 \"\"\"\n",
    "    return all_letters.find(letter)\n",
    "\n",
    "\n",
    "def letter_to_tensor(letter):\n",
    "    \"\"\" 通过索引将名称转为one-hot编码 \"\"\"\n",
    "    tensor = torch.zeros(1, n_letters)\n",
    "    tensor[0][letter_to_index[letter]] = 1\n",
    "    return tensor\n",
    "\n",
    "\n",
    "def line_to_tensor(line):\n",
    "    \"\"\" 将整行字母转为张量 \"\"\"\n",
    "    tensor = torch.zeros(len(line), 1, n_letters)\n",
    "    for li, letter in enumerate(line):\n",
    "        tensor[li][0][letter_to_index(letter)] = 1\n",
    "    return tensor\n",
    "\n",
    "\n",
    "print(letter_to_index('j'))\n",
    "print(line_to_tensor('Jones'))"
   ]
  },
  {
   "cell_type": "code",
   "execution_count": 38,
   "metadata": {},
   "outputs": [],
   "source": [
    "class RNN(nn.Module):\n",
    "    def __init__(self, input_size, hidden_size, output_size):\n",
    "        super(RNN, self).__init__()\n",
    "        \n",
    "        self.hidden_size = hidden_size\n",
    "        \n",
    "        self.i2h = nn.Linear(input_size + hidden_size, hidden_size)\n",
    "        self.i2o = nn.Linear(input_size + hidden_size, output_size)\n",
    "        self.softamx = nn.LogSoftmax(dim=1)\n",
    "        \n",
    "    def forward(self, input, hidden):\n",
    "        combined = torch.cat((input, hidden), 1)\n",
    "        hidden = self.i2h(combined)\n",
    "        output = self.i2o(combined)\n",
    "        output = self.softamx(output)\n",
    "        \n",
    "        return output\n",
    "    \n",
    "    def init_hidden(self):\n",
    "        return torch.zeros(1, self.hidden_size)\n",
    "    \n",
    "n_hidden = 128\n",
    "rnn = RNN(n_letters, n_hidden, n_categroies)"
   ]
  },
  {
   "cell_type": "code",
   "execution_count": 50,
   "metadata": {},
   "outputs": [
    {
     "name": "stdout",
     "output_type": "stream",
     "text": [
      "tensor([[-2.9232, -2.9769, -2.9794, -2.8335, -2.8089, -2.9004, -2.7993, -2.7954,\n",
      "         -2.9800, -2.9061, -2.8615, -2.8924, -2.9837, -2.9369, -2.7964, -2.9207,\n",
      "         -2.8737, -2.8951]], grad_fn=<LogSoftmaxBackward>)\n"
     ]
    }
   ],
   "source": [
    "input = line_to_tensor(\"cai\")\n",
    "hidden = torch.zeros(1, n_hidden)\n",
    "\n",
    "output = rnn(input[0], hidden)\n",
    "print(output)"
   ]
  },
  {
   "cell_type": "code",
   "execution_count": 51,
   "metadata": {},
   "outputs": [
    {
     "name": "stdout",
     "output_type": "stream",
     "text": [
      "('Greek', 7)\n"
     ]
    }
   ],
   "source": [
    "def categroy_from_output(output):\n",
    "    top_n, top_i = output.topk(1)\n",
    "    categroy_i = top_i[0].item()\n",
    "    return all_categroies[categroy_i], categroy_i\n",
    "\n",
    "print(categroy_from_output(output))"
   ]
  },
  {
   "cell_type": "code",
   "execution_count": null,
   "metadata": {},
   "outputs": [],
   "source": []
  },
  {
   "cell_type": "code",
   "execution_count": null,
   "metadata": {},
   "outputs": [],
   "source": []
  }
 ],
 "metadata": {
  "kernelspec": {
   "display_name": "Python 3",
   "language": "python",
   "name": "python3"
  },
  "language_info": {
   "codemirror_mode": {
    "name": "ipython",
    "version": 3
   },
   "file_extension": ".py",
   "mimetype": "text/x-python",
   "name": "python",
   "nbconvert_exporter": "python",
   "pygments_lexer": "ipython3",
   "version": "3.7.2"
  }
 },
 "nbformat": 4,
 "nbformat_minor": 4
}
