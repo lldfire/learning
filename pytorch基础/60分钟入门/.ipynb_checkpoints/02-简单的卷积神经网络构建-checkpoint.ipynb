{
 "cells": [
  {
   "cell_type": "markdown",
   "metadata": {},
   "source": [
    "## 搭建一个简单的前馈神经网络\n",
    "### 典型的训练过程\n",
    "1. 定义一个包含可学习参数的神经网络\n",
    "2. 在数据集上迭代\n",
    "3. 通过神经网络处理输入\n",
    "4. 计算损失\n",
    "5. 将梯度反向传播回神经网络的参数\n",
    "6. 更新参数，更新算法：$w = w + \\eta *grad$"
   ]
  },
  {
   "cell_type": "code",
   "execution_count": 1,
   "metadata": {},
   "outputs": [],
   "source": [
    "import torch\n",
    "import torch.nn as nn\n",
    "import torch.nn.functional as F"
   ]
  },
  {
   "cell_type": "code",
   "execution_count": 35,
   "metadata": {},
   "outputs": [],
   "source": [
    "class Net(nn.Module):\n",
    "    def __init__(self):\n",
    "        super(Net, self).__init__()\n",
    "        # 分别代表数据的维度、卷积通道数、卷积核大小\n",
    "        self.conv1 = nn.Conv2d(1, 6, 3)\n",
    "        self.conv2 = nn.Conv2d(6, 16, 3)\n",
    "        \n",
    "        # 线性：y = wx + b，前一个是输入特征数，后一个是输出特征数\n",
    "        self.fc1 = nn.Linear(16 * 6 * 6, 120)\n",
    "        self.fc2 = nn.Linear(120, 84)\n",
    "        self.fc3 = nn.Linear(84, 10)\n",
    "    \n",
    "    # 向前传播\n",
    "    def forward(self, x):\n",
    "        # 池化卷积层，并使用修正线性单元激活函数\n",
    "        x = F.max_pool2d(F.relu(self.conv1(x)), (2, 2))\n",
    "        x = F.max_pool2d(F.relu(self.conv2(x)), 2)\n",
    "        \n",
    "        # 重新给定x的形状\n",
    "        x = x.view(-1, self.num_flat_features(x))\n",
    "        x = F.relu(self.fc1(x))\n",
    "        x = F.relu(self.fc2(x))\n",
    "        x = self.fc3(x)\n",
    "        return x\n",
    "        \n",
    "    def num_flat_features(self, x):\n",
    "        size = x.size()[1:]\n",
    "        num_features = 1\n",
    "        for s in size:\n",
    "            num_features *= s\n",
    "        return num_features"
   ]
  },
  {
   "cell_type": "code",
   "execution_count": 36,
   "metadata": {},
   "outputs": [
    {
     "name": "stdout",
     "output_type": "stream",
     "text": [
      "Net(\n",
      "  (conv1): Conv2d(1, 6, kernel_size=(3, 3), stride=(1, 1))\n",
      "  (conv2): Conv2d(6, 16, kernel_size=(3, 3), stride=(1, 1))\n",
      "  (fc1): Linear(in_features=576, out_features=120, bias=True)\n",
      "  (fc2): Linear(in_features=120, out_features=84, bias=True)\n",
      "  (fc3): Linear(in_features=84, out_features=10, bias=True)\n",
      ")\n",
      "10\n",
      "[torch.Size([6, 1, 3, 3]), torch.Size([6]), torch.Size([16, 6, 3, 3]), torch.Size([16]), torch.Size([120, 576]), torch.Size([120]), torch.Size([84, 120]), torch.Size([84]), torch.Size([10, 84]), torch.Size([10])]\n"
     ]
    }
   ],
   "source": [
    "net = Net()\n",
    "print(net)\n",
    "\n",
    "# 查看可学习参数\n",
    "params = list(net.parameters())\n",
    "print(len(params))\n",
    "# print(params)\n",
    "print([p.size() for p in params])    # 查看权重"
   ]
  },
  {
   "cell_type": "code",
   "execution_count": 38,
   "metadata": {},
   "outputs": [
    {
     "name": "stdout",
     "output_type": "stream",
     "text": [
      "tensor([[-1.3347e-01, -4.9062e-02,  5.9137e-02,  1.4116e-04,  1.2130e-01,\n",
      "          1.3707e-02, -3.1772e-02,  1.3489e-02, -1.5357e-01, -2.5954e-02]],\n",
      "       grad_fn=<AddmmBackward>)\n"
     ]
    }
   ],
   "source": [
    "# 输入一个样本,查看输出结果\n",
    "input = torch.randn(1, 1, 32, 32)\n",
    "# print(input)\n",
    "output = net(input)\n",
    "print(output)"
   ]
  },
  {
   "cell_type": "code",
   "execution_count": 39,
   "metadata": {},
   "outputs": [
    {
     "name": "stdout",
     "output_type": "stream",
     "text": [
      "tensor([[-1.3347e-01, -4.9062e-02,  5.9137e-02,  1.4116e-04,  1.2130e-01,\n",
      "          1.3707e-02, -3.1772e-02,  1.3489e-02, -1.5357e-01, -2.5954e-02]],\n",
      "       grad_fn=<AddmmBackward>)\n"
     ]
    }
   ],
   "source": [
    "net.zero_grad()       # 初始梯度设置为0，并开始向后传播\n",
    "output.backward(torch.randn(1, 10))\n",
    "print(output)"
   ]
  },
  {
   "cell_type": "code",
   "execution_count": 47,
   "metadata": {},
   "outputs": [
    {
     "name": "stdout",
     "output_type": "stream",
     "text": [
      "tensor([[ 1.7717, -1.1456, -0.8468,  0.5295,  0.0641, -1.0548,  1.5503, -0.1480,\n",
      "         -1.3860, -0.2634]])\n",
      "预测值与实际值的差异 tensor(1.1182, grad_fn=<MseLossBackward>)\n"
     ]
    }
   ],
   "source": [
    "# 使用损失函数\n",
    "output = net(input)\n",
    "target = torch.randn(10)\n",
    "target = target.view(1, -1)     # 改变样本形状与output一致\n",
    "print(target)\n",
    "# print('优化前', output)\n",
    "# 使用mse损失函数\n",
    "ceiterion = nn.MSELoss()\n",
    "loss = ceiterion(output, target)\n",
    "# print('优化后', output)\n",
    "print('预测值与实际值的差异', loss)"
   ]
  },
  {
   "cell_type": "code",
   "execution_count": 52,
   "metadata": {},
   "outputs": [
    {
     "name": "stdout",
     "output_type": "stream",
     "text": [
      "<MseLossBackward object at 0x000002F3096E9630>\n",
      "<AddmmBackward object at 0x000002F3087AAB00>\n",
      "<AccumulateGrad object at 0x000002F3087AAE80>\n"
     ]
    }
   ],
   "source": [
    "print(loss.grad_fn)  # MSELoss\n",
    "print(loss.grad_fn.next_functions[0][0])  # Linear\n",
    "print(loss.grad_fn.next_functions[0][0].next_functions[0][0])  # ReLU"
   ]
  },
  {
   "cell_type": "code",
   "execution_count": 53,
   "metadata": {},
   "outputs": [
    {
     "name": "stdout",
     "output_type": "stream",
     "text": [
      "反向传播前的梯度 tensor([0., 0., 0., 0., 0., 0.])\n",
      "反向传播后的梯度 tensor([-0.0081,  0.0200,  0.0494,  0.0368, -0.0217, -0.0381])\n"
     ]
    }
   ],
   "source": [
    "# 将所有参数的梯度的缓冲区归0\n",
    "net.zero_grad()\n",
    "print('反向传播前的梯度', net.conv1.bias.grad)\n",
    "\n",
    "loss.backward()\n",
    "print('反向传播后的梯度', net.conv1.bias.grad)"
   ]
  },
  {
   "cell_type": "code",
   "execution_count": 57,
   "metadata": {},
   "outputs": [],
   "source": [
    "# 梯度下降算法\n",
    "learning_rate = 0.01\n",
    "for f in net.parameters():\n",
    "    f.data.sub_(f.grad.data * learning_rate)"
   ]
  },
  {
   "cell_type": "code",
   "execution_count": 55,
   "metadata": {},
   "outputs": [],
   "source": [
    "import torch.optim as optim\n",
    "\n",
    "# create your optimizer\n",
    "optimizer = optim.SGD(net.parameters(), lr=0.01)\n",
    "\n",
    "# in your training loop:\n",
    "optimizer.zero_grad()   # zero the gradient buffers\n",
    "output = net(input)\n",
    "loss = criterion(output, target)\n",
    "loss.backward()\n",
    "optimizer.step()    # Does the update"
   ]
  },
  {
   "cell_type": "code",
   "execution_count": 56,
   "metadata": {},
   "outputs": [
    {
     "data": {
      "text/plain": [
       "tensor(1.0739, grad_fn=<MseLossBackward>)"
      ]
     },
     "execution_count": 56,
     "metadata": {},
     "output_type": "execute_result"
    }
   ],
   "source": [
    "loss"
   ]
  },
  {
   "cell_type": "code",
   "execution_count": null,
   "metadata": {},
   "outputs": [],
   "source": []
  },
  {
   "cell_type": "code",
   "execution_count": null,
   "metadata": {},
   "outputs": [],
   "source": []
  }
 ],
 "metadata": {
  "kernelspec": {
   "display_name": "Python 3",
   "language": "python",
   "name": "python3"
  },
  "language_info": {
   "codemirror_mode": {
    "name": "ipython",
    "version": 3
   },
   "file_extension": ".py",
   "mimetype": "text/x-python",
   "name": "python",
   "nbconvert_exporter": "python",
   "pygments_lexer": "ipython3",
   "version": "3.7.2"
  }
 },
 "nbformat": 4,
 "nbformat_minor": 4
}
