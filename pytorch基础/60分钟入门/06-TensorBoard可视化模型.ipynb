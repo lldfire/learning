{
 "cells": [
  {
   "cell_type": "markdown",
   "metadata": {},
   "source": [
    "## 基本：\n",
    "1. 读入数据并进行适当的转换\n",
    "2. 设置tensorboard\n",
    "3. 写入tensoboard\n",
    "4. 使用tensorboad 检查模型架构\n",
    "5. 创建一个可视化的交互版本\n",
    "    - 检查训练数据的几种方法\n",
    "    - 训练过程种如何跟踪模型的性能\n",
    "    - 训练后如何评估模型效果\n"
   ]
  },
  {
   "cell_type": "code",
   "execution_count": 1,
   "metadata": {},
   "outputs": [],
   "source": [
    "import matplotlib.pyplot as plt\n",
    "import numpy as np\n",
    "\n",
    "import torch\n",
    "import torchvision\n",
    "import torchvision.transforms as transforms\n",
    "\n",
    "import torch.nn as nn\n",
    "import torch.nn.functional as F\n",
    "import torch.optim as optim"
   ]
  },
  {
   "cell_type": "code",
   "execution_count": 2,
   "metadata": {},
   "outputs": [],
   "source": [
    "# 数据集转换器,组合多种数据转换方式\n",
    "transform = transforms.Compose([\n",
    "    transforms.ToTensor(),     # 转为tensor类型\n",
    "    # 根据输入的均值和标准差对图像进行归一化\n",
    "    # input = (input - mean) / std\n",
    "    transforms.Normalize((0.5,), (0.5,))     \n",
    "])\n",
    "\n",
    "data_path = r'C:\\Users\\86132\\Desktop\\jupyter\\data\\pytorch_data'\n",
    "\n",
    "# 加载数据集,并使用组合转化器对其进行转换\n",
    "trainset = torchvision.datasets.FashionMNIST(\n",
    "    data_path, download=True, train=True, transform=transform)\n",
    "testset = torchvision.datasets.FashionMNIST(\n",
    "    data_path, download=True, train=False, transform=transform)\n",
    "\n",
    "# 数据加载器\n",
    "trainloader = torch.utils.data.DataLoader(\n",
    "    trainset, batch_size=4, shuffle=True, num_workers=2)\n",
    "testloader = torch.utils.data.DataLoader(\n",
    "    testset, batch_size=4, shuffle=False, num_workers=2)\n",
    "\n",
    "# 衣服类别\n",
    "classes = ('T-shirt/top', 'Trouser', 'Pullover', 'Dress', 'Coat',\n",
    "        'Sandal', 'Shirt', 'Sneaker', 'Bag', 'Ankle Boot')"
   ]
  },
  {
   "cell_type": "code",
   "execution_count": 3,
   "metadata": {},
   "outputs": [],
   "source": [
    "# 查看图片\n",
    "def matplotlib_imgshow(image, one_channel=False):\n",
    "    if one_channel:\n",
    "        image = image.mean(dim=0)\n",
    "        \n",
    "    img = image * 0.5 + 0.5\n",
    "    npimg = img.numpy()\n",
    "    if one_channel:\n",
    "        plt.imshow(npimg, cmap='Greys')\n",
    "    else:\n",
    "        plt.imshow(np.transpose(npimg, (1, 2, 0)))"
   ]
  },
  {
   "cell_type": "code",
   "execution_count": 4,
   "metadata": {},
   "outputs": [
    {
     "data": {
      "text/plain": [
       "torch.Size([128, 10])"
      ]
     },
     "execution_count": 4,
     "metadata": {},
     "output_type": "execute_result"
    }
   ],
   "source": [
    "# 线性变换说明：\n",
    "l = nn.Linear(20, 10)            # 输入特征为20，输特征为10， \n",
    "inputs = torch.randn(128, 20)    # 128个样本，特征数为20\n",
    "l(inputs).size()                  # 变换后输出，样本总量为128，特征数为10"
   ]
  },
  {
   "cell_type": "code",
   "execution_count": 4,
   "metadata": {},
   "outputs": [],
   "source": [
    "# 定义神将网络\n",
    "class Net(nn.Module):\n",
    "    def __init__(self):\n",
    "        super(Net, self).__init__()\n",
    "        # 二维卷积：输入通道数，输出通道数，卷积核数\n",
    "        self.conv1 = nn.Conv2d(1, 6, 5)    # 卷积层\n",
    "        self.pool = nn.MaxPool2d(2, 2)     # 池化\n",
    "        self.conv2 = nn.Conv2d(6, 16, 5)\n",
    "        # 线性变换：输入特征数数，输出特征数数，图片的尺寸\n",
    "        self.fc1 = nn.Linear(16 * 4 * 4, 120)\n",
    "        self.fc2 = nn.Linear(120, 84)\n",
    "        self.fc3 = nn.Linear(84, 10)\n",
    "        \n",
    "    def forward(self, x):\n",
    "        x = self.pool(F.relu(self.conv1(x)))   # 样本卷积后，经激活函数后，并池化\n",
    "        x = self.pool(F.relu(self.conv2(x)))\n",
    "        x = x.view(-1, 16 * 4 * 4)             # 线性变换样本特征前，调整样本特征的维度\n",
    "        x = F.relu(self.fc1(x))\n",
    "        x = F.relu(self.fc2(x))\n",
    "        x = self.fc3(x)\n",
    "        return x\n",
    "\n",
    "net = Net()"
   ]
  },
  {
   "cell_type": "code",
   "execution_count": 5,
   "metadata": {},
   "outputs": [],
   "source": [
    "# 定义优化器和损失函数\n",
    "criterion = nn.CrossEntropyLoss()\n",
    "# 优化器用于优化神经网络的参数，学习率为0.001\n",
    "optimizer = optim.SGD(net.parameters(), lr=0.001, momentum=0.9)"
   ]
  },
  {
   "cell_type": "markdown",
   "metadata": {},
   "source": [
    "### 1.将图片写入tensorboard"
   ]
  },
  {
   "cell_type": "code",
   "execution_count": 6,
   "metadata": {},
   "outputs": [],
   "source": [
    "# 导入tensorboad并定义\n",
    "from torch.utils.tensorboard import SummaryWriter\n",
    "writer = SummaryWriter('runs/fashion_mnist_experiment_1')"
   ]
  },
  {
   "cell_type": "code",
   "execution_count": 7,
   "metadata": {},
   "outputs": [
    {
     "data": {
      "image/png": "[encoded data removed]",
      "text/plain": [
       "<Figure size 432x288 with 1 Axes>"
      ]
     },
     "metadata": {
      "needs_background": "light"
     },
     "output_type": "display_data"
    }
   ],
   "source": [
    "# 写入tensorboard\n",
    "dataiter = iter(trainloader)\n",
    "images, labels = dataiter.next()\n",
    "\n",
    "# 创建图像网格\n",
    "img_grid = torchvision.utils.make_grid(images)\n",
    "\n",
    "# 查看图片\n",
    "matplotlib_imgshow(img_grid, one_channel=True)\n",
    "# 写入tensorboard\n",
    "writer.add_image('four images', img_grid)\n",
    "\n",
    "# 查看tensorboard的方式\n",
    "# 到 writer 定义的目录下，命令行中启动 : tensorboard --logdir=runs"
   ]
  },
  {
   "cell_type": "markdown",
   "metadata": {},
   "source": [
    "### 2.添加计算图，进行检查模型"
   ]
  },
  {
   "cell_type": "code",
   "execution_count": 8,
   "metadata": {},
   "outputs": [],
   "source": [
    "# 添加 计算图，刷新\n",
    "writer.add_graph(net, images)\n",
    "writer.close()"
   ]
  },
  {
   "cell_type": "markdown",
   "metadata": {},
   "source": [
    "### 3.查看高维数据在低维空间的映射"
   ]
  },
  {
   "cell_type": "code",
   "execution_count": 9,
   "metadata": {},
   "outputs": [
    {
     "name": "stdout",
     "output_type": "stream",
     "text": [
      "warning: Embedding dir exists, did you set global_step for add_embedding()?\n"
     ]
    }
   ],
   "source": [
    "# 添加 projector：高维数据在低维空间中的表示\n",
    "def select_n_random(data, labels, n=100):\n",
    "    \"\"\" 从数据库中随机选取n 个点及其标签 \"\"\"\n",
    "    assert len(data) == len(labels)\n",
    "    \n",
    "    # 返回一个从 0 到 n-1 的随机整数数组\n",
    "    perm = torch.randperm(len(data))\n",
    "    return data[perm][:n], labels[perm][:n]\n",
    "\n",
    "# 获取数据集的数据和标签\n",
    "images, labels = select_n_random(trainset.data, trainset.targets)\n",
    "# 依据标签得到对应的类被\n",
    "class_labels = [classes[lab] for lab in labels]\n",
    "\n",
    "# 重塑特征\n",
    "features = images.view(-1, 28 * 28)\n",
    "writer.add_embedding(\n",
    "    features,\n",
    "    metadata=class_labels,\n",
    "    label_img=images.unsqueeze(1)\n",
    ")\n",
    "writer.close()"
   ]
  },
  {
   "cell_type": "markdown",
   "metadata": {},
   "source": [
    "### 4.tensorboard追踪模型训练"
   ]
  },
  {
   "cell_type": "code",
   "execution_count": 14,
   "metadata": {},
   "outputs": [],
   "source": [
    "# 辅助函数\n",
    "def images_to_probs(net, images):\n",
    "    \"\"\" 从训练完的神经网络和一组图片中，得到预测结果和概率值 \"\"\"\n",
    "    output = net(images)\n",
    "    _, preds_tensor = torch.max(output, 1)\n",
    "    preds = np.squeeze(preds_tensor.numpy())   # 删除数组中维度为1的数组\n",
    "    return preds, [\n",
    "        F.softmax(el, dim=0)[i].item() for i, el in zip(preds, output)]\n",
    "\n",
    "def plot_classes_preds(net, images, labels):\n",
    "    \"\"\" 绘制预测图、实际类别，预测类别，及概率值等 \"\"\"\n",
    "    preds, probs = images_to_probs(net, images)\n",
    "    \n",
    "    fig = plt.figure(figsize=(12, 48))\n",
    "    for idx in range(4):\n",
    "        ax = fig.add_subplot(1, 4, idx+1, xticks=[], yticks=[])\n",
    "        matplotlib_imgshow(images[idx], one_channel=True)\n",
    "        \n",
    "        ax.set_title('{}, {:.1f}% \\n (label: {})'.format(\n",
    "            classes[preds[idx]],\n",
    "            probs[idx] * 100.0,\n",
    "            classes[labels[idx]]),\n",
    "                color=('green' if preds[idx] == labels[idx].item() else 'red')\n",
    "        )\n",
    "    return fig"
   ]
  },
  {
   "cell_type": "code",
   "execution_count": 15,
   "metadata": {},
   "outputs": [
    {
     "name": "stdout",
     "output_type": "stream",
     "text": [
      "训练完成!\n"
     ]
    }
   ],
   "source": [
    "# 训练模型并将结果写入到tensorboard\n",
    "running_loss = 0.0\n",
    "for epoch in range(1):   # 多次遍历数据集\n",
    "    for i, data in enumerate(trainloader, 0):\n",
    "        # 获取数据和标签\n",
    "        inputs, labels = data\n",
    "        optimizer.zero_grad()    # 初始化梯度设为0\n",
    "        \n",
    "        outputs = net(inputs)   # 向前传播神经网络\n",
    "        loss = criterion(outputs, labels)\n",
    "        loss.backward()\n",
    "        optimizer.step()\n",
    "        \n",
    "        running_loss += loss.item()\n",
    "        if i % 999 == 0:\n",
    "            writer.add_scalar(\n",
    "                \"train loss\",\n",
    "                running_loss / 1000,\n",
    "                epoch * len(trainloader) + i\n",
    "            )\n",
    "        \n",
    "            # 加载matplotlib 绘制图像\n",
    "            writer.add_figure(\n",
    "                'predictions vs actuals',\n",
    "                plot_classes_preds(net, inputs, labels),\n",
    "                global_step=epoch * len(trainloader) + i\n",
    "            )\n",
    "            running_loss = 0.0\n",
    "\n",
    "print('训练完成!')"
   ]
  },
  {
   "cell_type": "markdown",
   "metadata": {},
   "source": [
    "### 5.使用tensorboard评估模型 "
   ]
  },
  {
   "cell_type": "code",
   "execution_count": 18,
   "metadata": {},
   "outputs": [],
   "source": [
    "# 1. gets the probability predictions in a test_size x num_classes Tensor\n",
    "# 2. gets the preds in a test_size Tensor\n",
    "# takes ~10 seconds to run\n",
    "class_probs = []\n",
    "class_preds = []\n",
    "with torch.no_grad():\n",
    "    for data in testloader:\n",
    "        images, labels = data\n",
    "        output = net(images)\n",
    "        class_probs_batch = [F.softmax(el, dim=0) for el in output]\n",
    "        _, class_preds_batch = torch.max(output, 1)\n",
    "\n",
    "        class_probs.append(class_probs_batch)\n",
    "        class_preds.append(class_preds_batch)\n",
    "\n",
    "test_probs = torch.cat([torch.stack(batch) for batch in class_probs])\n",
    "test_preds = torch.cat(class_preds)\n",
    "\n",
    "# helper function\n",
    "def add_pr_curve_tensorboard(class_index, test_probs, test_preds, global_step=0):\n",
    "    '''\n",
    "    Takes in a \"class_index\" from 0 to 9 and plots the corresponding\n",
    "    precision-recall curve\n",
    "    '''\n",
    "    tensorboard_preds = test_preds == class_index\n",
    "    tensorboard_probs = test_probs[:, class_index]\n",
    "\n",
    "    writer.add_pr_curve(classes[class_index],\n",
    "                        tensorboard_preds,\n",
    "                        tensorboard_probs,\n",
    "                        global_step=global_step)\n",
    "    writer.close()\n",
    "\n",
    "# plot all the pr curves\n",
    "for i in range(len(classes)):\n",
    "    add_pr_curve_tensorboard(i, test_probs, test_preds)"
   ]
  },
  {
   "cell_type": "code",
   "execution_count": null,
   "metadata": {},
   "outputs": [],
   "source": []
  }
 ],
 "metadata": {
  "kernelspec": {
   "display_name": "Python 3",
   "language": "python",
   "name": "python3"
  },
  "language_info": {
   "codemirror_mode": {
    "name": "ipython",
    "version": 3
   },
   "file_extension": ".py",
   "mimetype": "text/x-python",
   "name": "python",
   "nbconvert_exporter": "python",
   "pygments_lexer": "ipython3",
   "version": "3.7.2"
  }
 },
 "nbformat": 4,
 "nbformat_minor": 4
}
