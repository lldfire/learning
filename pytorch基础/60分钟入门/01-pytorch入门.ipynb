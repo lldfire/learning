{
 "cells": [
  {
   "cell_type": "markdown",
   "metadata": {
    "toc-hr-collapsed": true
   },
   "source": [
    "# tensor (张量)"
   ]
  },
  {
   "cell_type": "markdown",
   "metadata": {},
   "source": [
    "## 1.创建张量"
   ]
  },
  {
   "cell_type": "code",
   "execution_count": 2,
   "metadata": {},
   "outputs": [],
   "source": [
    "import torch"
   ]
  },
  {
   "cell_type": "code",
   "execution_count": 2,
   "metadata": {},
   "outputs": [
    {
     "name": "stdout",
     "output_type": "stream",
     "text": [
      "tensor([[9.9184e-39, 8.7245e-39, 9.2755e-39],\n",
      "        [8.9082e-39, 9.9184e-39, 8.4490e-39],\n",
      "        [9.6429e-39, 1.0653e-38, 1.0469e-38],\n",
      "        [4.2246e-39, 1.0378e-38, 9.6429e-39],\n",
      "        [9.2755e-39, 1.0928e-38, 9.9184e-39]])\n",
      "tensor([[0.0140, 0.4002, 0.1155, 0.2961],\n",
      "        [0.5432, 0.8869, 0.8256, 0.2656],\n",
      "        [0.7899, 0.8192, 0.2751, 0.7749],\n",
      "        [0.8417, 0.3961, 0.0172, 0.6831]])\n",
      "tensor([[0, 0],\n",
      "        [0, 0]])\n",
      "tensor([[1, 1, 1],\n",
      "        [1, 1, 1],\n",
      "        [1, 1, 1]], dtype=torch.int32)\n",
      "tensor([[1., 2., 3.],\n",
      "        [2., 3., 4.]], dtype=torch.float64)\n"
     ]
    }
   ],
   "source": [
    "# 创建一个5×3的矩阵，\n",
    "print(torch.empty(5, 3, dtype=torch.float32))\n",
    "\n",
    "# 创建一个随机矩阵0-1\n",
    "print(torch.rand(4, 4))\n",
    "\n",
    "# 创建一个以0填充的矩阵\n",
    "print(torch.zeros(2, 2, dtype=torch.long))\n",
    "\n",
    "# 创建一个以1填充的矩阵\n",
    "print(torch.ones(3, 3, dtype=torch.int32))\n",
    "\n",
    "# 创建一个常量矩阵\n",
    "print(torch.tensor([[1, 2, 3], [2, 3, 4]], dtype=torch.float64))"
   ]
  },
  {
   "cell_type": "markdown",
   "metadata": {},
   "source": [
    "## 2.张量属性"
   ]
  },
  {
   "cell_type": "code",
   "execution_count": 8,
   "metadata": {},
   "outputs": [
    {
     "name": "stdout",
     "output_type": "stream",
     "text": [
      "torch.Size([4, 4])\n",
      "tensor([[1, 1, 1],\n",
      "        [1, 1, 1],\n",
      "        [1, 1, 1],\n",
      "        [1, 1, 1],\n",
      "        [1, 1, 1]])\n",
      "tensor([[0, 0, 0],\n",
      "        [0, 0, 0],\n",
      "        [0, 0, 0]])\n",
      "tensor([[ 1.4248, -0.0763,  0.0507, -0.5932],\n",
      "        [ 0.4968,  1.6596, -0.0353,  0.0362],\n",
      "        [-0.7931, -1.3633,  0.8704, -1.9754],\n",
      "        [-1.4445,  0.8753,  0.3584,  0.0626]])\n"
     ]
    }
   ],
   "source": [
    "test = torch.tensor([[1, 3, 5, 9], [2, 4, 6, 9], [0, 0, 0, 8], [6, 3, 1, 4]])\n",
    "# 查看张量的大小\n",
    "print(test.size())\n",
    "\n",
    "# 创建新的张量 new_*\n",
    "print(test.new_ones(5, 3))\n",
    "print(test.new_zeros(3, 3))\n",
    "\n",
    "# 按照test的形状创建新的张量\n",
    "print(torch.randn_like(test, dtype=torch.float32))"
   ]
  },
  {
   "cell_type": "markdown",
   "metadata": {},
   "source": [
    "## 3.张量运算\n",
    "ps:任何以 _ 结尾的操作都会替换原有变量"
   ]
  },
  {
   "cell_type": "code",
   "execution_count": 3,
   "metadata": {},
   "outputs": [
    {
     "name": "stdout",
     "output_type": "stream",
     "text": [
      "tensor([[1.3641, 0.8083, 1.3879],\n",
      "        [1.1251, 0.5018, 1.8244],\n",
      "        [0.9540, 1.3249, 0.2458],\n",
      "        [1.2688, 1.4487, 1.6471],\n",
      "        [1.1975, 0.8152, 0.3261]])\n",
      "tensor([[1.3641, 0.8083, 1.3879],\n",
      "        [1.1251, 0.5018, 1.8244],\n",
      "        [0.9540, 1.3249, 0.2458],\n",
      "        [1.2688, 1.4487, 1.6471],\n",
      "        [1.1975, 0.8152, 0.3261]])\n"
     ]
    },
    {
     "data": {
      "text/plain": [
       "tensor([[2.1596, 1.2221, 2.1759],\n",
       "        [1.3019, 0.5799, 2.7439],\n",
       "        [1.2216, 1.8024, 0.4018],\n",
       "        [1.7407, 2.1139, 2.5912],\n",
       "        [2.1350, 1.5550, 0.5432]])"
      ]
     },
     "execution_count": 3,
     "metadata": {},
     "output_type": "execute_result"
    }
   ],
   "source": [
    "# 加/减法\n",
    "x = torch.rand(5, 3)\n",
    "y = torch.rand(5, 3)\n",
    "\n",
    "# 相加得到一个新的张量\n",
    "print(x + y)\n",
    "# 将一个张量加上另一个张量\n",
    "y.add_(x)\n",
    "print(y)\n",
    "\n",
    "# 相加后作为新的参数输出\n",
    "result = torch.empty(5, 3)\n",
    "torch.add(x, y, out=result)"
   ]
  },
  {
   "cell_type": "code",
   "execution_count": 11,
   "metadata": {},
   "outputs": [
    {
     "name": "stdout",
     "output_type": "stream",
     "text": [
      "tensor([[1, 3, 5, 9],\n",
      "        [2, 4, 6, 9],\n",
      "        [0, 0, 0, 8],\n",
      "        [6, 3, 1, 4]])\n",
      "tensor([1, 3, 5, 9, 2, 4, 6, 9, 0, 0, 0, 8, 6, 3, 1, 4])\n",
      "tensor([[1, 3, 5, 9, 2, 4, 6, 9],\n",
      "        [0, 0, 0, 8, 6, 3, 1, 4]])\n",
      "-0.7175124287605286\n"
     ]
    }
   ],
   "source": [
    "# 按索引取数据，同numpy\n",
    "print(test)\n",
    "\n",
    "# view的用法\n",
    "print(test.view(-1))   # 一维矩阵\n",
    "\n",
    "# view与reshape类似\n",
    "print(test.view(-1, 8))   # 二维矩阵, 没维中的元素数量为第二个参数的疏朗\n",
    "\n",
    "# 一个元素的张量，可以使用item() 得到python数据类型的\n",
    "t = torch.randn(1)\n",
    "print(t.item())"
   ]
  },
  {
   "cell_type": "markdown",
   "metadata": {},
   "source": [
    "## 4.numpy 转换"
   ]
  },
  {
   "cell_type": "code",
   "execution_count": 6,
   "metadata": {},
   "outputs": [],
   "source": [
    "import numpy as np"
   ]
  },
  {
   "cell_type": "code",
   "execution_count": 7,
   "metadata": {},
   "outputs": [
    {
     "name": "stdout",
     "output_type": "stream",
     "text": [
      "[[1 3 5]\n",
      " [2 4 6]\n",
      " [0 0 0]]\n",
      "tensor([1., 2., 3.], dtype=torch.float64)\n"
     ]
    }
   ],
   "source": [
    "# tensor转为 numpy\n",
    "print(test.numpy())\n",
    "\n",
    "# numpy 转为tensor\n",
    "a = np.array([1, 2, 3], dtype=np.float64)\n",
    "print(torch.from_numpy(a))"
   ]
  },
  {
   "cell_type": "markdown",
   "metadata": {},
   "source": [
    "## 5.CUDA张量"
   ]
  },
  {
   "cell_type": "code",
   "execution_count": 8,
   "metadata": {},
   "outputs": [],
   "source": [
    "# 判断是否有CUDA 可以用\n",
    "if torch.cuda.is_available():\n",
    "    pass"
   ]
  },
  {
   "cell_type": "markdown",
   "metadata": {},
   "source": [
    "# 自动微分"
   ]
  },
  {
   "cell_type": "markdown",
   "metadata": {},
   "source": [
    "## 1.跟踪所有对张量的操作"
   ]
  },
  {
   "cell_type": "code",
   "execution_count": 17,
   "metadata": {},
   "outputs": [
    {
     "name": "stdout",
     "output_type": "stream",
     "text": [
      "tensor([[1., 1., 1.],\n",
      "        [1., 1., 1.],\n",
      "        [1., 1., 1.]], requires_grad=True)\n",
      "tensor([[3., 3., 3.],\n",
      "        [3., 3., 3.],\n",
      "        [3., 3., 3.]], grad_fn=<AddBackward0>)\n",
      "<AddBackward0 object at 0x000002F382732898>\n",
      "tensor([[27., 27., 27.],\n",
      "        [27., 27., 27.],\n",
      "        [27., 27., 27.]], grad_fn=<MulBackward0>)\n",
      "tensor(27., grad_fn=<MeanBackward0>)\n",
      "False\n",
      "True\n",
      "tensor(4., grad_fn=<SumBackward0>)\n"
     ]
    }
   ],
   "source": [
    "# 创建张量，并跟踪张量\n",
    "x = torch.ones(3, 3, requires_grad=True)\n",
    "print(x)\n",
    "\n",
    "y = x + 2\n",
    "print(y)\n",
    "print(y.grad_fn)\n",
    "\n",
    "# 对x进行操作\n",
    "z = y * y * 3\n",
    "out = z.mean()\n",
    "print(z)\n",
    "print(out)\n",
    "\n",
    "# 对任意张量改变requires_grad属性\n",
    "a = torch.ones(2, 2)\n",
    "print(a.requires_grad)\n",
    "a.requires_grad_(True)\n",
    "print(a.requires_grad)\n",
    "b = (a * a).sum()\n",
    "print(b)"
   ]
  },
  {
   "cell_type": "markdown",
   "metadata": {},
   "source": [
    "## 2.梯度"
   ]
  },
  {
   "cell_type": "code",
   "execution_count": 18,
   "metadata": {},
   "outputs": [
    {
     "name": "stdout",
     "output_type": "stream",
     "text": [
      "None\n",
      "tensor([[2., 2., 2.],\n",
      "        [2., 2., 2.],\n",
      "        [2., 2., 2.]])\n"
     ]
    }
   ],
   "source": [
    "# 因为out是一个标量，对out进行求导\n",
    "print(out.backward())\n",
    "print(x.grad)"
   ]
  },
  {
   "cell_type": "code",
   "execution_count": 24,
   "metadata": {},
   "outputs": [
    {
     "name": "stdout",
     "output_type": "stream",
     "text": [
      "tensor([ 0.6700,  0.8001, -1.3855], requires_grad=True)\n",
      "None\n",
      "tensor([  686.0837,   819.2719, -1418.7572], grad_fn=<MulBackward0>)\n",
      "tensor([1.0240e+02, 1.0240e+03, 1.0240e-01])\n"
     ]
    }
   ],
   "source": [
    "# 向量可导\n",
    "x = torch.randn(3, requires_grad=True)\n",
    "print(x)\n",
    "print(x.grad)\n",
    "\n",
    "y = x * 2\n",
    "while y.data.norm() < 1000:\n",
    "    y *= 2\n",
    "\n",
    "print(y)\n",
    "# 此时y不再是个标量,将向量作为参数向后传递即可得到雅可比积\n",
    "v = torch.tensor([0.1, 1.0, 0.0001], dtype=torch.float)\n",
    "y.backward(v)\n",
    "print(x.grad)"
   ]
  },
  {
   "cell_type": "code",
   "execution_count": null,
   "metadata": {},
   "outputs": [],
   "source": []
  },
  {
   "cell_type": "code",
   "execution_count": null,
   "metadata": {},
   "outputs": [],
   "source": []
  }
 ],
 "metadata": {
  "kernelspec": {
   "display_name": "Python 3",
   "language": "python",
   "name": "python3"
  },
  "language_info": {
   "codemirror_mode": {
    "name": "ipython",
    "version": 3
   },
   "file_extension": ".py",
   "mimetype": "text/x-python",
   "name": "python",
   "nbconvert_exporter": "python",
   "pygments_lexer": "ipython3",
   "version": "3.7.2"
  }
 },
 "nbformat": 4,
 "nbformat_minor": 4
}
