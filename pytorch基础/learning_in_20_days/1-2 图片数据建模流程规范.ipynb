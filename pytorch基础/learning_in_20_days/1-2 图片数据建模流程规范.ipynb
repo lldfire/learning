{
 "cells": [
  {
   "cell_type": "code",
   "execution_count": 1,
   "metadata": {},
   "outputs": [],
   "source": [
    "import os\n",
    "import datetime\n",
    "\n",
    "def printbar():\n",
    "    nowtime = datetime.datetime.now().strftime('%Y-%m-%d %H:%M:%S')\n",
    "    print(\"\\n\"+\"==========\"*8 + \"%s\"%nowtime)\n",
    "    \n",
    "\n",
    "os.environ['KMP_DUPLICATE_LIB_OK'] = \"TRUE\""
   ]
  },
  {
   "cell_type": "markdown",
   "metadata": {},
   "source": [
    "### 1. 准备数据"
   ]
  },
  {
   "cell_type": "code",
   "execution_count": 2,
   "metadata": {},
   "outputs": [],
   "source": [
    "import torch\n",
    "from torch import nn\n",
    "from torch.utils.data import DataLoader, Dataset\n",
    "from torchvision import transforms, datasets"
   ]
  },
  {
   "cell_type": "code",
   "execution_count": 3,
   "metadata": {},
   "outputs": [],
   "source": [
    "# 实例化数据对象\n",
    "transforms_train = transforms.Compose(\n",
    "    [transforms.ToTensor()])\n",
    "transforms_valid = transforms.Compose(\n",
    "    [transforms.ToTensor()])"
   ]
  },
  {
   "cell_type": "code",
   "execution_count": 4,
   "metadata": {},
   "outputs": [
    {
     "name": "stdout",
     "output_type": "stream",
     "text": [
      "{'0_airplane': 0, '1_automobile': 1}\n"
     ]
    }
   ],
   "source": [
    "img_train = datasets.ImageFolder('./data/cifar2/train/',\n",
    "            transform=transforms_train, target_transform=lambda t: torch.tensor([t]).float())\n",
    "img_valid = datasets.ImageFolder('./data/cifar2/test/',\n",
    "            transform=transforms_valid, target_transform=lambda t: torch.tensor([t]).float())\n",
    "\n",
    "# 类别转为索引\n",
    "print(img_train.class_to_idx)"
   ]
  },
  {
   "cell_type": "code",
   "execution_count": 16,
   "metadata": {},
   "outputs": [],
   "source": [
    "# 使用管道将数据集转为pytorch可迭代的对象\n",
    "# 在notebook 中不能使用多进程，否则会出错，所以num_workers指定为0\n",
    "dl_train = DataLoader(img_train, batch_size=50, shuffle=True, num_workers=0)\n",
    "dl_valid = DataLoader(img_valid, batch_size=50, shuffle=True, num_workers=0)"
   ]
  },
  {
   "cell_type": "code",
   "execution_count": 6,
   "metadata": {},
   "outputs": [],
   "source": [
    "from matplotlib import pyplot as plt"
   ]
  },
  {
   "cell_type": "code",
   "execution_count": 7,
   "metadata": {},
   "outputs": [
    {
     "data": {
      "image/png": "[encoded data removed]",
      "text/plain": [
       "<Figure size 432x288 with 1 Axes>"
      ]
     },
     "metadata": {},
     "output_type": "display_data"
    }
   ],
   "source": [
    "# 查看样本样例\n",
    "%matplotlib inline\n",
    "%config InlineBackend.figure = 'svg'\n",
    "\n",
    "plt.figure(facecolor='w')\n",
    "for i in range(9):\n",
    "    img, label = img_train[i]\n",
    "    img = img.permute(1, 2, 0)\n",
    "    ax = plt.subplot(3, 3, i+1)\n",
    "    ax.imshow(img.numpy())\n",
    "    ax.set_title('label = %d' % label.item())\n",
    "    plt.show()\n",
    "    break"
   ]
  },
  {
   "cell_type": "code",
   "execution_count": 27,
   "metadata": {},
   "outputs": [
    {
     "name": "stdout",
     "output_type": "stream",
     "text": [
      "torch.Size([50, 3, 32, 32]) torch.Size([50, 1])\n"
     ]
    }
   ],
   "source": [
    "for x, y in dl_train:\n",
    "    print(x.shape, y.shape)\n",
    "    break"
   ]
  },
  {
   "cell_type": "markdown",
   "metadata": {},
   "source": [
    "### 2. 定义模型\n",
    "词出选择nn.Module基类构建自定义模型"
   ]
  },
  {
   "cell_type": "code",
   "execution_count": 8,
   "metadata": {},
   "outputs": [
    {
     "data": {
      "text/plain": [
       "torch.Size([10, 8, 1, 1])"
      ]
     },
     "execution_count": 8,
     "metadata": {},
     "output_type": "execute_result"
    }
   ],
   "source": [
    "pool = nn.AdaptiveMaxPool2d((1, 1))\n",
    "t = torch.randn(10, 8, 32, 32)\n",
    "pool(t).shape"
   ]
  },
  {
   "cell_type": "code",
   "execution_count": 9,
   "metadata": {},
   "outputs": [
    {
     "name": "stdout",
     "output_type": "stream",
     "text": [
      "Net(\n",
      "  (conv1): Conv2d(3, 32, kernel_size=(3, 3), stride=(1, 1))\n",
      "  (pool): MaxPool2d(kernel_size=2, stride=2, padding=0, dilation=1, ceil_mode=False)\n",
      "  (conv2): Conv2d(32, 64, kernel_size=(5, 5), stride=(1, 1))\n",
      "  (dropout): Dropout2d(p=0.1, inplace=False)\n",
      "  (adaptive_pool): AdaptiveMaxPool2d(output_size=(1, 1))\n",
      "  (flatten): Flatten()\n",
      "  (linear1): Linear(in_features=64, out_features=32, bias=True)\n",
      "  (relu): ReLU()\n",
      "  (linear2): Linear(in_features=32, out_features=1, bias=True)\n",
      "  (sigmoid): Sigmoid()\n",
      ")\n"
     ]
    }
   ],
   "source": [
    "class Net(nn.Module):\n",
    "    def __init__(self):\n",
    "        super(Net, self).__init__()\n",
    "        self.conv1 = nn.Conv2d(in_channels=3, out_channels=32, kernel_size=3)\n",
    "        self.pool = nn.MaxPool2d(kernel_size=2, stride=2)\n",
    "        self.conv2 = nn.Conv2d(in_channels=32, out_channels=64, kernel_size=5)\n",
    "        self.dropout = nn.Dropout2d(p=0.1)\n",
    "        self.adaptive_pool = nn.AdaptiveMaxPool2d((1, 1))\n",
    "        self.flatten = nn.Flatten()\n",
    "        self.linear1 = nn.Linear(64, 32)\n",
    "        self.relu = nn.ReLU()\n",
    "        self.linear2 = nn.Linear(32, 1)\n",
    "        self.sigmoid = nn.Sigmoid()\n",
    "        \n",
    "    def forward(self, x):\n",
    "        x = self.conv1(x)    # 卷积\n",
    "        x = self.pool(x)     # 池化\n",
    "        x = self.conv2(x)    \n",
    "        x = self.pool(x)\n",
    "        x = self.dropout(x)\n",
    "        x = self.adaptive_pool(x)\n",
    "        x = self.flatten(x)\n",
    "        x = self.linear1(x)\n",
    "        x = self.relu(x)\n",
    "        x = self.linear2(x)\n",
    "        y = self.sigmoid(x)\n",
    "        \n",
    "        return y\n",
    "\n",
    "\n",
    "net = Net()\n",
    "print(net)"
   ]
  },
  {
   "cell_type": "markdown",
   "metadata": {},
   "source": [
    "### 3. 训练模型\n",
    "* 函数形式训练循环"
   ]
  },
  {
   "cell_type": "code",
   "execution_count": 21,
   "metadata": {},
   "outputs": [],
   "source": [
    "import tqdm\n",
    "import pandas as pd\n",
    "from sklearn.metrics import roc_auc_score"
   ]
  },
  {
   "cell_type": "code",
   "execution_count": 11,
   "metadata": {},
   "outputs": [],
   "source": [
    "model = net\n",
    "model.optimizer = torch.optim.SGD(model.parameters(), lr=.01)\n",
    "model.loss_func = torch.nn.BCELoss()\n",
    "model.metric_func = lambda y_pred, y_true: roc_auc_score(y_true.data.numpy(), y_pred.data.numpy())\n",
    "model.metric_name = 'auc'"
   ]
  },
  {
   "cell_type": "code",
   "execution_count": 17,
   "metadata": {},
   "outputs": [
    {
     "data": {
      "text/plain": [
       "(0.6951138973236084, 0.5256410256410255)"
      ]
     },
     "execution_count": 17,
     "metadata": {},
     "output_type": "execute_result"
    }
   ],
   "source": [
    "def train_step(model, features, labels):\n",
    "    model.train()    # 训练模型\n",
    "    model.optimizer.zero_grad()    # 梯度清零\n",
    "    \n",
    "    predictions = model(features)   # 正向传播求损失\n",
    "    loss = model.loss_func(predictions, labels)\n",
    "    metric = model.metric_func(predictions, labels)\n",
    "    \n",
    "    # 反向传播求梯度\n",
    "    loss.backward()\n",
    "    model.optimizer.step()\n",
    "    return loss.item(), metric.item()\n",
    "\n",
    "\n",
    "def valid_step(model, features, labels):\n",
    "    # 预测模式，dropout不发生作用\n",
    "    model.eval()\n",
    "    # 关闭梯度计算\n",
    "    with torch.no_grad():\n",
    "        predictions = model(features)\n",
    "        loss = model.loss_func(predictions, labels)\n",
    "        metric = model.metric_func(predictions, labels)\n",
    "        return loss.item(), metric.item()\n",
    "\n",
    "# 测试训练效果\n",
    "features, labels = next(iter(dl_train))\n",
    "train_step(model, features, labels)"
   ]
  },
  {
   "cell_type": "code",
   "execution_count": 22,
   "metadata": {},
   "outputs": [],
   "source": [
    "def train_model(model, epochs, dl_train, dl_valid, log_step_freq):\n",
    "    metric_name = model.metric_name\n",
    "    history = pd.DataFrame(columns=[\n",
    "       \"epoch\",\"loss\",metric_name,\"val_loss\",\"val_\"+metric_name \n",
    "    ])\n",
    "    print('Start Training ...')\n",
    "    \n",
    "    nowtime = datetime.datetime.now().strftime('%Y-%m-%d %H:%M:%S')\n",
    "    print('============' * 8, nowtime)\n",
    "\n",
    "    for epoch in tqdm.tqdm(range(1, epochs + 1)):\n",
    "        # 训练循环\n",
    "        loss_sum = .0\n",
    "        metric_sum = .0\n",
    "        \n",
    "        step = 1\n",
    "        for step, (features, labels) in enumerate(dl_train, 1):\n",
    "            loss, metric = train_step(model, features, labels)\n",
    "            loss_sum += loss\n",
    "            metric_sum += metric\n",
    "            if step % log_step_freq == 0:\n",
    "                print((\"[step = %d] loss: %.3f, \"+metric_name+\": %.3f\") %\n",
    "                      (step, loss_sum/step, metric_sum/step))\n",
    "                \n",
    "        # 验证循环\n",
    "        val_loss_sum = .0\n",
    "        val_metric_sum = .0\n",
    "        val_step = 1\n",
    "        for val_step, (features,labels) in enumerate(dl_valid, 1):\n",
    "            val_loss,val_metric = valid_step(model,features,labels)\n",
    "\n",
    "            val_loss_sum += val_loss\n",
    "            val_metric_sum += val_metric\n",
    "        # 3，记录日志-------------------------------------------------\n",
    "        info = (epoch, loss_sum/step, metric_sum/step, \n",
    "                val_loss_sum/val_step, val_metric_sum/val_step)\n",
    "        history.loc[epoch-1] = info\n",
    "\n",
    "        # 打印epoch级别日志\n",
    "        print((\"\\nEPOCH = %d, loss = %.3f,\"+ metric_name + \\\n",
    "              \"  = %.3f, val_loss = %.3f, \"+\"val_\"+ metric_name+\" = %.3f\") \n",
    "              %info)\n",
    "        nowtime = datetime.datetime.now().strftime('%Y-%m-%d %H:%M:%S')\n",
    "        print(\"\\n\"+\"==========\"*8 + \"%s\"%nowtime)\n",
    "\n",
    "    print('Finished Training...')\n",
    "    \n",
    "    return history    \n",
    "        "
   ]
  },
  {
   "cell_type": "code",
   "execution_count": 23,
   "metadata": {},
   "outputs": [
    {
     "name": "stderr",
     "output_type": "stream",
     "text": [
      "  0%|                                                                       | 0/20 [00:00<?, ?it/s]"
     ]
    },
    {
     "name": "stdout",
     "output_type": "stream",
     "text": [
      "Start Training ...\n",
      "================================================================================================ 2020-10-20 19:51:54\n",
      "[step = 50] loss: 0.691, auc: 0.639\n",
      "[step = 100] loss: 0.690, auc: 0.682\n",
      "[step = 150] loss: 0.689, auc: 0.696\n",
      "[step = 200] loss: 0.687, auc: 0.711\n"
     ]
    },
    {
     "name": "stderr",
     "output_type": "stream",
     "text": [
      "  5%|███                                                         | 1/20 [03:52<1:13:45, 232.91s/it]"
     ]
    },
    {
     "name": "stdout",
     "output_type": "stream",
     "text": [
      "\n",
      "EPOCH = 1, loss = 0.687,auc  = 0.711, val_loss = 0.677, val_auc = 0.816\n",
      "\n",
      "================================================================================2020-10-20 19:55:47\n",
      "[step = 50] loss: 0.674, auc: 0.789\n",
      "[step = 100] loss: 0.672, auc: 0.791\n",
      "[step = 150] loss: 0.668, auc: 0.791\n",
      "[step = 200] loss: 0.664, auc: 0.796\n"
     ]
    },
    {
     "name": "stderr",
     "output_type": "stream",
     "text": [
      " 10%|██████▏                                                       | 2/20 [04:08<50:18, 167.69s/it]"
     ]
    },
    {
     "name": "stdout",
     "output_type": "stream",
     "text": [
      "\n",
      "EPOCH = 2, loss = 0.664,auc  = 0.796, val_loss = 0.640, val_auc = 0.825\n",
      "\n",
      "================================================================================2020-10-20 19:56:03\n",
      "[step = 50] loss: 0.637, auc: 0.807\n",
      "[step = 100] loss: 0.630, auc: 0.803\n",
      "[step = 150] loss: 0.622, auc: 0.802\n",
      "[step = 200] loss: 0.614, auc: 0.801\n"
     ]
    },
    {
     "name": "stderr",
     "output_type": "stream",
     "text": [
      " 15%|█████████▎                                                    | 3/20 [04:23<34:31, 121.83s/it]"
     ]
    },
    {
     "name": "stdout",
     "output_type": "stream",
     "text": [
      "\n",
      "EPOCH = 3, loss = 0.614,auc  = 0.801, val_loss = 0.567, val_auc = 0.831\n",
      "\n",
      "================================================================================2020-10-20 19:56:18\n",
      "[step = 50] loss: 0.572, auc: 0.800\n",
      "[step = 100] loss: 0.565, auc: 0.802\n",
      "[step = 150] loss: 0.559, auc: 0.805\n",
      "[step = 200] loss: 0.555, auc: 0.804\n"
     ]
    },
    {
     "name": "stderr",
     "output_type": "stream",
     "text": [
      " 20%|████████████▌                                                  | 4/20 [04:37<23:54, 89.65s/it]"
     ]
    },
    {
     "name": "stdout",
     "output_type": "stream",
     "text": [
      "\n",
      "EPOCH = 4, loss = 0.555,auc  = 0.804, val_loss = 0.514, val_auc = 0.832\n",
      "\n",
      "================================================================================2020-10-20 19:56:32\n",
      "[step = 50] loss: 0.527, auc: 0.817\n",
      "[step = 100] loss: 0.524, auc: 0.819\n",
      "[step = 150] loss: 0.527, auc: 0.816\n",
      "[step = 200] loss: 0.526, auc: 0.817\n"
     ]
    },
    {
     "name": "stderr",
     "output_type": "stream",
     "text": [
      " 25%|███████████████▊                                               | 5/20 [04:52<16:49, 67.28s/it]"
     ]
    },
    {
     "name": "stdout",
     "output_type": "stream",
     "text": [
      "\n",
      "EPOCH = 5, loss = 0.526,auc  = 0.817, val_loss = 0.492, val_auc = 0.844\n",
      "\n",
      "================================================================================2020-10-20 19:56:47\n",
      "[step = 50] loss: 0.520, auc: 0.825\n",
      "[step = 100] loss: 0.514, auc: 0.829\n",
      "[step = 150] loss: 0.513, auc: 0.831\n",
      "[step = 200] loss: 0.514, auc: 0.830\n"
     ]
    },
    {
     "name": "stderr",
     "output_type": "stream",
     "text": [
      " 30%|██████████████████▉                                            | 6/20 [05:07<12:02, 51.57s/it]"
     ]
    },
    {
     "name": "stdout",
     "output_type": "stream",
     "text": [
      "\n",
      "EPOCH = 6, loss = 0.514,auc  = 0.830, val_loss = 0.478, val_auc = 0.852\n",
      "\n",
      "================================================================================2020-10-20 19:57:02\n",
      "[step = 50] loss: 0.505, auc: 0.838\n",
      "[step = 100] loss: 0.511, auc: 0.833\n",
      "[step = 150] loss: 0.511, auc: 0.830\n",
      "[step = 200] loss: 0.502, auc: 0.837\n"
     ]
    },
    {
     "name": "stderr",
     "output_type": "stream",
     "text": [
      " 35%|██████████████████████                                         | 7/20 [05:23<08:49, 40.73s/it]"
     ]
    },
    {
     "name": "stdout",
     "output_type": "stream",
     "text": [
      "\n",
      "EPOCH = 7, loss = 0.502,auc  = 0.837, val_loss = 0.468, val_auc = 0.858\n",
      "\n",
      "================================================================================2020-10-20 19:57:17\n",
      "[step = 50] loss: 0.500, auc: 0.835\n",
      "[step = 100] loss: 0.492, auc: 0.843\n",
      "[step = 150] loss: 0.497, auc: 0.838\n",
      "[step = 200] loss: 0.494, auc: 0.841\n"
     ]
    },
    {
     "name": "stderr",
     "output_type": "stream",
     "text": [
      " 40%|█████████████████████████▏                                     | 8/20 [05:39<06:39, 33.26s/it]"
     ]
    },
    {
     "name": "stdout",
     "output_type": "stream",
     "text": [
      "\n",
      "EPOCH = 8, loss = 0.494,auc  = 0.841, val_loss = 0.459, val_auc = 0.865\n",
      "\n",
      "================================================================================2020-10-20 19:57:33\n",
      "[step = 50] loss: 0.492, auc: 0.842\n",
      "[step = 100] loss: 0.489, auc: 0.845\n",
      "[step = 150] loss: 0.491, auc: 0.845\n",
      "[step = 200] loss: 0.487, auc: 0.848\n"
     ]
    },
    {
     "name": "stderr",
     "output_type": "stream",
     "text": [
      " 45%|████████████████████████████▎                                  | 9/20 [05:53<05:05, 27.74s/it]"
     ]
    },
    {
     "name": "stdout",
     "output_type": "stream",
     "text": [
      "\n",
      "EPOCH = 9, loss = 0.487,auc  = 0.848, val_loss = 0.449, val_auc = 0.871\n",
      "\n",
      "================================================================================2020-10-20 19:57:48\n",
      "[step = 50] loss: 0.463, auc: 0.864\n",
      "[step = 100] loss: 0.473, auc: 0.858\n",
      "[step = 150] loss: 0.480, auc: 0.852\n",
      "[step = 200] loss: 0.478, auc: 0.854\n"
     ]
    },
    {
     "name": "stderr",
     "output_type": "stream",
     "text": [
      " 50%|███████████████████████████████                               | 10/20 [06:08<03:58, 23.84s/it]"
     ]
    },
    {
     "name": "stdout",
     "output_type": "stream",
     "text": [
      "\n",
      "EPOCH = 10, loss = 0.478,auc  = 0.854, val_loss = 0.441, val_auc = 0.876\n",
      "\n",
      "================================================================================2020-10-20 19:58:03\n",
      "[step = 50] loss: 0.479, auc: 0.854\n",
      "[step = 100] loss: 0.473, auc: 0.859\n",
      "[step = 150] loss: 0.467, auc: 0.863\n",
      "[step = 200] loss: 0.467, auc: 0.863\n"
     ]
    },
    {
     "name": "stderr",
     "output_type": "stream",
     "text": [
      " 55%|██████████████████████████████████                            | 11/20 [06:23<03:09, 21.04s/it]"
     ]
    },
    {
     "name": "stdout",
     "output_type": "stream",
     "text": [
      "\n",
      "EPOCH = 11, loss = 0.467,auc  = 0.863, val_loss = 0.430, val_auc = 0.886\n",
      "\n",
      "================================================================================2020-10-20 19:58:17\n",
      "[step = 50] loss: 0.463, auc: 0.866\n",
      "[step = 100] loss: 0.462, auc: 0.868\n",
      "[step = 150] loss: 0.459, auc: 0.869\n",
      "[step = 200] loss: 0.458, auc: 0.871\n"
     ]
    },
    {
     "name": "stderr",
     "output_type": "stream",
     "text": [
      " 60%|█████████████████████████████████████▏                        | 12/20 [06:37<02:31, 18.99s/it]"
     ]
    },
    {
     "name": "stdout",
     "output_type": "stream",
     "text": [
      "\n",
      "EPOCH = 12, loss = 0.458,auc  = 0.871, val_loss = 0.433, val_auc = 0.895\n",
      "\n",
      "================================================================================2020-10-20 19:58:32\n",
      "[step = 50] loss: 0.455, auc: 0.872\n",
      "[step = 100] loss: 0.448, auc: 0.878\n",
      "[step = 150] loss: 0.451, auc: 0.878\n",
      "[step = 200] loss: 0.449, auc: 0.880\n"
     ]
    },
    {
     "name": "stderr",
     "output_type": "stream",
     "text": [
      " 65%|████████████████████████████████████████▎                     | 13/20 [06:51<02:03, 17.61s/it]"
     ]
    },
    {
     "name": "stdout",
     "output_type": "stream",
     "text": [
      "\n",
      "EPOCH = 13, loss = 0.449,auc  = 0.880, val_loss = 0.414, val_auc = 0.901\n",
      "\n",
      "================================================================================2020-10-20 19:58:46\n",
      "[step = 50] loss: 0.439, auc: 0.880\n",
      "[step = 100] loss: 0.434, auc: 0.883\n",
      "[step = 150] loss: 0.433, auc: 0.885\n",
      "[step = 200] loss: 0.431, auc: 0.888\n"
     ]
    },
    {
     "name": "stderr",
     "output_type": "stream",
     "text": [
      " 70%|███████████████████████████████████████████▍                  | 14/20 [07:05<01:39, 16.58s/it]"
     ]
    },
    {
     "name": "stdout",
     "output_type": "stream",
     "text": [
      "\n",
      "EPOCH = 14, loss = 0.431,auc  = 0.888, val_loss = 0.400, val_auc = 0.906\n",
      "\n",
      "================================================================================2020-10-20 19:59:00\n",
      "[step = 50] loss: 0.425, auc: 0.895\n",
      "[step = 100] loss: 0.423, auc: 0.897\n",
      "[step = 150] loss: 0.422, auc: 0.897\n",
      "[step = 200] loss: 0.419, auc: 0.898\n"
     ]
    },
    {
     "name": "stderr",
     "output_type": "stream",
     "text": [
      " 75%|██████████████████████████████████████████████▌               | 15/20 [07:20<01:20, 16.04s/it]"
     ]
    },
    {
     "name": "stdout",
     "output_type": "stream",
     "text": [
      "\n",
      "EPOCH = 15, loss = 0.419,auc  = 0.898, val_loss = 0.378, val_auc = 0.914\n",
      "\n",
      "================================================================================2020-10-20 19:59:15\n",
      "[step = 50] loss: 0.421, auc: 0.903\n",
      "[step = 100] loss: 0.423, auc: 0.902\n",
      "[step = 150] loss: 0.421, auc: 0.903\n",
      "[step = 200] loss: 0.420, auc: 0.906\n"
     ]
    },
    {
     "name": "stderr",
     "output_type": "stream",
     "text": [
      " 80%|█████████████████████████████████████████████████▌            | 16/20 [07:35<01:02, 15.63s/it]"
     ]
    },
    {
     "name": "stdout",
     "output_type": "stream",
     "text": [
      "\n",
      "EPOCH = 16, loss = 0.420,auc  = 0.906, val_loss = 0.373, val_auc = 0.923\n",
      "\n",
      "================================================================================2020-10-20 19:59:30\n",
      "[step = 50] loss: 0.413, auc: 0.907\n",
      "[step = 100] loss: 0.407, auc: 0.909\n",
      "[step = 150] loss: 0.405, auc: 0.909\n",
      "[step = 200] loss: 0.403, auc: 0.912\n"
     ]
    },
    {
     "name": "stderr",
     "output_type": "stream",
     "text": [
      " 85%|████████████████████████████████████████████████████▋         | 17/20 [07:49<00:45, 15.06s/it]"
     ]
    },
    {
     "name": "stdout",
     "output_type": "stream",
     "text": [
      "\n",
      "EPOCH = 17, loss = 0.403,auc  = 0.912, val_loss = 0.355, val_auc = 0.929\n",
      "\n",
      "================================================================================2020-10-20 19:59:43\n",
      "[step = 50] loss: 0.394, auc: 0.918\n",
      "[step = 100] loss: 0.400, auc: 0.919\n",
      "[step = 150] loss: 0.399, auc: 0.918\n",
      "[step = 200] loss: 0.393, auc: 0.919\n"
     ]
    },
    {
     "name": "stderr",
     "output_type": "stream",
     "text": [
      " 90%|███████████████████████████████████████████████████████▊      | 18/20 [08:03<00:29, 14.76s/it]"
     ]
    },
    {
     "name": "stdout",
     "output_type": "stream",
     "text": [
      "\n",
      "EPOCH = 18, loss = 0.393,auc  = 0.919, val_loss = 0.350, val_auc = 0.933\n",
      "\n",
      "================================================================================2020-10-20 19:59:57\n",
      "[step = 50] loss: 0.385, auc: 0.925\n",
      "[step = 100] loss: 0.378, auc: 0.926\n",
      "[step = 150] loss: 0.380, auc: 0.928\n",
      "[step = 200] loss: 0.383, auc: 0.926\n"
     ]
    },
    {
     "name": "stderr",
     "output_type": "stream",
     "text": [
      " 95%|██████████████████████████████████████████████████████████▉   | 19/20 [08:16<00:14, 14.45s/it]"
     ]
    },
    {
     "name": "stdout",
     "output_type": "stream",
     "text": [
      "\n",
      "EPOCH = 19, loss = 0.383,auc  = 0.926, val_loss = 0.343, val_auc = 0.935\n",
      "\n",
      "================================================================================2020-10-20 20:00:11\n",
      "[step = 50] loss: 0.363, auc: 0.930\n",
      "[step = 100] loss: 0.368, auc: 0.931\n",
      "[step = 150] loss: 0.369, auc: 0.929\n",
      "[step = 200] loss: 0.365, auc: 0.931\n"
     ]
    },
    {
     "name": "stderr",
     "output_type": "stream",
     "text": [
      "100%|██████████████████████████████████████████████████████████████| 20/20 [08:30<00:00, 25.52s/it]"
     ]
    },
    {
     "name": "stdout",
     "output_type": "stream",
     "text": [
      "\n",
      "EPOCH = 20, loss = 0.365,auc  = 0.931, val_loss = 0.364, val_auc = 0.940\n",
      "\n",
      "================================================================================2020-10-20 20:00:25\n",
      "Finished Training...\n"
     ]
    },
    {
     "name": "stderr",
     "output_type": "stream",
     "text": [
      "\n"
     ]
    }
   ],
   "source": [
    "history = train_model(model, 20, dl_train, dl_valid, log_step_freq=50)"
   ]
  },
  {
   "cell_type": "markdown",
   "metadata": {},
   "source": [
    "### 4. 模型评估\n",
    "### 5. 模型保存\n",
    "### 6. 部署使用"
   ]
  },
  {
   "cell_type": "code",
   "execution_count": null,
   "metadata": {},
   "outputs": [],
   "source": []
  }
 ],
 "metadata": {
  "kernelspec": {
   "display_name": "Python 3",
   "language": "python",
   "name": "python3"
  },
  "language_info": {
   "codemirror_mode": {
    "name": "ipython",
    "version": 3
   },
   "file_extension": ".py",
   "mimetype": "text/x-python",
   "name": "python",
   "nbconvert_exporter": "python",
   "pygments_lexer": "ipython3",
   "version": "3.7.2"
  }
 },
 "nbformat": 4,
 "nbformat_minor": 4
}
