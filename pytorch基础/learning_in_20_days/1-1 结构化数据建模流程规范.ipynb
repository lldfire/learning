{
 "cells": [
  {
   "cell_type": "code",
   "execution_count": null,
   "metadata": {},
   "outputs": [],
   "source": [
    "import os\n",
    "import datetime\n",
    "\n",
    "def printbar():\n",
    "    nowtime = datetime.datetime.now().strftime('%Y-%m-%d %H:%M:%S')\n",
    "    print(\"\\n\"+\"==========\"*8 + \"%s\"%nowtime)\n",
    "    \n",
    "\n",
    "os.environ['KMP_DUPLICATE_LIB_OK'] = \"TRUE\""
   ]
  },
  {
   "cell_type": "code",
   "execution_count": 2,
   "metadata": {},
   "outputs": [],
   "source": [
    "# 导入包\n",
    "import numpy as np\n",
    "import pandas as pd\n",
    "import matplotlib.pyplot as plt\n",
    "import torch\n",
    "from torch import nn\n",
    "from torch.utils.data import DataLoader, Dataset, TensorDataset"
   ]
  },
  {
   "cell_type": "markdown",
   "metadata": {},
   "source": [
    "## 一、准备数据\n",
    "* Survived:0代表死亡，1代表存活【y标签】\n",
    "* Pclass:乘客所持票类，有三种值(1,2,3) 【转换成onehot编码】\n",
    "* Name:乘客姓名 【舍去】\n",
    "* Sex:乘客性别 【转换成bool特征】\n",
    "* Age:乘客年龄(有缺失) 【数值特征，添加“年龄是否缺失”作为辅助特征】\n",
    "* SibSp:乘客兄弟姐妹/配偶的个数(整数值) 【数值特征】\n",
    "* Parch:乘客父母/孩子的个数(整数值)【数值特征】\n",
    "* Ticket:票号(字符串)【舍去】\n",
    "* Fare:乘客所持票的价格(浮点数，0-500不等) 【数值特征】\n",
    "* Cabin:乘客所在船舱(有缺失) 【添加“所在船舱是否缺失”作为辅助特征】\n",
    "* Embarked:乘客登船港口:S、C、Q(有缺失)【转换成onehot编码，四维度 S,C,Q,nan】\n"
   ]
  },
  {
   "cell_type": "code",
   "execution_count": 3,
   "metadata": {},
   "outputs": [],
   "source": [
    "train_df = pd.read_csv('./data/titanic/train.csv')\n",
    "test_df = pd.read_csv('./data/titanic/test.csv')"
   ]
  },
  {
   "cell_type": "code",
   "execution_count": 4,
   "metadata": {},
   "outputs": [
    {
     "data": {
      "image/png": "[encoded data removed]",
      "text/plain": [
       "<Figure size 432x288 with 1 Axes>"
      ]
     },
     "metadata": {
      "needs_background": "light"
     },
     "output_type": "display_data"
    }
   ],
   "source": [
    "# 查看标签的分布情况\n",
    "# 内嵌画图\n",
    "# 存活分布情况\n",
    "%matplotlib inline\n",
    "%config InlineBackend.figure_format = 'png'\n",
    "\n",
    "ax = train_df['Survived'].value_counts().plot(\n",
    "    kind='bar', rot=0)\n",
    "ax.set_ylabel('Counts')\n",
    "ax.set_xlabel('Survived')\n",
    "plt.show()"
   ]
  },
  {
   "cell_type": "code",
   "execution_count": null,
   "metadata": {},
   "outputs": [],
   "source": [
    "# 年龄分布情况\n",
    "%matplotlib inline\n",
    "%config InlineBackend.figure_format = 'png'\n",
    "\n",
    "ax = train_df['Age'].plot(\n",
    "    kind='hist', bins=20, color='purple')\n",
    "ax.set_ylabel('Counts')\n",
    "ax.set_xlabel('Survived')\n",
    "plt.show()"
   ]
  },
  {
   "cell_type": "code",
   "execution_count": null,
   "metadata": {},
   "outputs": [],
   "source": [
    "# 年龄和label的相关性\n",
    "%matplotlib inline\n",
    "%config InlineBackend.figure_format = 'png'\n",
    "\n",
    "ax = train_df.query('Survived == 0')['Age'].plot(kind='density')\n",
    "ax = train_df.query('Survived == 1')['Age'].plot(kind='density')\n",
    "ax.legend(['Survived==0', 'Survived==1'])\n",
    "ax.set_ylabel('Density')\n",
    "ax.set_xlabel('Age')\n",
    "\n",
    "plt.show()"
   ]
  },
  {
   "cell_type": "code",
   "execution_count": 4,
   "metadata": {},
   "outputs": [
    {
     "data": {
      "text/html": [
       "<div>\n",
       "<style scoped>\n",
       "    .dataframe tbody tr th:only-of-type {\n",
       "        vertical-align: middle;\n",
       "    }\n",
       "\n",
       "    .dataframe tbody tr th {\n",
       "        vertical-align: top;\n",
       "    }\n",
       "\n",
       "    .dataframe thead th {\n",
       "        text-align: right;\n",
       "    }\n",
       "</style>\n",
       "<table border=\"1\" class=\"dataframe\">\n",
       "  <thead>\n",
       "    <tr style=\"text-align: right;\">\n",
       "      <th></th>\n",
       "      <th>PassengerId</th>\n",
       "      <th>Survived</th>\n",
       "      <th>Pclass</th>\n",
       "      <th>Name</th>\n",
       "      <th>Sex</th>\n",
       "      <th>Age</th>\n",
       "      <th>SibSp</th>\n",
       "      <th>Parch</th>\n",
       "      <th>Ticket</th>\n",
       "      <th>Fare</th>\n",
       "      <th>Cabin</th>\n",
       "      <th>Embarked</th>\n",
       "    </tr>\n",
       "  </thead>\n",
       "  <tbody>\n",
       "    <tr>\n",
       "      <th>0</th>\n",
       "      <td>493</td>\n",
       "      <td>0</td>\n",
       "      <td>1</td>\n",
       "      <td>Molson, Mr. Harry Markland</td>\n",
       "      <td>male</td>\n",
       "      <td>55.0</td>\n",
       "      <td>0</td>\n",
       "      <td>0</td>\n",
       "      <td>113787</td>\n",
       "      <td>30.5000</td>\n",
       "      <td>C30</td>\n",
       "      <td>S</td>\n",
       "    </tr>\n",
       "    <tr>\n",
       "      <th>1</th>\n",
       "      <td>53</td>\n",
       "      <td>1</td>\n",
       "      <td>1</td>\n",
       "      <td>Harper, Mrs. Henry Sleeper (Myna Haxtun)</td>\n",
       "      <td>female</td>\n",
       "      <td>49.0</td>\n",
       "      <td>1</td>\n",
       "      <td>0</td>\n",
       "      <td>PC 17572</td>\n",
       "      <td>76.7292</td>\n",
       "      <td>D33</td>\n",
       "      <td>C</td>\n",
       "    </tr>\n",
       "  </tbody>\n",
       "</table>\n",
       "</div>"
      ],
      "text/plain": [
       "   PassengerId  Survived  Pclass                                      Name  \\\n",
       "0          493         0       1                Molson, Mr. Harry Markland   \n",
       "1           53         1       1  Harper, Mrs. Henry Sleeper (Myna Haxtun)   \n",
       "\n",
       "      Sex   Age  SibSp  Parch    Ticket     Fare Cabin Embarked  \n",
       "0    male  55.0      0      0    113787  30.5000   C30        S  \n",
       "1  female  49.0      1      0  PC 17572  76.7292   D33        C  "
      ]
     },
     "execution_count": 4,
     "metadata": {},
     "output_type": "execute_result"
    }
   ],
   "source": [
    "train_df.head(2)"
   ]
  },
  {
   "cell_type": "code",
   "execution_count": 5,
   "metadata": {},
   "outputs": [
    {
     "name": "stdout",
     "output_type": "stream",
     "text": [
      "x_train.shape = (712, 15)\n",
      "x_test.shape = (179, 15)\n",
      "y_train.shape = (712, 1)\n",
      "y_test.shape = (179, 1)\n"
     ]
    }
   ],
   "source": [
    "# 数据预处理\n",
    "def preprocessing(data: pd.DataFrame):\n",
    "    result = pd.DataFrame()\n",
    "    \n",
    "    # Pclass 票的种类 进行 one-hot编码\n",
    "    pclass = pd.get_dummies(data['Pclass'])    # 对数据进行one hot 编码\n",
    "    pclass.columns = ['Pcalss_' + str(x) for x in pclass.columns]\n",
    "    result = pd.concat([result, pclass], axis=1)\n",
    "    \n",
    "    # Sex: 性别\n",
    "    sex = pd.get_dummies(data['Sex'])\n",
    "    result = pd.concat([result, sex], axis=1)\n",
    "    \n",
    "    # Age\n",
    "    result['Age'] = data['Age'].fillna(0)    # 使用0填充缺失值\n",
    "    result['Age_null'] = pd.isna(data['Age']).astype('int32')  # 新增辅助特征\n",
    "    \n",
    "    # Sibsp, Parch, Fare\n",
    "    result['SibSp'] = data['SibSp']\n",
    "    result['Parch'] = data['Parch']\n",
    "    result['Fare'] = data['Fare']\n",
    "    \n",
    "    # Cabin 船舱\n",
    "    result['Cabin_null'] = pd.isna(data['Cabin']).astype('int32')\n",
    "    \n",
    "    # Embarked 港口\n",
    "    embarked = pd.get_dummies(data['Embarked'], dummy_na=True)\n",
    "    embarked.columns = ['Embarked_' + str(x) for x in embarked.columns]\n",
    "    result = pd.concat([result, embarked], axis=1)\n",
    "    \n",
    "    return result\n",
    "\n",
    "\n",
    "x_train = preprocessing(train_df).values\n",
    "y_train = train_df[['Survived']].values\n",
    "\n",
    "x_test = preprocessing(test_df).values\n",
    "y_test = test_df[['Survived']].values\n",
    "\n",
    "\n",
    "print(\"x_train.shape =\", x_train.shape )\n",
    "print(\"x_test.shape =\", x_test.shape )\n",
    "\n",
    "print(\"y_train.shape =\", y_train.shape )\n",
    "print(\"y_test.shape =\", y_test.shape )"
   ]
  },
  {
   "cell_type": "code",
   "execution_count": 6,
   "metadata": {},
   "outputs": [],
   "source": [
    "# 将数据集使用pytorch封装为可迭代的数据管道\n",
    "dl_train = DataLoader(\n",
    "    TensorDataset(torch.tensor(x_train).float(), torch.tensor(y_train).float()),\n",
    "    shuffle=True, batch_size=8\n",
    ")\n",
    "\n",
    "dl_valid = DataLoader(\n",
    "    TensorDataset(torch.tensor(x_test).float(), torch.tensor(y_test).float()),\n",
    "    shuffle=False, batch_size=8\n",
    ")"
   ]
  },
  {
   "cell_type": "code",
   "execution_count": null,
   "metadata": {},
   "outputs": [],
   "source": [
    "for featurs, labels in dl_train:\n",
    "    print(featurs, labels)\n",
    "    break"
   ]
  },
  {
   "cell_type": "markdown",
   "metadata": {},
   "source": [
    "## 构建模型\n",
    "pytorch 通常有三种方式构建模型：\n",
    "* 使用 nn.Sequential 按层顺序构建模型\n",
    "* 继承 nn.Module 基类构建自定义模型\n",
    "* 继承 nn.Module 基类构建模型并辅助应用模型容器进行封装"
   ]
  },
  {
   "cell_type": "code",
   "execution_count": 7,
   "metadata": {},
   "outputs": [
    {
     "name": "stdout",
     "output_type": "stream",
     "text": [
      "Sequential(\n",
      "  (linear1): Linear(in_features=15, out_features=20, bias=True)\n",
      "  (relu1): ReLU()\n",
      "  (linear2): Linear(in_features=20, out_features=15, bias=True)\n",
      "  (relu2): ReLU()\n",
      "  (linear3): Linear(in_features=15, out_features=1, bias=True)\n",
      "  (sigmoid): Sigmoid()\n",
      ")\n"
     ]
    }
   ],
   "source": [
    "# 使用nn.Sequential按顺序构建模型\n",
    "def create_net():\n",
    "    net = nn.Sequential()\n",
    "    net.add_module(\"linear1\", nn.Linear(15, 20))  # 全连接层,输入15个特征，输出20个特征\n",
    "    net.add_module(\"relu1\", nn.ReLU())\n",
    "    net.add_module(\"linear2\", nn.Linear(20, 15))  # \n",
    "    net.add_module(\"relu2\", nn.ReLU())\n",
    "    net.add_module(\"linear3\", nn.Linear(15, 1))\n",
    "    net.add_module(\"sigmoid\", nn.Sigmoid())\n",
    "    return net\n",
    "    \n",
    "net = create_net()\n",
    "print(net)"
   ]
  },
  {
   "cell_type": "code",
   "execution_count": 8,
   "metadata": {},
   "outputs": [],
   "source": [
    "from sklearn.metrics import accuracy_score"
   ]
  },
  {
   "cell_type": "code",
   "execution_count": 9,
   "metadata": {},
   "outputs": [],
   "source": [
    "loss_func = nn.BCELoss()    # 损失函数\n",
    "optimizer = torch.optim.Adam(params=net.parameters(), lr=0.01)\n",
    "metric_func = lambda y_pred, y_ture: \\\n",
    "accuracy_score(y_ture.data.numpy(), y_pred.data.numpy() > 0.5)\n",
    "metric_name = 'accuracy'"
   ]
  },
  {
   "cell_type": "code",
   "execution_count": 12,
   "metadata": {},
   "outputs": [
    {
     "name": "stdout",
     "output_type": "stream",
     "text": [
      "Start Training ...\n",
      "================================================================================2020-10-16 16:07:37\n",
      "[step = 30] loss: 0.444, accuracy: 0.812\n",
      "[step = 60] loss: 0.467, accuracy: 0.798\n",
      "\n",
      "EPOCH = 1, loss = 0.449,accuracy  = 0.812, val_loss = 0.462, val_accuracy = 0.783\n",
      "\n",
      "================================================================================2020-10-16 16:07:37\n",
      "[step = 30] loss: 0.459, accuracy: 0.787\n",
      "[step = 60] loss: 0.451, accuracy: 0.792\n",
      "\n",
      "EPOCH = 2, loss = 0.464,accuracy  = 0.792, val_loss = 0.491, val_accuracy = 0.761\n",
      "\n",
      "================================================================================2020-10-16 16:07:37\n",
      "[step = 30] loss: 0.441, accuracy: 0.833\n",
      "[step = 60] loss: 0.482, accuracy: 0.796\n",
      "\n",
      "EPOCH = 3, loss = 0.470,accuracy  = 0.799, val_loss = 0.450, val_accuracy = 0.788\n",
      "\n",
      "================================================================================2020-10-16 16:07:37\n",
      "[step = 30] loss: 0.481, accuracy: 0.783\n",
      "[step = 60] loss: 0.448, accuracy: 0.810\n",
      "\n",
      "EPOCH = 4, loss = 0.453,accuracy  = 0.802, val_loss = 0.416, val_accuracy = 0.810\n",
      "\n",
      "================================================================================2020-10-16 16:07:37\n",
      "[step = 30] loss: 0.467, accuracy: 0.817\n",
      "[step = 60] loss: 0.435, accuracy: 0.812\n",
      "\n",
      "EPOCH = 5, loss = 0.464,accuracy  = 0.803, val_loss = 0.518, val_accuracy = 0.757\n",
      "\n",
      "================================================================================2020-10-16 16:07:38\n",
      "[step = 30] loss: 0.458, accuracy: 0.787\n",
      "[step = 60] loss: 0.450, accuracy: 0.798\n",
      "\n",
      "EPOCH = 6, loss = 0.457,accuracy  = 0.801, val_loss = 0.437, val_accuracy = 0.837\n",
      "\n",
      "================================================================================2020-10-16 16:07:38\n",
      "[step = 30] loss: 0.457, accuracy: 0.817\n",
      "[step = 60] loss: 0.447, accuracy: 0.817\n",
      "\n",
      "EPOCH = 7, loss = 0.464,accuracy  = 0.808, val_loss = 0.488, val_accuracy = 0.777\n",
      "\n",
      "================================================================================2020-10-16 16:07:38\n",
      "[step = 30] loss: 0.436, accuracy: 0.808\n",
      "[step = 60] loss: 0.450, accuracy: 0.802\n",
      "\n",
      "EPOCH = 8, loss = 0.446,accuracy  = 0.805, val_loss = 0.409, val_accuracy = 0.826\n",
      "\n",
      "================================================================================2020-10-16 16:07:38\n",
      "[step = 30] loss: 0.436, accuracy: 0.812\n",
      "[step = 60] loss: 0.413, accuracy: 0.823\n",
      "\n",
      "EPOCH = 9, loss = 0.437,accuracy  = 0.816, val_loss = 0.532, val_accuracy = 0.717\n",
      "\n",
      "================================================================================2020-10-16 16:07:38\n",
      "[step = 30] loss: 0.461, accuracy: 0.792\n",
      "[step = 60] loss: 0.463, accuracy: 0.790\n",
      "\n",
      "EPOCH = 10, loss = 0.478,accuracy  = 0.777, val_loss = 0.428, val_accuracy = 0.799\n",
      "\n",
      "================================================================================2020-10-16 16:07:38\n",
      "Finished Training...\n"
     ]
    }
   ],
   "source": [
    "epochs = 10\n",
    "log_step_freq = 30\n",
    "history = pd.DataFrame(columns=\n",
    "[\"epoch\", \"loss\", metric_name, \"val_loss\", \"val_\"+metric_name])\n",
    "print('Start Training ...')\n",
    "nowtime = datetime.datetime.now().strftime('%Y-%m-%d %H:%M:%S')\n",
    "print(\"==========\"*8 + \"%s\"%nowtime)\n",
    "\n",
    "for epoch in range(1, epochs + 1):\n",
    "    \n",
    "    # 1. 训练循环\n",
    "    net.train()\n",
    "    loss_sum = .0\n",
    "    metric_sum = .0\n",
    "    step = 1\n",
    "    \n",
    "    for step, (features, labels) in enumerate(dl_train, 1):\n",
    "        # 梯度归零\n",
    "        optimizer.zero_grad()\n",
    "        \n",
    "        # 正向传播求损失\n",
    "        predictions = net(features)\n",
    "        loss = loss_func(predictions, labels)\n",
    "        metric = metric_func(predictions, labels)\n",
    "        \n",
    "        # 反向传播求梯度\n",
    "        loss.backward()\n",
    "        optimizer.step()\n",
    "        \n",
    "        # 打印batch级别的日志\n",
    "        loss_sum += loss.item()\n",
    "        metric_sum += metric.item()\n",
    "        if step % log_step_freq == 0:\n",
    "            print((\"[step = %d] loss: %.3f, \"+metric_name+\": %.3f\") %\n",
    "                  (step, loss_sum/step, metric_sum/step))\n",
    "    \n",
    "    # 2. 验证循环\n",
    "    net.eval()\n",
    "    val_loss_sum = .0\n",
    "    val_metric_sum = .0\n",
    "    val_step = 1\n",
    "    \n",
    "    for val_step, (features, labels) in enumerate(dl_valid, 1):\n",
    "        # 关闭梯度计算\n",
    "        with torch.no_grad():\n",
    "            predictions = net(features)\n",
    "            val_loss = loss_func(predictions, labels)\n",
    "            val_metric = metric_func(predictions, labels)\n",
    "        val_loss_sum += val_loss.item()\n",
    "        val_metric_sum += val_metric.item()\n",
    "        \n",
    "    # 3. 记录日志\n",
    "    info = (epoch, loss_sum/step, metric_sum/step, \n",
    "            val_loss_sum/val_step, val_metric_sum/val_step)\n",
    "    history.loc[epoch-1] = info\n",
    "    \n",
    "    # 打印epoch级别日志\n",
    "    print((\"\\nEPOCH = %d, loss = %.3f,\"+ metric_name + \\\n",
    "          \"  = %.3f, val_loss = %.3f, \"+\"val_\"+ metric_name+\" = %.3f\") \n",
    "          %info)\n",
    "    nowtime = datetime.datetime.now().strftime('%Y-%m-%d %H:%M:%S')\n",
    "    print(\"\\n\"+\"==========\"*8 + \"%s\"%nowtime)\n",
    "        \n",
    "print('Finished Training...')"
   ]
  },
  {
   "cell_type": "code",
   "execution_count": 13,
   "metadata": {},
   "outputs": [
    {
     "data": {
      "text/html": [
       "<div>\n",
       "<style scoped>\n",
       "    .dataframe tbody tr th:only-of-type {\n",
       "        vertical-align: middle;\n",
       "    }\n",
       "\n",
       "    .dataframe tbody tr th {\n",
       "        vertical-align: top;\n",
       "    }\n",
       "\n",
       "    .dataframe thead th {\n",
       "        text-align: right;\n",
       "    }\n",
       "</style>\n",
       "<table border=\"1\" class=\"dataframe\">\n",
       "  <thead>\n",
       "    <tr style=\"text-align: right;\">\n",
       "      <th></th>\n",
       "      <th>epoch</th>\n",
       "      <th>loss</th>\n",
       "      <th>accuracy</th>\n",
       "      <th>val_loss</th>\n",
       "      <th>val_accuracy</th>\n",
       "    </tr>\n",
       "  </thead>\n",
       "  <tbody>\n",
       "    <tr>\n",
       "      <th>0</th>\n",
       "      <td>1.0</td>\n",
       "      <td>0.449438</td>\n",
       "      <td>0.811798</td>\n",
       "      <td>0.462010</td>\n",
       "      <td>0.782609</td>\n",
       "    </tr>\n",
       "    <tr>\n",
       "      <th>1</th>\n",
       "      <td>2.0</td>\n",
       "      <td>0.464359</td>\n",
       "      <td>0.792135</td>\n",
       "      <td>0.491477</td>\n",
       "      <td>0.760870</td>\n",
       "    </tr>\n",
       "    <tr>\n",
       "      <th>2</th>\n",
       "      <td>3.0</td>\n",
       "      <td>0.469832</td>\n",
       "      <td>0.799157</td>\n",
       "      <td>0.450143</td>\n",
       "      <td>0.788043</td>\n",
       "    </tr>\n",
       "    <tr>\n",
       "      <th>3</th>\n",
       "      <td>4.0</td>\n",
       "      <td>0.453279</td>\n",
       "      <td>0.801966</td>\n",
       "      <td>0.415686</td>\n",
       "      <td>0.809783</td>\n",
       "    </tr>\n",
       "    <tr>\n",
       "      <th>4</th>\n",
       "      <td>5.0</td>\n",
       "      <td>0.463628</td>\n",
       "      <td>0.803371</td>\n",
       "      <td>0.518228</td>\n",
       "      <td>0.757246</td>\n",
       "    </tr>\n",
       "    <tr>\n",
       "      <th>5</th>\n",
       "      <td>6.0</td>\n",
       "      <td>0.457430</td>\n",
       "      <td>0.800562</td>\n",
       "      <td>0.436796</td>\n",
       "      <td>0.836957</td>\n",
       "    </tr>\n",
       "    <tr>\n",
       "      <th>6</th>\n",
       "      <td>7.0</td>\n",
       "      <td>0.463886</td>\n",
       "      <td>0.807584</td>\n",
       "      <td>0.488497</td>\n",
       "      <td>0.777174</td>\n",
       "    </tr>\n",
       "    <tr>\n",
       "      <th>7</th>\n",
       "      <td>8.0</td>\n",
       "      <td>0.446345</td>\n",
       "      <td>0.804775</td>\n",
       "      <td>0.409231</td>\n",
       "      <td>0.826087</td>\n",
       "    </tr>\n",
       "    <tr>\n",
       "      <th>8</th>\n",
       "      <td>9.0</td>\n",
       "      <td>0.436837</td>\n",
       "      <td>0.816011</td>\n",
       "      <td>0.531698</td>\n",
       "      <td>0.717391</td>\n",
       "    </tr>\n",
       "    <tr>\n",
       "      <th>9</th>\n",
       "      <td>10.0</td>\n",
       "      <td>0.477597</td>\n",
       "      <td>0.776685</td>\n",
       "      <td>0.427853</td>\n",
       "      <td>0.798913</td>\n",
       "    </tr>\n",
       "  </tbody>\n",
       "</table>\n",
       "</div>"
      ],
      "text/plain": [
       "   epoch      loss  accuracy  val_loss  val_accuracy\n",
       "0    1.0  0.449438  0.811798  0.462010      0.782609\n",
       "1    2.0  0.464359  0.792135  0.491477      0.760870\n",
       "2    3.0  0.469832  0.799157  0.450143      0.788043\n",
       "3    4.0  0.453279  0.801966  0.415686      0.809783\n",
       "4    5.0  0.463628  0.803371  0.518228      0.757246\n",
       "5    6.0  0.457430  0.800562  0.436796      0.836957\n",
       "6    7.0  0.463886  0.807584  0.488497      0.777174\n",
       "7    8.0  0.446345  0.804775  0.409231      0.826087\n",
       "8    9.0  0.436837  0.816011  0.531698      0.717391\n",
       "9   10.0  0.477597  0.776685  0.427853      0.798913"
      ]
     },
     "execution_count": 13,
     "metadata": {},
     "output_type": "execute_result"
    }
   ],
   "source": [
    "history"
   ]
  },
  {
   "cell_type": "code",
   "execution_count": 14,
   "metadata": {},
   "outputs": [],
   "source": [
    "%matplotlib inline\n",
    "%config InlineBackend.figure_format = 'svg'\n",
    "\n",
    "import matplotlib.pyplot as plt\n",
    "\n",
    "def plot_metric(history, metric):\n",
    "    train_metrics = history[metric]\n",
    "    val_metrics = history['val_'+metric]\n",
    "    epochs = range(1, len(train_metrics) + 1)\n",
    "    plt.plot(epochs, train_metrics, 'bo--')\n",
    "    plt.plot(epochs, val_metrics, 'ro-')\n",
    "    plt.title('Training and validation '+ metric)\n",
    "    plt.xlabel(\"Epochs\")\n",
    "    plt.ylabel(metric)\n",
    "    plt.legend([\"train_\"+metric, 'val_'+metric])\n",
    "    plt.show()"
   ]
  },
  {
   "cell_type": "markdown",
   "metadata": {},
   "source": [
    "### 使用模型"
   ]
  },
  {
   "cell_type": "code",
   "execution_count": 18,
   "metadata": {},
   "outputs": [
    {
     "data": {
      "text/plain": [
       "tensor([[0.2937],\n",
       "        [0.5396],\n",
       "        [0.4121],\n",
       "        [0.7580],\n",
       "        [0.5455],\n",
       "        [0.8299],\n",
       "        [0.1833],\n",
       "        [0.8605],\n",
       "        [0.7580],\n",
       "        [0.1948]])"
      ]
     },
     "execution_count": 18,
     "metadata": {},
     "output_type": "execute_result"
    }
   ],
   "source": [
    "# 预测概率\n",
    "y_pred_probs = net(torch.tensor(x_test[0:10]).float()).data\n",
    "y_pred_probs"
   ]
  },
  {
   "cell_type": "code",
   "execution_count": 19,
   "metadata": {},
   "outputs": [
    {
     "data": {
      "text/plain": [
       "tensor([[0.],\n",
       "        [1.],\n",
       "        [0.],\n",
       "        [1.],\n",
       "        [1.],\n",
       "        [1.],\n",
       "        [0.],\n",
       "        [1.],\n",
       "        [1.],\n",
       "        [0.]])"
      ]
     },
     "execution_count": 19,
     "metadata": {},
     "output_type": "execute_result"
    }
   ],
   "source": [
    "# 预测类别\n",
    "y_pred = torch.where(y_pred_probs > 0.5, torch.ones_like(y_pred_probs), torch.zeros_like(y_pred_probs))\n",
    "y_pred"
   ]
  },
  {
   "cell_type": "code",
   "execution_count": 21,
   "metadata": {},
   "outputs": [
    {
     "data": {
      "text/plain": [
       "0.9"
      ]
     },
     "execution_count": 21,
     "metadata": {},
     "output_type": "execute_result"
    }
   ],
   "source": [
    "accuracy_score(y_test[:10], y_pred.numpy())"
   ]
  },
  {
   "cell_type": "markdown",
   "metadata": {},
   "source": [
    "### 保存加载模型\n",
    "* 保存模型参数\n",
    "* 保存完整模型"
   ]
  },
  {
   "cell_type": "code",
   "execution_count": 22,
   "metadata": {},
   "outputs": [
    {
     "name": "stdout",
     "output_type": "stream",
     "text": [
      "odict_keys(['linear1.weight', 'linear1.bias', 'linear2.weight', 'linear2.bias', 'linear3.weight', 'linear3.bias'])\n"
     ]
    }
   ],
   "source": [
    "# 仅保存模型参数\n",
    "print(net.state_dict().keys())"
   ]
  },
  {
   "cell_type": "code",
   "execution_count": 24,
   "metadata": {},
   "outputs": [
    {
     "data": {
      "text/plain": [
       "tensor([[0.2937],\n",
       "        [0.5396],\n",
       "        [0.4121],\n",
       "        [0.7580],\n",
       "        [0.5455],\n",
       "        [0.8299],\n",
       "        [0.1833],\n",
       "        [0.8605],\n",
       "        [0.7580],\n",
       "        [0.1948]])"
      ]
     },
     "execution_count": 24,
     "metadata": {},
     "output_type": "execute_result"
    }
   ],
   "source": [
    "torch.save(net.state_dict(), './model/1_net_parameter.pkl')\n",
    "\n",
    "# 加载模型\n",
    "net_clone = create_net()\n",
    "net_clone.load_state_dict(torch.load('./model/1_net_parameter.pkl'))\n",
    "\n",
    "# 使用加载的模型预测\n",
    "y_pred_probs = net_clone(torch.tensor(x_test[0:10]).float()).data\n",
    "y_pred_probs"
   ]
  },
  {
   "cell_type": "code",
   "execution_count": 25,
   "metadata": {},
   "outputs": [
    {
     "name": "stderr",
     "output_type": "stream",
     "text": [
      "c:\\users\\86132\\appdata\\local\\programs\\python\\python37\\lib\\site-packages\\torch\\serialization.py:292: UserWarning: Couldn't retrieve source code for container of type Sequential. It won't be checked for correctness upon loading.\n",
      "  \"type \" + obj.__name__ + \". It won't be checked \"\n",
      "c:\\users\\86132\\appdata\\local\\programs\\python\\python37\\lib\\site-packages\\torch\\serialization.py:292: UserWarning: Couldn't retrieve source code for container of type Linear. It won't be checked for correctness upon loading.\n",
      "  \"type \" + obj.__name__ + \". It won't be checked \"\n",
      "c:\\users\\86132\\appdata\\local\\programs\\python\\python37\\lib\\site-packages\\torch\\serialization.py:292: UserWarning: Couldn't retrieve source code for container of type ReLU. It won't be checked for correctness upon loading.\n",
      "  \"type \" + obj.__name__ + \". It won't be checked \"\n",
      "c:\\users\\86132\\appdata\\local\\programs\\python\\python37\\lib\\site-packages\\torch\\serialization.py:292: UserWarning: Couldn't retrieve source code for container of type Sigmoid. It won't be checked for correctness upon loading.\n",
      "  \"type \" + obj.__name__ + \". It won't be checked \"\n"
     ]
    },
    {
     "data": {
      "text/plain": [
       "tensor([[0.2937],\n",
       "        [0.5396],\n",
       "        [0.4121],\n",
       "        [0.7580],\n",
       "        [0.5455],\n",
       "        [0.8299],\n",
       "        [0.1833],\n",
       "        [0.8605],\n",
       "        [0.7580],\n",
       "        [0.1948]])"
      ]
     },
     "execution_count": 25,
     "metadata": {},
     "output_type": "execute_result"
    }
   ],
   "source": [
    "# 保存完整模型\n",
    "torch.save(net, './model/1_net_model.pkl')\n",
    "net_loaded = torch.load('./model/1_net_model.pkl')\n",
    "y_pred_probs = net_loaded(torch.tensor(x_test[0:10]).float()).data\n",
    "y_pred_probs"
   ]
  },
  {
   "cell_type": "code",
   "execution_count": null,
   "metadata": {},
   "outputs": [],
   "source": []
  }
 ],
 "metadata": {
  "kernelspec": {
   "display_name": "Python 3",
   "language": "python",
   "name": "python3"
  },
  "language_info": {
   "codemirror_mode": {
    "name": "ipython",
    "version": 3
   },
   "file_extension": ".py",
   "mimetype": "text/x-python",
   "name": "python",
   "nbconvert_exporter": "python",
   "pygments_lexer": "ipython3",
   "version": "3.7.2"
  }
 },
 "nbformat": 4,
 "nbformat_minor": 4
}
