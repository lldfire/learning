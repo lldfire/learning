{
 "cells": [
  {
   "cell_type": "code",
   "execution_count": null,
   "metadata": {},
   "outputs": [],
   "source": [
    "import os\n",
    "import datetime\n",
    "\n",
    "def printbar():\n",
    "    nowtime = datetime.datetime.now().strftime('%Y-%m-%d %H:%M:%S')\n",
    "    print(\"\\n\"+\"==========\"*8 + \"%s\"%nowtime)\n",
    "    \n",
    "\n",
    "os.environ['KMP_DUPLICATE_LIB_OK'] = \"TRUE\""
   ]
  },
  {
   "cell_type": "code",
   "execution_count": null,
   "metadata": {},
   "outputs": [],
   "source": [
    "# 导入包\n",
    "import numpy as np\n",
    "import pandas as pd\n",
    "import matplotlib.pyplot as plt\n",
    "import torch\n",
    "from torch import nn\n",
    "from torch.utils.data import DataLoader, Dataset, TensorDataset"
   ]
  },
  {
   "cell_type": "markdown",
   "metadata": {},
   "source": [
    "## 一、准备数据\n",
    "* Survived:0代表死亡，1代表存活【y标签】\n",
    "* Pclass:乘客所持票类，有三种值(1,2,3) 【转换成onehot编码】\n",
    "* Name:乘客姓名 【舍去】\n",
    "* Sex:乘客性别 【转换成bool特征】\n",
    "* Age:乘客年龄(有缺失) 【数值特征，添加“年龄是否缺失”作为辅助特征】\n",
    "* SibSp:乘客兄弟姐妹/配偶的个数(整数值) 【数值特征】\n",
    "* Parch:乘客父母/孩子的个数(整数值)【数值特征】\n",
    "* Ticket:票号(字符串)【舍去】\n",
    "* Fare:乘客所持票的价格(浮点数，0-500不等) 【数值特征】\n",
    "* Cabin:乘客所在船舱(有缺失) 【添加“所在船舱是否缺失”作为辅助特征】\n",
    "* Embarked:乘客登船港口:S、C、Q(有缺失)【转换成onehot编码，四维度 S,C,Q,nan】\n"
   ]
  },
  {
   "cell_type": "code",
   "execution_count": null,
   "metadata": {},
   "outputs": [],
   "source": [
    "train_df = pd.read_csv('./data/titanic/train.csv')\n",
    "test_df = pd.read_csv('./data/titanic/test.csv')"
   ]
  },
  {
   "cell_type": "code",
   "execution_count": null,
   "metadata": {},
   "outputs": [],
   "source": [
    "# 查看标签的分布情况\n",
    "# 内嵌画图\n",
    "# 存活分布情况\n",
    "%matplotlib inline\n",
    "%config InlineBackend.figure_format = 'png'\n",
    "\n",
    "ax = train_df['Survived'].value_counts().plot(\n",
    "    kind='bar', rot=0)\n",
    "ax.set_ylabel('Counts')\n",
    "ax.set_xlabel('Survived')\n",
    "plt.show()"
   ]
  },
  {
   "cell_type": "code",
   "execution_count": null,
   "metadata": {},
   "outputs": [],
   "source": [
    "# 年龄分布情况\n",
    "%matplotlib inline\n",
    "%config InlineBackend.figure_format = 'png'\n",
    "\n",
    "ax = train_df['Age'].plot(\n",
    "    kind='hist', bins=20, color='purple')\n",
    "ax.set_ylabel('Counts')\n",
    "ax.set_xlabel('Survived')\n",
    "plt.show()"
   ]
  },
  {
   "cell_type": "code",
   "execution_count": null,
   "metadata": {},
   "outputs": [],
   "source": [
    "# 年龄和label的相关性\n",
    "%matplotlib inline\n",
    "%config InlineBackend.figure_format = 'png'\n",
    "\n",
    "ax = train_df.query('Survived == 0')['Age'].plot(kind='density')\n",
    "ax = train_df.query('Survived == 1')['Age'].plot(kind='density')\n",
    "ax.legend(['Survived==0', 'Survived==1'])\n",
    "ax.set_ylabel('Density')\n",
    "ax.set_xlabel('Age')\n",
    "\n",
    "plt.show()"
   ]
  },
  {
   "cell_type": "code",
   "execution_count": 4,
   "metadata": {},
   "outputs": [
    {
     "data": {
      "text/html": [
       "<div>\n",
       "<style scoped>\n",
       "    .dataframe tbody tr th:only-of-type {\n",
       "        vertical-align: middle;\n",
       "    }\n",
       "\n",
       "    .dataframe tbody tr th {\n",
       "        vertical-align: top;\n",
       "    }\n",
       "\n",
       "    .dataframe thead th {\n",
       "        text-align: right;\n",
       "    }\n",
       "</style>\n",
       "<table border=\"1\" class=\"dataframe\">\n",
       "  <thead>\n",
       "    <tr style=\"text-align: right;\">\n",
       "      <th></th>\n",
       "      <th>PassengerId</th>\n",
       "      <th>Survived</th>\n",
       "      <th>Pclass</th>\n",
       "      <th>Name</th>\n",
       "      <th>Sex</th>\n",
       "      <th>Age</th>\n",
       "      <th>SibSp</th>\n",
       "      <th>Parch</th>\n",
       "      <th>Ticket</th>\n",
       "      <th>Fare</th>\n",
       "      <th>Cabin</th>\n",
       "      <th>Embarked</th>\n",
       "    </tr>\n",
       "  </thead>\n",
       "  <tbody>\n",
       "    <tr>\n",
       "      <th>0</th>\n",
       "      <td>493</td>\n",
       "      <td>0</td>\n",
       "      <td>1</td>\n",
       "      <td>Molson, Mr. Harry Markland</td>\n",
       "      <td>male</td>\n",
       "      <td>55.0</td>\n",
       "      <td>0</td>\n",
       "      <td>0</td>\n",
       "      <td>113787</td>\n",
       "      <td>30.5000</td>\n",
       "      <td>C30</td>\n",
       "      <td>S</td>\n",
       "    </tr>\n",
       "    <tr>\n",
       "      <th>1</th>\n",
       "      <td>53</td>\n",
       "      <td>1</td>\n",
       "      <td>1</td>\n",
       "      <td>Harper, Mrs. Henry Sleeper (Myna Haxtun)</td>\n",
       "      <td>female</td>\n",
       "      <td>49.0</td>\n",
       "      <td>1</td>\n",
       "      <td>0</td>\n",
       "      <td>PC 17572</td>\n",
       "      <td>76.7292</td>\n",
       "      <td>D33</td>\n",
       "      <td>C</td>\n",
       "    </tr>\n",
       "  </tbody>\n",
       "</table>\n",
       "</div>"
      ],
      "text/plain": [
       "   PassengerId  Survived  Pclass                                      Name  \\\n",
       "0          493         0       1                Molson, Mr. Harry Markland   \n",
       "1           53         1       1  Harper, Mrs. Henry Sleeper (Myna Haxtun)   \n",
       "\n",
       "      Sex   Age  SibSp  Parch    Ticket     Fare Cabin Embarked  \n",
       "0    male  55.0      0      0    113787  30.5000   C30        S  \n",
       "1  female  49.0      1      0  PC 17572  76.7292   D33        C  "
      ]
     },
     "execution_count": 4,
     "metadata": {},
     "output_type": "execute_result"
    }
   ],
   "source": [
    "train_df.head(2)"
   ]
  },
  {
   "cell_type": "code",
   "execution_count": 5,
   "metadata": {},
   "outputs": [
    {
     "name": "stdout",
     "output_type": "stream",
     "text": [
      "x_train.shape = (712, 15)\n",
      "x_test.shape = (179, 15)\n",
      "y_train.shape = (712, 1)\n",
      "y_test.shape = (179, 1)\n"
     ]
    }
   ],
   "source": [
    "# 数据预处理\n",
    "def preprocessing(data: pd.DataFrame):\n",
    "    result = pd.DataFrame()\n",
    "    \n",
    "    # Pclass 票的种类 进行 one-hot编码\n",
    "    pclass = pd.get_dummies(data['Pclass'])    # 对数据进行one hot 编码\n",
    "    pclass.columns = ['Pcalss_' + str(x) for x in pclass.columns]\n",
    "    result = pd.concat([result, pclass], axis=1)\n",
    "    \n",
    "    # Sex: 性别\n",
    "    sex = pd.get_dummies(data['Sex'])\n",
    "    result = pd.concat([result, sex], axis=1)\n",
    "    \n",
    "    # Age\n",
    "    result['Age'] = data['Age'].fillna(0)    # 使用0填充缺失值\n",
    "    result['Age_null'] = pd.isna(data['Age']).astype('int32')  # 新增辅助特征\n",
    "    \n",
    "    # Sibsp, Parch, Fare\n",
    "    result['SibSp'] = data['SibSp']\n",
    "    result['Parch'] = data['Parch']\n",
    "    result['Fare'] = data['Fare']\n",
    "    \n",
    "    # Cabin 船舱\n",
    "    result['Cabin_null'] = pd.isna(data['Cabin']).astype('int32')\n",
    "    \n",
    "    # Embarked 港口\n",
    "    embarked = pd.get_dummies(data['Embarked'], dummy_na=True)\n",
    "    embarked.columns = ['Embarked_' + str(x) for x in embarked.columns]\n",
    "    result = pd.concat([result, embarked], axis=1)\n",
    "    \n",
    "    return result\n",
    "\n",
    "\n",
    "x_train = preprocessing(train_df).values\n",
    "y_train = train_df[['Survived']].values\n",
    "\n",
    "x_test = preprocessing(test_df).values\n",
    "y_test = test_df[['Survived']].values\n",
    "\n",
    "\n",
    "print(\"x_train.shape =\", x_train.shape )\n",
    "print(\"x_test.shape =\", x_test.shape )\n",
    "\n",
    "print(\"y_train.shape =\", y_train.shape )\n",
    "print(\"y_test.shape =\", y_test.shape )"
   ]
  },
  {
   "cell_type": "code",
   "execution_count": 8,
   "metadata": {},
   "outputs": [],
   "source": [
    "# 将数据集使用pytorch封装为可迭代的数据管道\n",
    "dl_train = DataLoader(\n",
    "    TensorDataset(torch.tensor(x_train).float(), torch.tensor(y_train).float()),\n",
    "    shuffle=True, batch_size=8\n",
    ")\n",
    "\n",
    "dl_valid = DataLoader(\n",
    "    TensorDataset(torch.tensor(x_test).float(), torch.tensor(y_test).float()),\n",
    "    shuffle=False, batch_size=8\n",
    ")"
   ]
  },
  {
   "cell_type": "code",
   "execution_count": null,
   "metadata": {},
   "outputs": [],
   "source": [
    "for featurs, labels in dl_train:\n",
    "    print(featurs, labels)\n",
    "    break"
   ]
  },
  {
   "cell_type": "markdown",
   "metadata": {},
   "source": [
    "## 构建模型\n",
    "pytorch 通常有三种方式构建模型：\n",
    "* 使用 nn.Sequential 按层顺序构建模型\n",
    "* 继承 nn.Module 基类构建自定义模型\n",
    "* 继承 nn.Module 基类构建模型并辅助应用模型容器进行封装"
   ]
  },
  {
   "cell_type": "code",
   "execution_count": 13,
   "metadata": {},
   "outputs": [
    {
     "name": "stdout",
     "output_type": "stream",
     "text": [
      "Sequential(\n",
      "  (linear1): Linear(in_features=15, out_features=20, bias=True)\n",
      "  (relu1): ReLU()\n",
      "  (linear2): Linear(in_features=20, out_features=15, bias=True)\n",
      "  (relu2): ReLU()\n",
      "  (linear3): Linear(in_features=15, out_features=1, bias=True)\n",
      "  (sigmoid): Sigmoid()\n",
      ")\n"
     ]
    }
   ],
   "source": [
    "# 使用nn.Sequential按顺序构建模型\n",
    "def create_net():\n",
    "    net = nn.Sequential()\n",
    "    net.add_module(\"linear1\", nn.Linear(15, 20))  # 全连接层,输入15个特征，输出20个特征\n",
    "    net.add_module(\"relu1\", nn.ReLU())\n",
    "    net.add_module(\"linear2\", nn.Linear(20, 15))  # \n",
    "    net.add_module(\"relu2\", nn.ReLU())\n",
    "    net.add_module(\"linear3\", nn.Linear(15, 1))\n",
    "    net.add_module(\"sigmoid\", nn.Sigmoid())\n",
    "    return net\n",
    "    \n",
    "net = create_net()\n",
    "print(net)"
   ]
  },
  {
   "cell_type": "code",
   "execution_count": null,
   "metadata": {},
   "outputs": [],
   "source": [
    "from torck  "
   ]
  },
  {
   "cell_type": "code",
   "execution_count": null,
   "metadata": {},
   "outputs": [],
   "source": []
  }
 ],
 "metadata": {
  "kernelspec": {
   "display_name": "Python 3",
   "language": "python",
   "name": "python3"
  },
  "language_info": {
   "codemirror_mode": {
    "name": "ipython",
    "version": 3
   },
   "file_extension": ".py",
   "mimetype": "text/x-python",
   "name": "python",
   "nbconvert_exporter": "python",
   "pygments_lexer": "ipython3",
   "version": "3.7.2"
  }
 },
 "nbformat": 4,
 "nbformat_minor": 4
}
