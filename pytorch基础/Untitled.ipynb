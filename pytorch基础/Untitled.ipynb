{
 "cells": [
  {
   "cell_type": "markdown",
   "metadata": {},
   "source": [
    "1. 已知：$a + b + c =1000, a^2 + b^2 = c^2$,求$a, b, c$的所有可能值。\n",
    "2. 完全数：一个自然数的所有约数之和等于他本身的数称为完全数，如$6 = 1+2+3; 28=1+2+4+7+14$,找出1000以内的所有完全数。\n",
    "3. 有四个数字：1、2、3、4能组成多少个互不相同且无重复的三位数，各是多少？\n",
    "4. 输出 9*9 乘法口诀表\n",
    "5. 输入任意一个正整数，输出等长的斐波那契数列"
   ]
  },
  {
   "cell_type": "code",
   "execution_count": null,
   "metadata": {},
   "outputs": [],
   "source": []
  },
  {
   "cell_type": "code",
   "execution_count": null,
   "metadata": {},
   "outputs": [],
   "source": []
  }
 ],
 "metadata": {
  "kernelspec": {
   "display_name": "Python 3",
   "language": "python",
   "name": "python3"
  },
  "language_info": {
   "codemirror_mode": {
    "name": "ipython",
    "version": 3
   },
   "file_extension": ".py",
   "mimetype": "text/x-python",
   "name": "python",
   "nbconvert_exporter": "python",
   "pygments_lexer": "ipython3",
   "version": "3.7.2"
  }
 },
 "nbformat": 4,
 "nbformat_minor": 4
}
