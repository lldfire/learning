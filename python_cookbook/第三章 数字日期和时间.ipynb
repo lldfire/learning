{
 "cells": [
  {
   "cell_type": "markdown",
   "metadata": {},
   "source": [
    "## 3.1 数字的四舍五入\n",
    "对浮点数执行指定精度的舍入运算。\n",
    "\n",
    "- 当一个值刚好在两个边界的中间时，函数会返回离他最近的偶数;\n",
    "- round的第二个参数可以是负数，此时舍入运算会作用在十位、百位上"
   ]
  },
  {
   "cell_type": "code",
   "execution_count": 2,
   "metadata": {},
   "outputs": [
    {
     "name": "stdout",
     "output_type": "stream",
     "text": [
      "2.0\n",
      "2.0\n",
      "1230\n",
      "312000\n"
     ]
    }
   ],
   "source": [
    "print(round(1.5, 0))\n",
    "print(round(2.5, 0))\n",
    "\n",
    "print(round(1231, -1))\n",
    "print(round(312312, -3))"
   ]
  },
  {
   "cell_type": "markdown",
   "metadata": {},
   "source": [
    "## 3.2 执行精确的浮点数运算\n",
    "不希望有任何小误差，使用decimal模块"
   ]
  },
  {
   "cell_type": "code",
   "execution_count": 3,
   "metadata": {},
   "outputs": [
    {
     "data": {
      "text/plain": [
       "6.300000000000001"
      ]
     },
     "execution_count": 3,
     "metadata": {},
     "output_type": "execute_result"
    }
   ],
   "source": [
    "4.2 + 2.1"
   ]
  },
  {
   "cell_type": "code",
   "execution_count": 5,
   "metadata": {},
   "outputs": [
    {
     "data": {
      "text/plain": [
       "Decimal('6.3')"
      ]
     },
     "execution_count": 5,
     "metadata": {},
     "output_type": "execute_result"
    }
   ],
   "source": [
    "from decimal import Decimal\n",
    "\n",
    "a = Decimal('4.2')\n",
    "b = Decimal('2.1')\n",
    "\n",
    "a + b"
   ]
  },
  {
   "cell_type": "markdown",
   "metadata": {},
   "source": [
    "## 3.8 分数运算"
   ]
  },
  {
   "cell_type": "code",
   "execution_count": 14,
   "metadata": {},
   "outputs": [
    {
     "name": "stdout",
     "output_type": "stream",
     "text": [
      "19/10\n",
      "3/5\n",
      "15/4\n",
      "15\n",
      "4\n"
     ]
    }
   ],
   "source": [
    "from fractions import Fraction\n",
    "\n",
    "a = Fraction(3, 2)\n",
    "b = Fraction(2, 5)\n",
    "\n",
    "print(a + b)\n",
    "print(a * b)\n",
    "\n",
    "c = a / b\n",
    "print(c)\n",
    "print(c.numerator)  # 分子\n",
    "print(c.denominator)  # 分母"
   ]
  },
  {
   "cell_type": "code",
   "execution_count": 15,
   "metadata": {},
   "outputs": [
    {
     "name": "stdout",
     "output_type": "stream",
     "text": [
      "3956748939 8621662776 690230640 670620758 780924719 942129741 643688595 423375150 272583881 634667344 737821496 824833904 586709367 441391228 945909631 322199743 845010635 21427501 13779910 88591960 53537664 28146657 23430027 96616522 75232337 90453048 75389249 53886478 75251124 73166326 31126033 82993031 84319456 77066013 17035971 22430791 14038488 7914532 8449323 5835151 7235155 3722822 2728252 3796780 8593494 2832060 6324986 833417 583895 933371 181423 914304 951804 930854 489169 286310 973416 538709 207386 8952 1383 9126 2838 542 289 641 993 181 35 22 48 30 90 10 10 10 10 10 10 10 10 10 10 10 10 10 10 10 10 10 10 10 10 10 10 10 10 10 10 "
     ]
    }
   ],
   "source": [
    "from time import time\n",
    "\n",
    "def rander(seed,n):\n",
    "    if n ==1:\n",
    "        return 0\n",
    "    seed = int(seed)\n",
    "    length = len(str(seed))\n",
    "    seed = int(seed**2/pow(10,(length/2))) % int(pow(10.0,length))\n",
    "    print(str(seed) +\" \" ,end='')\n",
    "    rander(seed,n-1)\n",
    "def main():\n",
    "    seed = time()\n",
    "    rander(seed,100)\n",
    "\n",
    "main()"
   ]
  },
  {
   "cell_type": "markdown",
   "metadata": {},
   "source": [
    "## 3.11 随机数生成"
   ]
  },
  {
   "cell_type": "code",
   "execution_count": 24,
   "metadata": {},
   "outputs": [],
   "source": [
    "import random"
   ]
  },
  {
   "cell_type": "code",
   "execution_count": 28,
   "metadata": {},
   "outputs": [
    {
     "data": {
      "text/plain": [
       "0.8353615746378363"
      ]
     },
     "execution_count": 28,
     "metadata": {},
     "output_type": "execute_result"
    }
   ],
   "source": [
    "random.uniform(3, 6)  # 均匀分布\n",
    "random.gauss(1, 1)   # 生成高斯分布"
   ]
  }
 ],
 "metadata": {
  "kernelspec": {
   "display_name": "Python 3",
   "language": "python",
   "name": "python3"
  },
  "language_info": {
   "codemirror_mode": {
    "name": "ipython",
    "version": 3
   },
   "file_extension": ".py",
   "mimetype": "text/x-python",
   "name": "python",
   "nbconvert_exporter": "python",
   "pygments_lexer": "ipython3",
   "version": "3.7.2"
  }
 },
 "nbformat": 4,
 "nbformat_minor": 4
}
