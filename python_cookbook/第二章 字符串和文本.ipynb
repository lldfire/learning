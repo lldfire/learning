{
 "cells": [
  {
   "cell_type": "markdown",
   "metadata": {},
   "source": [
    "## 2.1 使用多个界定符分割字符串\n",
    "分割字符串时，分割符并不固定"
   ]
  },
  {
   "cell_type": "code",
   "execution_count": 1,
   "metadata": {},
   "outputs": [
    {
     "name": "stdout",
     "output_type": "stream",
     "text": [
      "['asdf', 'fjdk', 'afed', 'fjek', 'asdf', 'foo']\n"
     ]
    }
   ],
   "source": [
    "import re\n",
    "line = 'asdf fjdk; afed, fjek,asdf, foo'\n",
    "print(re.split('[;,\\s]\\s*', line))"
   ]
  },
  {
   "cell_type": "markdown",
   "metadata": {},
   "source": [
    "## 2.3 shell 的通配符匹配字符串\n",
    "如使用 *.py匹配字符串"
   ]
  },
  {
   "cell_type": "code",
   "execution_count": 17,
   "metadata": {},
   "outputs": [
    {
     "name": "stdout",
     "output_type": "stream",
     "text": [
      "True\n",
      "True\n",
      "True\n",
      "True\n",
      "False\n"
     ]
    }
   ],
   "source": [
    "from fnmatch import fnmatch, fnmatchcase\n",
    "\n",
    "print(fnmatch('foo.txt', '*.txt'))\n",
    "print(fnmatch('foo.txt', '??o.txt'))\n",
    "print(fnmatch('zhu123.txt', 'zhu[0-9]*.txt'))\n",
    "# fnmatch 大小写在不同的系统敏感规则不同，fnmatchcase 则要严格\n",
    "\n",
    "print(fnmatch('asd.txt', '*.TXT'))\n",
    "print(fnmatchcase('asd.txt', '*.TXT'))"
   ]
  },
  {
   "cell_type": "markdown",
   "metadata": {},
   "source": [
    "## 2.5 字符串搜索和替换\n",
    "\n",
    "简单的可以使用replace替换，复杂的需要用到re.sub"
   ]
  },
  {
   "cell_type": "code",
   "execution_count": 21,
   "metadata": {},
   "outputs": [
    {
     "name": "stdout",
     "output_type": "stream",
     "text": [
      "Today is 2012-11-27. PyCon starts 2013-3-13.\n",
      "Today is 2012-11-27. PyCon starts 2013-3-13.\n",
      "Today is 27 Nov 2012. PyCon starts 13 Mar 2013.\n",
      "('Today is 27 Nov 2012. PyCon starts 13 Mar 2013.', 2)\n"
     ]
    }
   ],
   "source": [
    "# 将11/27/2013替换为2012-11-27\n",
    "text = 'Today is 11/27/2012. PyCon starts 3/13/2013.'\n",
    "# 反斜杠数字代表的是前面模式中捕获的组号\n",
    "print(re.sub(r'(\\d+)/(\\d+)/(\\d+)', r'\\3-\\1-\\2', text))\n",
    "\n",
    "# 通过编译一个模式来多次替换\n",
    "datepat = re.compile(r'(\\d+)/(\\d+)/(\\d+)')\n",
    "print(datepat.sub(r'\\3-\\1-\\2', text))\n",
    "\n",
    "# 对于更加复杂的替换模式，可以传递一个函数来替代，如\n",
    "from calendar import month_abbr\n",
    "def change_date(m):\n",
    "    mon_name = month_abbr[int(m.group(1))]\n",
    "    return '{} {} {}'.format(m.group(2), mon_name, m.group(3))\n",
    "\n",
    "print(datepat.sub(change_date, text))\n",
    "print(datepat.subn(change_date, text))"
   ]
  },
  {
   "cell_type": "code",
   "execution_count": 3,
   "metadata": {},
   "outputs": [],
   "source": [
    "import re\n",
    "\n",
    "code_name = {'820000': '台湾'}"
   ]
  },
  {
   "cell_type": "code",
   "execution_count": 9,
   "metadata": {},
   "outputs": [
    {
     "data": {
      "text/plain": [
       "'820000'"
      ]
     },
     "execution_count": 9,
     "metadata": {},
     "output_type": "execute_result"
    }
   ],
   "source": []
  },
  {
   "cell_type": "code",
   "execution_count": 32,
   "metadata": {},
   "outputs": [
    {
     "name": "stdout",
     "output_type": "stream",
     "text": [
      "['820000', '820000', '820000']\n"
     ]
    },
    {
     "data": {
      "text/plain": [
       "'./geojson_data/台湾_820000\\\\台湾_820000\\\\台湾_820000.json'"
      ]
     },
     "execution_count": 32,
     "metadata": {},
     "output_type": "execute_result"
    }
   ],
   "source": [
    "text = './geojson_data/820000\\820000\\820000.json'\n",
    "codepat = re.compile(r'(\\d{6,})')\n",
    "\n",
    "def code_change(m):\n",
    "    code = m.group(1)\n",
    "    name = code_name.get(code, code)\n",
    "    return f'{name}_{code}'\n",
    "\n",
    "print(codepat.findall(text))\n",
    "codepat.sub(code_change, text)"
   ]
  },
  {
   "cell_type": "markdown",
   "metadata": {},
   "source": [
    "## 2.6 字符串忽略大小写的搜索替换\n",
    "\n",
    "需要忽略大小写的方式搜索与替换文本字符串"
   ]
  },
  {
   "cell_type": "code",
   "execution_count": 4,
   "metadata": {},
   "outputs": [
    {
     "name": "stdout",
     "output_type": "stream",
     "text": [
      "['PYTHON', 'python', 'Python']\n",
      "UPPER snake, lower snake, Mixed snake\n"
     ]
    }
   ],
   "source": [
    "text = 'UPPER PYTHON, lower python, Mixed Python'\n",
    "print(re.findall('python', text, flags=re.IGNORECASE))\n",
    "print(re.sub('python', 'snake', text, flags=re.IGNORECASE))"
   ]
  },
  {
   "cell_type": "markdown",
   "metadata": {},
   "source": [
    "上述替换的例子存在一个小缺陷，替换的字符串不会自动跟被匹配的字符串保持大小写一致，为了修复这个缺陷："
   ]
  },
  {
   "cell_type": "code",
   "execution_count": 6,
   "metadata": {},
   "outputs": [
    {
     "data": {
      "text/plain": [
       "'UPPER SNAKE, lower snake, Mixed Snake'"
      ]
     },
     "execution_count": 6,
     "metadata": {},
     "output_type": "execute_result"
    }
   ],
   "source": [
    "# matchcase()返回了一个回调函数，参数对象必须是match对象\n",
    "# re.sub()除了接受替换字符串外，还能接受一个回调函数。\n",
    "def matchcase(word):\n",
    "    def replace(m):\n",
    "        text = m.group()\n",
    "        if text.isupper():\n",
    "            return word.upper()\n",
    "        elif text.islower():\n",
    "            return word.lower()\n",
    "        elif text[0].isupper():\n",
    "            return word.capitalize()\n",
    "        else:\n",
    "            return word\n",
    "    return replace\n",
    "\n",
    "re.sub('python', matchcase('snake'), text, flags=re.IGNORECASE)\n"
   ]
  },
  {
   "cell_type": "markdown",
   "metadata": {},
   "source": [
    "## 2.8 多行匹配模式\n",
    "\n",
    "跨行匹配"
   ]
  },
  {
   "cell_type": "code",
   "execution_count": 17,
   "metadata": {},
   "outputs": [
    {
     "name": "stdout",
     "output_type": "stream",
     "text": [
      "[' this is a comment ']\n",
      "[]\n",
      "[' this is a\\n multiline comment ']\n",
      "[' this is a\\n multiline comment ']\n"
     ]
    }
   ],
   "source": [
    "text1 = '/* this is a comment */'\n",
    "text2 = '''/* this is a\n",
    " multiline comment */\n",
    "'''\n",
    "\n",
    "comment = re.compile(r'/\\*(.*?)\\*/')\n",
    "print(comment.findall(text1))\n",
    "print(comment.findall(text2))   # . 不能匹配换行符\n",
    "\n",
    "comment = re.compile(r'/\\*(.*?)\\*/', re.S)\n",
    "print(comment.findall(text2))\n",
    "\n",
    "comment = re.compile(r'/\\*(.*?)\\*/', re.DOTALL)\n",
    "print(comment.findall(text2))"
   ]
  },
  {
   "cell_type": "markdown",
   "metadata": {},
   "source": [
    "## 2.11 删除字符中不需要的字符"
   ]
  },
  {
   "cell_type": "code",
   "execution_count": 22,
   "metadata": {},
   "outputs": [
    {
     "name": "stdout",
     "output_type": "stream",
     "text": [
      "ython\n",
      "ythonp\n",
      "python\n",
      "ython\n"
     ]
    }
   ],
   "source": [
    "text = 'pythonp'\n",
    "print(text.strip('p'))\n",
    "print(text.lstrip('p'))\n",
    "print(text.rstrip('p'))\n",
    "print(text.replace('p', ''))"
   ]
  },
  {
   "cell_type": "markdown",
   "metadata": {},
   "source": [
    "## 2.12 审查清理文本字符串、"
   ]
  },
  {
   "cell_type": "code",
   "execution_count": 27,
   "metadata": {},
   "outputs": [
    {
     "name": "stdout",
     "output_type": "stream",
     "text": [
      "pýtĥöñ\f",
      "is\tawesome\n",
      "\n",
      "pýtĥöñ is awesome\n",
      "\n"
     ]
    }
   ],
   "source": [
    "s = 'pýtĥöñ\\fis\\tawesome\\r\\n'\n",
    "print(s)\n",
    "remap = {ord('\\t'): ' ', ord('\\f'): ' '}\n",
    "print(s.translate(remap))"
   ]
  },
  {
   "cell_type": "markdown",
   "metadata": {},
   "source": [
    "## 2.16 以指定列宽格式化字符串"
   ]
  },
  {
   "cell_type": "code",
   "execution_count": 33,
   "metadata": {},
   "outputs": [
    {
     "name": "stdout",
     "output_type": "stream",
     "text": [
      "    Look into my eyes, look into my eyes, the eyes, the eyes, the\n",
      "eyes, not around the eyes, don't look around the eyes, look into\n",
      "my eyes, you're under.\n"
     ]
    }
   ],
   "source": [
    "import textwrap\n",
    "\n",
    "s = \"Look into my eyes, look into my eyes, the eyes, the eyes, \\\n",
    "the eyes, not around the eyes, don't look around the eyes, \\\n",
    "look into my eyes, you're under.\"\n",
    "print(textwrap.fill(s, 65, initial_indent='    '))"
   ]
  },
  {
   "cell_type": "code",
   "execution_count": null,
   "metadata": {},
   "outputs": [],
   "source": []
  }
 ],
 "metadata": {
  "kernelspec": {
   "display_name": "Python 3",
   "language": "python",
   "name": "python3"
  },
  "language_info": {
   "codemirror_mode": {
    "name": "ipython",
    "version": 3
   },
   "file_extension": ".py",
   "mimetype": "text/x-python",
   "name": "python",
   "nbconvert_exporter": "python",
   "pygments_lexer": "ipython3",
   "version": "3.7.2"
  }
 },
 "nbformat": 4,
 "nbformat_minor": 4
}
