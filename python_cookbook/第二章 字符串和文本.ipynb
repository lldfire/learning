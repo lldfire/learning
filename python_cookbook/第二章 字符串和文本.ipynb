{
 "cells": [
  {
   "cell_type": "markdown",
   "metadata": {},
   "source": [
    "## 2.1 使用多个界定符分割字符串\n",
    "分割字符串时，分割符并不固定"
   ]
  },
  {
   "cell_type": "code",
   "execution_count": 3,
   "metadata": {},
   "outputs": [
    {
     "name": "stdout",
     "output_type": "stream",
     "text": [
      "['asdf', 'fjdk', 'afed', 'fjek', 'asdf', 'foo']\n"
     ]
    }
   ],
   "source": [
    "import re\n",
    "line = 'asdf fjdk; afed, fjek,asdf, foo'\n",
    "print(re.split('[;,\\s]\\s*', line))"
   ]
  },
  {
   "cell_type": "markdown",
   "metadata": {},
   "source": [
    "## 2.3 shell 的通配符匹配字符串\n",
    "如使用 *.py匹配字符串"
   ]
  },
  {
   "cell_type": "code",
   "execution_count": 17,
   "metadata": {},
   "outputs": [
    {
     "name": "stdout",
     "output_type": "stream",
     "text": [
      "True\n",
      "True\n",
      "True\n",
      "True\n",
      "False\n"
     ]
    }
   ],
   "source": [
    "from fnmatch import fnmatch, fnmatchcase\n",
    "\n",
    "print(fnmatch('foo.txt', '*.txt'))\n",
    "print(fnmatch('foo.txt', '??o.txt'))\n",
    "print(fnmatch('zhu123.txt', 'zhu[0-9]*.txt'))\n",
    "# fnmatch 大小写在不同的系统敏感规则不同，fnmatchcase 则要严格\n",
    "\n",
    "print(fnmatch('asd.txt', '*.TXT'))\n",
    "print(fnmatchcase('asd.txt', '*.TXT'))"
   ]
  },
  {
   "cell_type": "markdown",
   "metadata": {},
   "source": [
    "## 2.5 字符串搜索和替换\n",
    "\n",
    "简单的可以使用replace替换，复杂的需要用到re.sub"
   ]
  },
  {
   "cell_type": "code",
   "execution_count": 21,
   "metadata": {},
   "outputs": [
    {
     "name": "stdout",
     "output_type": "stream",
     "text": [
      "Today is 2012-11-27. PyCon starts 2013-3-13.\n",
      "Today is 2012-11-27. PyCon starts 2013-3-13.\n",
      "Today is 27 Nov 2012. PyCon starts 13 Mar 2013.\n",
      "('Today is 27 Nov 2012. PyCon starts 13 Mar 2013.', 2)\n"
     ]
    }
   ],
   "source": [
    "# 将11/27/2013替换为2012-11-27\n",
    "text = 'Today is 11/27/2012. PyCon starts 3/13/2013.'\n",
    "# 反斜杠数字代表的是前面模式中捕获的组号\n",
    "print(re.sub(r'(\\d+)/(\\d+)/(\\d+)', r'\\3-\\1-\\2', text))\n",
    "\n",
    "# 通过编译一个模式来多次替换\n",
    "datepat = re.compile(r'(\\d+)/(\\d+)/(\\d+)')\n",
    "print(datepat.sub(r'\\3-\\1-\\2', text))\n",
    "\n",
    "# 对于更加复杂的替换模式，可以传递一个函数来替代，如\n",
    "from calendar import month_abbr\n",
    "def change_date(m):\n",
    "    mon_name = month_abbr[int(m.group(1))]\n",
    "    return '{} {} {}'.format(m.group(2), mon_name, m.group(3))\n",
    "\n",
    "print(datepat.sub(change_date, text))\n",
    "print(datepat.subn(change_date, text))"
   ]
  },
  {
   "cell_type": "code",
   "execution_count": null,
   "metadata": {},
   "outputs": [],
   "source": []
  },
  {
   "cell_type": "code",
   "execution_count": null,
   "metadata": {},
   "outputs": [],
   "source": []
  }
 ],
 "metadata": {
  "kernelspec": {
   "display_name": "Python 3",
   "language": "python",
   "name": "python3"
  },
  "language_info": {
   "codemirror_mode": {
    "name": "ipython",
    "version": 3
   },
   "file_extension": ".py",
   "mimetype": "text/x-python",
   "name": "python",
   "nbconvert_exporter": "python",
   "pygments_lexer": "ipython3",
   "version": "3.7.2"
  }
 },
 "nbformat": 4,
 "nbformat_minor": 4
}
